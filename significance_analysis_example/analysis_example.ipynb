{
 "cells": [
  {
   "cell_type": "code",
   "execution_count": 1,
   "metadata": {},
   "outputs": [],
   "source": [
    "import pandas as pd\n",
    "from significance_analysis import dataframe_validator,model,glrt,seed_dependency_check, benchmark_information_check, fidelity_check, benchmark_clustering, cd_diagram\n",
    "\n",
    "# Load example dataset\n",
    "data = pd.read_parquet(\"datasets/priorband_data.parquet\")"
   ]
  },
  {
   "cell_type": "markdown",
   "metadata": {},
   "source": [
    "Firstly, we analyze the dataset for compatibility with our methods and if necessary convert columns to another data type."
   ]
  },
  {
   "cell_type": "code",
   "execution_count": 2,
   "metadata": {},
   "outputs": [
    {
     "name": "stdout",
     "output_type": "stream",
     "text": [
      "Converted column seed to object.\n"
     ]
    }
   ],
   "source": [
    "data = dataframe_validator(data)[0]"
   ]
  },
  {
   "cell_type": "markdown",
   "metadata": {},
   "source": [
    "We demonstrate our sanity checks with LMEM-based hypothesis testing."
   ]
  },
  {
   "cell_type": "code",
   "execution_count": 3,
   "metadata": {},
   "outputs": [],
   "source": [
    "# We check the dependency of the performances on the random seed\n",
    "\n",
    "seed_dependency_check(data)"
   ]
  },
  {
   "cell_type": "code",
   "execution_count": 4,
   "metadata": {},
   "outputs": [
    {
     "name": "stdout",
     "output_type": "stream",
     "text": [
      "\n",
      "Benchmark: LC-167190\n",
      "value~1 (12884.4064) << value~algorithm (13113.7332)\n",
      "Chi-Square: 458.65341885616, P-Value: 0.0\n",
      "=> Benchmark LC-167190    is informative.\n",
      "\n",
      "Benchmark: JAHS-C10\n",
      "value~1 (-25493.0466) << value~algorithm (-25478.2102)\n",
      "Chi-Square: 29.672838636499364, P-Value: 3.602673946945245e-07\n",
      "=> Benchmark JAHS-C10     is informative.\n",
      "\n",
      "Benchmark: LC-126026\n",
      "value~1 (12683.8569) << value~algorithm (12721.7273)\n",
      "Chi-Square: 75.74078563572402, P-Value: 0.0\n",
      "=> Benchmark LC-126026    is informative.\n",
      "\n",
      "Benchmark: PD1-Cifar100\n",
      "value~1 (3718.3627) << value~algorithm (3738.4751)\n",
      "Chi-Square: 40.224876708227384, P-Value: 1.8419549219217402e-09\n",
      "=> Benchmark PD1-Cifar100 is informative.\n",
      "\n",
      "Benchmark: PD1-ImageNet\n",
      "value~1 (5462.3515) << value~algorithm (5583.9874)\n",
      "Chi-Square: 243.2717470523712, P-Value: 0.0\n",
      "=> Benchmark PD1-ImageNet is informative.\n",
      "\n",
      "Benchmark: LC-168330\n",
      "value~1 (10267.6418) << value~algorithm (10362.9098)\n",
      "Chi-Square: 190.53600217378698, P-Value: 0.0\n",
      "=> Benchmark LC-168330    is informative.\n",
      "\n",
      "Benchmark: JAHS-CH\n",
      "value~1 (-25545.48) << value~algorithm (-25514.2256)\n",
      "Chi-Square: 62.50876848853659, P-Value: 2.6645352591003757e-14\n",
      "=> Benchmark JAHS-CH      is informative.\n",
      "\n",
      "Benchmark: LC-168910\n",
      "value~1 (7389.9171) << value~algorithm (7590.2161)\n",
      "Chi-Square: 400.5980704009635, P-Value: 0.0\n",
      "=> Benchmark LC-168910    is informative.\n",
      "\n",
      "Benchmark: PD1-LM1B\n",
      "value~1 (13272.0208) << value~algorithm (13475.6896)\n",
      "Chi-Square: 407.3375468719605, P-Value: 0.0\n",
      "=> Benchmark PD1-LM1B     is informative.\n",
      "\n",
      "Benchmark: PD1-WMT\n",
      "value~1 (7729.2786) << value~algorithm (7885.9814)\n",
      "Chi-Square: 313.40556506397843, P-Value: 0.0\n",
      "=> Benchmark PD1-WMT      is informative.\n",
      "\n",
      "Benchmark: JAHS-FM\n",
      "value~1 (-24979.2196) << value~algorithm (-24940.1688)\n",
      "Chi-Square: 78.1015741356241, P-Value: 0.0\n",
      "=> Benchmark JAHS-FM      is informative.\n",
      "\n",
      "Benchmark: LC-189906\n",
      "value~1 (6724.8666) << value~algorithm (6886.8469)\n",
      "Chi-Square: 323.96061828182064, P-Value: 0.0\n",
      "=> Benchmark LC-189906    is informative.\n"
     ]
    },
    {
     "data": {
      "text/plain": [
       "{'LC-167190': True,\n",
       " 'JAHS-C10': True,\n",
       " 'LC-126026': True,\n",
       " 'PD1-Cifar100': True,\n",
       " 'PD1-ImageNet': True,\n",
       " 'LC-168330': True,\n",
       " 'JAHS-CH': True,\n",
       " 'LC-168910': True,\n",
       " 'PD1-LM1B': True,\n",
       " 'PD1-WMT': True,\n",
       " 'JAHS-FM': True,\n",
       " 'LC-189906': True}"
      ]
     },
     "execution_count": 4,
     "metadata": {},
     "output_type": "execute_result"
    }
   ],
   "source": [
    "# For each benchmark, we check if the performances are significantly different\n",
    "\n",
    "benchmark_information_check(data)"
   ]
  },
  {
   "cell_type": "code",
   "execution_count": null,
   "metadata": {},
   "outputs": [
    {
     "name": "stdout",
     "output_type": "stream",
     "text": [
      "value~algorithm+(1|benchmark) (-244290.1072) << value~algorithm+(1|benchmark)+used_fidelity (-243312.5612)\n",
      "Chi-Square: 1955.0920213969657, P-Value: 0.0\n",
      "\n"
     ]
    }
   ],
   "source": [
    "# For model building, we check wether a fidelity increases the model's ability to predict the performance\n",
    "\n",
    "fidelity_check(data)"
   ]
  },
  {
   "cell_type": "markdown",
   "metadata": {},
   "source": [
    "Using the built model, we can now conduct performance analysis with a few simple calls."
   ]
  },
  {
   "cell_type": "code",
   "execution_count": 10,
   "metadata": {},
   "outputs": [
    {
     "name": "stdout",
     "output_type": "stream",
     "text": [
      "P-values adjusted by tukey method for family of 3 estimates\n",
      "\n"
     ]
    },
    {
     "data": {
      "image/png": "[encoded data removed]",
      "text/plain": [
       "<Figure size 400x140 with 1 Axes>"
      ]
     },
     "metadata": {},
     "output_type": "display_data"
    }
   ],
   "source": [
    "# We use the data of all benchmarks combined, at 10x budget\n",
    "df=data.loc[data[\"used_fidelity\"]==10]\n",
    "\n",
    "# Creating the model and running post-hoc analysis using the tukey HSD test\n",
    "mod=model(\"value ~ algorithm + (1|benchmark) + prior\",df)\n",
    "post_hoc_results=mod.post_hoc(\"algorithm\")\n",
    "\n",
    "# Plotting the results\n",
    "cd_diagram(post_hoc_results)\n",
    "\n",
    "print(\"\")"
   ]
  },
  {
   "cell_type": "code",
   "execution_count": null,
   "metadata": {},
   "outputs": [
    {
     "name": "stdout",
     "output_type": "stream",
     "text": [
      "9e+00      (9/24)\r"
     ]
    },
    {
     "name": "stderr",
     "output_type": "stream",
     "text": [
      "Exception ignored from cffi callback <function _callback at 0x00000181FFE7B130>:\n",
      "Traceback (most recent call last):\n",
      "  File \"c:\\Users\\lenak\\OFFLINE_FILES\\Anton\\Git\\significance_analysis\\.venv_3_10_0\\lib\\site-packages\\rpy2\\rinterface_lib\\callbacks.py\", line 330, in _callback\n",
      "    callback()\n",
      "  File \"c:\\Users\\lenak\\OFFLINE_FILES\\Anton\\Git\\significance_analysis\\.venv_3_10_0\\lib\\site-packages\\rpy2\\rinterface_lib\\callbacks.py\", line 319, in callback\n",
      "    def callback() -> None:\n",
      "KeyboardInterrupt: \n"
     ]
    }
   ],
   "source": [
    "scores = benchmark_clustering(data,(\"HB\",\"PB\"),\"prior\")"
   ]
  }
 ],
 "metadata": {
  "kernelspec": {
   "display_name": ".venv_3_10_0",
   "language": "python",
   "name": "python3"
  },
  "language_info": {
   "codemirror_mode": {
    "name": "ipython",
    "version": 3
   },
   "file_extension": ".py",
   "mimetype": "text/x-python",
   "name": "python",
   "nbconvert_exporter": "python",
   "pygments_lexer": "ipython3",
   "version": "3.10.0"
  }
 },
 "nbformat": 4,
 "nbformat_minor": 2
}
