{
 "cells": [
  {
   "cell_type": "code",
   "execution_count": 1,
   "metadata": {},
   "outputs": [
    {
     "name": "stdout",
     "output_type": "stream",
     "text": [
      "                                                                                   seed-0    seed-1    seed-2    seed-3    seed-4    seed-5    seed-6    seed-7    seed-8    seed-9   seed-10   seed-11   seed-12   seed-13   seed-14   seed-15   seed-16   seed-17   seed-18   seed-19   seed-20   seed-21   seed-22   seed-23   seed-24   seed-25   seed-26   seed-27   seed-28   seed-29   seed-30   seed-31   seed-32   seed-33   seed-34   seed-35   seed-36   seed-37   seed-38   seed-39   seed-40   seed-41   seed-42   seed-43   seed-44   seed-45   seed-46   seed-47   seed-48   seed-49\n",
      "benchmark      prior algorithm                                    used_fidelity                                                                                                                                                                                                                                                                                                                                                                                                                                                                                                                    \n",
      "lcbench-167190 bad   pb_mutation_dynamic_linear-default-at-target 1.000000       0.521580  0.521580  0.521580  0.521580  0.521580  0.521580  0.521580  0.521580  0.521580  0.521580  0.521580  0.521580  0.521580  0.521580  0.521580  0.521580  0.521580  0.521580  0.521580  0.521580  0.521580  0.521580  0.521580  0.521580  0.521580  0.521580  0.521580  0.521580  0.521580  0.521580  0.521580  0.521580  0.521580  0.521580  0.521580  0.521580  0.521580  0.521580  0.521580  0.521580  0.521580  0.521580  0.521580  0.521580  0.521580  0.521580  0.521580  0.521580  0.521580  0.521580\n",
      "                                                                  1.019231       0.445254  0.461218  0.509513  0.508200  0.446627  0.466726  0.513062  0.461038  0.508796  0.464837  0.484489  0.429274  0.456871  0.436047  0.475566  0.448518  0.479997  0.462406  0.458515  0.494119  0.446536  0.465185  0.484702  0.498725  0.445140  0.521580  0.510893  0.457890  0.481118  0.495387  0.508786  0.504330  0.507891  0.493120  0.511081  0.507216  0.496625  0.432121  0.450262  0.497408  0.521580  0.514443  0.462840  0.474355  0.459538  0.512165  0.512982  0.521580  0.507123  0.505890\n",
      "                                                                  1.038462       0.445254  0.442629  0.461113  0.508200  0.446627  0.466726  0.506023  0.443088  0.443944  0.464837  0.456487  0.429274  0.456871  0.436047  0.458248  0.448518  0.445001  0.462406  0.458515  0.453206  0.444746  0.465185  0.484702  0.498725  0.445140  0.474206  0.504118  0.457890  0.481118  0.458957  0.508786  0.498713  0.454083  0.493120  0.496839  0.498840  0.496625  0.432121  0.450262  0.459040  0.504634  0.510723  0.462840  0.458486  0.459538  0.461272  0.512982  0.479749  0.467347  0.505890\n",
      "                                                                  1.057692       0.443823  0.431065  0.461113  0.431991  0.446627  0.466726  0.476165  0.443088  0.443944  0.436413  0.456487  0.429274  0.456871  0.436047  0.458248  0.448518  0.445001  0.462406  0.434033  0.453206  0.444746  0.465185  0.441218  0.498725  0.445140  0.474206  0.504118  0.457890  0.455815  0.458957  0.508786  0.474527  0.454083  0.493120  0.496839  0.465947  0.469817  0.432121  0.450262  0.459040  0.503086  0.510723  0.462840  0.458486  0.459494  0.461272  0.499312  0.479749  0.467347  0.456664\n",
      "                                                                  1.076923       0.443823  0.431065  0.461113  0.431991  0.446627  0.466726  0.464414  0.443088  0.443944  0.436413  0.443641  0.429274  0.456871  0.436047  0.451918  0.448518  0.445001  0.462406  0.434033  0.453206  0.444746  0.465185  0.441218  0.498725  0.445140  0.474206  0.478018  0.457890  0.455815  0.458957  0.508786  0.470805  0.454083  0.470264  0.420841  0.465947  0.469817  0.432121  0.450262  0.459040  0.503086  0.432627  0.459717  0.458486  0.459494  0.461272  0.460680  0.479749  0.467347  0.443726\n",
      "...                                                                                   ...       ...       ...       ...       ...       ...       ...       ...       ...       ...       ...       ...       ...       ...       ...       ...       ...       ...       ...       ...       ...       ...       ...       ...       ...       ...       ...       ...       ...       ...       ...       ...       ...       ...       ...       ...       ...       ...       ...       ...       ...       ...       ...       ...       ...       ...       ...       ...       ...       ...\n",
      "lcbench-168330 at25  pb_mutation_dynamic_50-default-at-target     20.557692      0.389643  0.390303  0.401503  0.350458  0.358976  0.398832  0.310087  0.436582  0.356348  0.408356  0.394394  0.331875  0.318460  0.354632  0.397131  0.400136  0.402035  0.400515  0.414010  0.393967  0.337327  0.360593  0.348060  0.378570  0.392542  0.379228  0.390287  0.398531  0.388087  0.387151  0.383343  0.389735  0.320753  0.391016  0.374537  0.392566  0.396220  0.416236  0.384364  0.338533  0.384443  0.358633  0.395409  0.346048  0.325890  0.393372  0.390305  0.374969  0.403516  0.298454\n",
      "                                                                  21.230769      0.389643  0.390303  0.377352  0.350458  0.358976  0.398832  0.310087  0.436582  0.356348  0.408356  0.394394  0.331875  0.318460  0.354632  0.397131  0.400136  0.402035  0.400515  0.414010  0.393967  0.337327  0.360593  0.348060  0.378570  0.392542  0.379228  0.390287  0.398531  0.388087  0.387151  0.383343  0.389735  0.320753  0.391016  0.363663  0.392566  0.396220  0.416236  0.384364  0.338533  0.384443  0.358633  0.395409  0.346048  0.325890  0.393372  0.390305  0.374969  0.403516  0.298454\n",
      "                                                                  22.230769      0.389643  0.390303  0.377352  0.350458  0.358976  0.398832  0.310087  0.436582  0.356348  0.408356  0.394394  0.331875  0.318460  0.354632  0.397131  0.400136  0.402035  0.400515  0.414010  0.393967  0.337327  0.360593  0.348060  0.378570  0.392542  0.379228  0.390287  0.398531  0.388087  0.387151  0.383343  0.389735  0.320753  0.391016  0.363663  0.392566  0.388612  0.416236  0.384364  0.316684  0.384443  0.358633  0.395409  0.346048  0.325890  0.393372  0.390305  0.374969  0.403516  0.298454\n",
      "                                                                  23.230769      0.389643  0.390303  0.377352  0.350458  0.352589  0.398832  0.310087  0.404704  0.356348  0.408356  0.394394  0.331875  0.318460  0.339207  0.397131  0.395576  0.402035  0.400515  0.414010  0.393967  0.337327  0.360593  0.348060  0.378570  0.348946  0.349826  0.390287  0.398531  0.388087  0.387151  0.345084  0.389735  0.320753  0.391016  0.363663  0.392566  0.388612  0.416236  0.384364  0.316684  0.384443  0.358633  0.395409  0.346048  0.325890  0.393372  0.390305  0.374969  0.403516  0.298454\n",
      "                                                                  24.230769      0.389643  0.390303  0.377352  0.310371  0.352589  0.398832  0.310087  0.404704  0.356348  0.408356  0.394394  0.331875  0.313236  0.339207  0.397131  0.395576  0.392988  0.400515  0.414010  0.393967  0.337327  0.360593  0.348060  0.378570  0.348946  0.349826  0.390287  0.398531  0.388087  0.387151  0.335633  0.389735  0.320753  0.391016  0.363663  0.392566  0.387177  0.416236  0.384364  0.316684  0.384443  0.358633  0.395409  0.346048  0.325890  0.393372  0.389893  0.374969  0.403516  0.298454\n",
      "\n",
      "[91500 rows x 50 columns]\n",
      "              benchmark prior                                     algorithm  used_fidelity     value  seed\n",
      "0        lcbench-167190   bad  pb_mutation_dynamic_linear-default-at-target       1.000000  0.521580     0\n",
      "1        lcbench-167190   bad  pb_mutation_dynamic_linear-default-at-target       1.019231  0.445254     0\n",
      "2        lcbench-167190   bad  pb_mutation_dynamic_linear-default-at-target       1.038462  0.445254     0\n",
      "3        lcbench-167190   bad  pb_mutation_dynamic_linear-default-at-target       1.057692  0.443823     0\n",
      "4        lcbench-167190   bad  pb_mutation_dynamic_linear-default-at-target       1.076923  0.443823     0\n",
      "...                 ...   ...                                           ...            ...       ...   ...\n",
      "4574995  lcbench-168330  at25      pb_mutation_dynamic_50-default-at-target      20.557692  0.298454    49\n",
      "4574996  lcbench-168330  at25      pb_mutation_dynamic_50-default-at-target      21.230769  0.298454    49\n",
      "4574997  lcbench-168330  at25      pb_mutation_dynamic_50-default-at-target      22.230769  0.298454    49\n",
      "4574998  lcbench-168330  at25      pb_mutation_dynamic_50-default-at-target      23.230769  0.298454    49\n",
      "4574999  lcbench-168330  at25      pb_mutation_dynamic_50-default-at-target      24.230769  0.298454    49\n",
      "\n",
      "[4575000 rows x 6 columns]\n"
     ]
    }
   ],
   "source": [
    "import pandas as pd\n",
    "pd.set_option(\"chained_assignment\", None)\n",
    "pd.set_option(\"display.max_rows\", 5000)\n",
    "pd.set_option(\"display.max_columns\", 5000)\n",
    "pd.set_option(\"display.width\", 10000)\n",
    "\n",
    "\n",
    "df = pd.read_parquet(\"data_for_anton.parquet\")\n",
    "print(df)\n",
    "df_formatted=pd.DataFrame(columns=[\"benchmark\",\"prior\",\"algorithm\",\"fidelity\",\"seed\",\"score\"])\n",
    "df=df.reset_index()\n",
    "df_collection=[]\n",
    "for seed_nr in range(50):\n",
    "    partial_df=df[[\"benchmark\",\"prior\",\"algorithm\",\"used_fidelity\"]]\n",
    "    partial_df[\"value\"]=df[f\"seed-{seed_nr}\"]\n",
    "    partial_df[\"seed\"]=seed_nr\n",
    "    df_collection.append(partial_df)\n",
    "    print(f\"Seed {seed_nr+1}/50\", end=\"\\r\", flush=True)\n",
    "df_formatted=pd.concat(df_collection,ignore_index=True)\n",
    "print(df_formatted)"
   ]
  },
  {
   "cell_type": "code",
   "execution_count": 2,
   "metadata": {},
   "outputs": [
    {
     "name": "stdout",
     "output_type": "stream",
     "text": [
      "{'pb_mutation_dynamic_linear-default-at-target': 'pb_mutation', 'priorband_crossover_decay_linear': 'priorband_crossover', 'pb_mutation_decay_geometric_bo-no-default': 'pb_mutation', 'pb_mutation_dynamic_linear_bo': 'pb_mutation', 'pibo-no-default': 'bo', 'pb_mutation_constant_linear': 'pb_mutation', 'pb_hypersphere_dynamic_50': 'priorband_hypersphere', 'pb_mutation_constant_50': 'pb_mutation', 'priorband_hypersphere_dynamic-default-at-target': 'priorband_hypersphere', 'pb_mutation_decay_geometric-no-default': 'pb_mutation', 'bo': 'bo', 'bohb': 'bo', 'hb_inc': 'hb', 'pb_mutation_decay_geometric-default-at-target': 'pb_mutation', 'asha_hb_priorband': 'asha', 'hyperband_prior-no-default': 'hb', 'bo-10': 'bo', 'pb_mutation_decay_geometric_bo-default-at-target': 'pb_mutation', 'priorband_crossover_constant_linear': 'priorband_crossover', 'priorband_crossover_decay': 'priorband_crossover', 'pb_mutation_dynamic_linear': 'pb_mutation', 'pb_mutation_dynamic_geometric-no-default': 'pb_mutation', 'pb_hypersphere_dynamic_linear': 'priorband_hypersphere', 'priorband_crossover_dynamic-default-at-target': 'priorband_crossover', 'random_search_prior-50': 'random_search', 'hb_inc-50': 'hb', 'asha_priorband': 'asha', 'pb_mutation_dynamic_geometric_bo': 'pb_mutation', 'hyperband_prior': 'hb', 'hyperband_prior-default-at-target': 'hb', 'hyperband_prior-50': 'hb', 'random_search_prior': 'random_search', 'pb_mutation_decay_geometric': 'pb_mutation', 'pibo-default-first-10': 'bo', 'priorband_crossover_dynamic': 'priorband_crossover', 'pb_mutation_decay_linear': 'pb_mutation', 'random_search': 'random_search', 'pb_mutation_constant_geometric': 'pb_mutation', 'pb_mutation_dynamic_geometric_bo-default-at-target': 'pb_mutation', 'hyperband_prior_geom': 'hb', 'hyperband': 'hb', 'pb_mutation_dynamic_geometric-default-at-target': 'pb_mutation', 'priorband_bo': 'bo', 'priorband_hypersphere_decay': 'priorband_hypersphere', 'pb_mutation_dynamic_geometric_bo-no-default': 'pb_mutation', 'pb_mutation_dynamic_50_bo': 'pb_mutation', 'pb_mutation_decay_geometric_bo': 'pb_mutation', 'pb_mutation_decay_50': 'pb_mutation', 'pb_mutation_dynamic_50': 'pb_mutation', 'pb_hypersphere_dynamic_geometric': 'priorband_hypersphere', 'priorband_hypersphere_dynamic_linear': 'priorband_hypersphere', 'priorband_hypersphere_decay_linear': 'priorband_hypersphere', 'random_search_prior-no-default': 'random_search', 'pb_mutation_constant_geometric-default-at-target': 'pb_mutation', 'pb_mutation_dynamic_geometric': 'pb_mutation', 'pb_mutation_dynamic_50-default-at-target': 'pb_mutation'}\n",
      "58\n",
      "['pb_mutation' 'priorband_crossover' 'bo' 'priorband_hypersphere' 'hb'\n",
      " 'asha' 'random_search' 'priorband-50' 'priorband']\n"
     ]
    }
   ],
   "source": [
    "unique=list(df_formatted[\"algorithm\"].unique())\n",
    "dict={}\n",
    "for algo in df_formatted[\"algorithm\"].unique():\n",
    "    if \"pb_mutation\" in algo:\n",
    "        dict[algo]=\"pb_mutation\"\n",
    "        unique.remove(algo)\n",
    "    elif \"priorband_hypersphere\" in algo or \"pb_hypersphere\" in algo:\n",
    "        dict[algo]=\"priorband_hypersphere\"\n",
    "        unique.remove(algo)\n",
    "    elif \"priorband_crossover\" in algo or \"pb_crossover\" in algo:\n",
    "        dict[algo]=\"priorband_crossover\"\n",
    "        unique.remove(algo)\n",
    "    elif \"random_search\" in algo:\n",
    "        dict[algo]=\"random_search\"\n",
    "        unique.remove(algo)\n",
    "    elif \"bo\" in algo:\n",
    "        dict[algo]=\"bo\"\n",
    "        unique.remove(algo)\n",
    "    elif \"asha\" in algo:\n",
    "        dict[algo]=\"asha\"\n",
    "        unique.remove(algo)\n",
    "    elif \"hb\" in algo or \"hyperband\" in algo:\n",
    "        dict[algo]=\"hb\"\n",
    "        unique.remove(algo)\n",
    "print(dict)\n",
    "\n",
    "def map_values(value):\n",
    "    mapped_value = dict.get(value, value)\n",
    "    return mapped_value\n",
    "\n",
    "df_formatted[\"algorithm_family\"]=df_formatted['algorithm']\n",
    "print(len(df_formatted[\"algorithm_family\"].unique()))\n",
    "df_formatted[\"algorithm_family\"]=df_formatted['algorithm_family'].map(map_values)\n",
    "print(df_formatted[\"algorithm_family\"].unique())"
   ]
  },
  {
   "cell_type": "code",
   "execution_count": 3,
   "metadata": {},
   "outputs": [],
   "source": [
    "from pymer4 import Lmer\n",
    "from scipy import stats\n",
    "\n",
    "df_model=df_formatted#.loc[(df_formatted[\"algorithm_family\"]==\"pb_mutation\")|(df_formatted[\"algorithm_family\"]==\"random_search\")]\n",
    "\n",
    "def create_model(system_id:str=\"algorithm\",fidelity_type:int=0):\n",
    "    metric=\"value\"\n",
    "    input_id=\"benchmark\"\n",
    "    fidelity=\"used_fidelity\"\n",
    "    df_model[input_id]=df_model[input_id].astype(str)\n",
    "    df_model[system_id]=df_model[system_id].astype(str)\n",
    "    df_model[metric]=df_model[metric].astype(float)\n",
    "    df_model[fidelity]=df_model[fidelity].astype(float)\n",
    "\n",
    "    \n",
    "    if fidelity_type==0:\n",
    "        model = Lmer(\n",
    "            formula=f\"{metric}~{system_id} + (1|{input_id})\", data=df_model\n",
    "        )\n",
    "    elif fidelity_type== 1:\n",
    "        model = Lmer(\n",
    "            formula=f\"{metric}~{system_id} + (1|{fidelity})+ (1|{input_id})\", data=df_model\n",
    "        )\n",
    "    elif fidelity_type== 2:\n",
    "        model = Lmer(\n",
    "            formula=f\"{metric}~{system_id} + {fidelity}+ (1|{input_id})\", data=df_model\n",
    "        )\n",
    "    model.fit(\n",
    "        factors={system_id: list(df_model[system_id].unique())},\n",
    "        REML=False,\n",
    "        summarize=False,\n",
    "        verbose=True)\n",
    "    return model\n",
    "\n",
    "def glrt(mod1: Lmer, mod2: Lmer):\n",
    "    chi_square = 2 * abs(mod1.logLike - mod2.logLike)\n",
    "    delta_params = abs(len(mod1.coefs) - len(mod2.coefs))\n",
    "    return {\n",
    "        \"chi_square\": chi_square,\n",
    "        \"df\": delta_params,\n",
    "        \"p\": 1 - stats.chi2.cdf(chi_square, df=delta_params),\n",
    "    }\n",
    "\n"
   ]
  },
  {
   "cell_type": "code",
   "execution_count": 4,
   "metadata": {},
   "outputs": [
    {
     "name": "stdout",
     "output_type": "stream",
     "text": [
      "Fitting linear model using lmer with Wald confidence intervals...\n",
      "\n",
      "**NOTE**: Column for 'residuals' not created in model.data, but saved in model.resid only. This is because you have rows with NaNs in your data.\n",
      "\n",
      "**NOTE** Column for 'fits' not created in model.data, but saved in model.fits only. This is because you have rows with NaNs in your data.\n",
      "\n",
      "Fitting linear model using lmer with Wald confidence intervals...\n",
      "\n"
     ]
    },
    {
     "name": "stderr",
     "output_type": "stream",
     "text": [
      "Exception ignored from cffi callback <function _callback at 0x000001CB3DB74E50>:\n",
      "Traceback (most recent call last):\n",
      "  File \"c:\\Users\\Amega\\Git\\significance_analysis\\.venv_3_10_0\\lib\\site-packages\\rpy2\\rinterface_lib\\callbacks.py\", line 330, in _callback\n",
      "    callback()\n",
      "  File \"c:\\Users\\Amega\\Git\\significance_analysis\\.venv_3_10_0\\lib\\site-packages\\rpy2\\rinterface_lib\\callbacks.py\", line 319, in callback\n",
      "    def callback() -> None:\n",
      "KeyboardInterrupt: \n"
     ]
    },
    {
     "name": "stdout",
     "output_type": "stream",
     "text": [
      "**NOTE**: Column for 'residuals' not created in model.data, but saved in model.resid only. This is because you have rows with NaNs in your data.\n",
      "\n",
      "**NOTE** Column for 'fits' not created in model.data, but saved in model.fits only. This is because you have rows with NaNs in your data.\n",
      "\n"
     ]
    }
   ],
   "source": [
    "import pymer4\n",
    "no_fidelity_model_algo=create_model()\n",
    "linear_fidelity_model_algo=create_model(fidelity_type=1)\n",
    "grouped_fidelity_model_algo=create_model(fidelity_type=2)"
   ]
  },
  {
   "cell_type": "code",
   "execution_count": null,
   "metadata": {},
   "outputs": [
    {
     "ename": "MemoryError",
     "evalue": "",
     "output_type": "error",
     "traceback": [
      "\u001b[1;31m---------------------------------------------------------------------------\u001b[0m",
      "\u001b[1;31mMemoryError\u001b[0m                               Traceback (most recent call last)",
      "\u001b[1;32mc:\\Users\\Amega\\Git\\significance_analysis\\significance_analysis_example\\priorband_analysis.ipynb Cell 5\u001b[0m line \u001b[0;36m1\n\u001b[1;32m----> <a href='vscode-notebook-cell:/c%3A/Users/Amega/Git/significance_analysis/significance_analysis_example/priorband_analysis.ipynb#X20sZmlsZQ%3D%3D?line=0'>1</a>\u001b[0m no_fidelity_model\u001b[39m=\u001b[39mpymer4\u001b[39m.\u001b[39;49mio\u001b[39m.\u001b[39;49mload_model(\u001b[39m\"\u001b[39;49m\u001b[39mno_fidelity_model.joblib\u001b[39;49m\u001b[39m\"\u001b[39;49m)\n",
      "File \u001b[1;32mc:\\Users\\Amega\\Git\\significance_analysis\\.venv_3_10_0\\lib\\site-packages\\pymer4\\io.py:54\u001b[0m, in \u001b[0;36mload_model\u001b[1;34m(filepath)\u001b[0m\n\u001b[0;32m     51\u001b[0m rds_file \u001b[39m=\u001b[39m filepath\u001b[39m.\u001b[39mreplace(\u001b[39m\"\u001b[39m\u001b[39m.joblib\u001b[39m\u001b[39m\"\u001b[39m, \u001b[39m\"\u001b[39m\u001b[39m.rds\u001b[39m\u001b[39m\"\u001b[39m)\n\u001b[0;32m     53\u001b[0m \u001b[39m# Load python object\u001b[39;00m\n\u001b[1;32m---> 54\u001b[0m model \u001b[39m=\u001b[39m load(filepath)\n\u001b[0;32m     56\u001b[0m \u001b[39m# Now deal with model object in R if needed\u001b[39;00m\n\u001b[0;32m     57\u001b[0m \u001b[39mif\u001b[39;00m \u001b[39misinstance\u001b[39m(model, Lmer):\n",
      "File \u001b[1;32mc:\\Users\\Amega\\Git\\significance_analysis\\.venv_3_10_0\\lib\\site-packages\\joblib\\numpy_pickle.py:658\u001b[0m, in \u001b[0;36mload\u001b[1;34m(filename, mmap_mode)\u001b[0m\n\u001b[0;32m    652\u001b[0m             \u001b[39mif\u001b[39;00m \u001b[39misinstance\u001b[39m(fobj, \u001b[39mstr\u001b[39m):\n\u001b[0;32m    653\u001b[0m                 \u001b[39m# if the returned file object is a string, this means we\u001b[39;00m\n\u001b[0;32m    654\u001b[0m                 \u001b[39m# try to load a pickle file generated with an version of\u001b[39;00m\n\u001b[0;32m    655\u001b[0m                 \u001b[39m# Joblib so we load it with joblib compatibility function.\u001b[39;00m\n\u001b[0;32m    656\u001b[0m                 \u001b[39mreturn\u001b[39;00m load_compatibility(fobj)\n\u001b[1;32m--> 658\u001b[0m             obj \u001b[39m=\u001b[39m _unpickle(fobj, filename, mmap_mode)\n\u001b[0;32m    659\u001b[0m \u001b[39mreturn\u001b[39;00m obj\n",
      "File \u001b[1;32mc:\\Users\\Amega\\Git\\significance_analysis\\.venv_3_10_0\\lib\\site-packages\\joblib\\numpy_pickle.py:577\u001b[0m, in \u001b[0;36m_unpickle\u001b[1;34m(fobj, filename, mmap_mode)\u001b[0m\n\u001b[0;32m    575\u001b[0m obj \u001b[39m=\u001b[39m \u001b[39mNone\u001b[39;00m\n\u001b[0;32m    576\u001b[0m \u001b[39mtry\u001b[39;00m:\n\u001b[1;32m--> 577\u001b[0m     obj \u001b[39m=\u001b[39m unpickler\u001b[39m.\u001b[39;49mload()\n\u001b[0;32m    578\u001b[0m     \u001b[39mif\u001b[39;00m unpickler\u001b[39m.\u001b[39mcompat_mode:\n\u001b[0;32m    579\u001b[0m         warnings\u001b[39m.\u001b[39mwarn(\u001b[39m\"\u001b[39m\u001b[39mThe file \u001b[39m\u001b[39m'\u001b[39m\u001b[39m%s\u001b[39;00m\u001b[39m'\u001b[39m\u001b[39m has been generated with a \u001b[39m\u001b[39m\"\u001b[39m\n\u001b[0;32m    580\u001b[0m                       \u001b[39m\"\u001b[39m\u001b[39mjoblib version less than 0.10. \u001b[39m\u001b[39m\"\u001b[39m\n\u001b[0;32m    581\u001b[0m                       \u001b[39m\"\u001b[39m\u001b[39mPlease regenerate this pickle file.\u001b[39m\u001b[39m\"\u001b[39m\n\u001b[0;32m    582\u001b[0m                       \u001b[39m%\u001b[39m filename,\n\u001b[0;32m    583\u001b[0m                       \u001b[39mDeprecationWarning\u001b[39;00m, stacklevel\u001b[39m=\u001b[39m\u001b[39m3\u001b[39m)\n",
      "File \u001b[1;32m~\\.pyenv\\pyenv-win\\versions\\3.10.0\\lib\\pickle.py:1213\u001b[0m, in \u001b[0;36m_Unpickler.load\u001b[1;34m(self)\u001b[0m\n\u001b[0;32m   1211\u001b[0m             \u001b[39mraise\u001b[39;00m \u001b[39mEOFError\u001b[39;00m\n\u001b[0;32m   1212\u001b[0m         \u001b[39massert\u001b[39;00m \u001b[39misinstance\u001b[39m(key, bytes_types)\n\u001b[1;32m-> 1213\u001b[0m         dispatch[key[\u001b[39m0\u001b[39;49m]](\u001b[39mself\u001b[39;49m)\n\u001b[0;32m   1214\u001b[0m \u001b[39mexcept\u001b[39;00m _Stop \u001b[39mas\u001b[39;00m stopinst:\n\u001b[0;32m   1215\u001b[0m     \u001b[39mreturn\u001b[39;00m stopinst\u001b[39m.\u001b[39mvalue\n",
      "File \u001b[1;32m~\\.pyenv\\pyenv-win\\versions\\3.10.0\\lib\\pickle.py:1383\u001b[0m, in \u001b[0;36m_Unpickler.load_binbytes8\u001b[1;34m(self)\u001b[0m\n\u001b[0;32m   1380\u001b[0m \u001b[39mif\u001b[39;00m \u001b[39mlen\u001b[39m \u001b[39m>\u001b[39m maxsize:\n\u001b[0;32m   1381\u001b[0m     \u001b[39mraise\u001b[39;00m UnpicklingError(\u001b[39m\"\u001b[39m\u001b[39mBINBYTES8 exceeds system\u001b[39m\u001b[39m'\u001b[39m\u001b[39ms maximum size \u001b[39m\u001b[39m\"\u001b[39m\n\u001b[0;32m   1382\u001b[0m                           \u001b[39m\"\u001b[39m\u001b[39mof \u001b[39m\u001b[39m%d\u001b[39;00m\u001b[39m bytes\u001b[39m\u001b[39m\"\u001b[39m \u001b[39m%\u001b[39m maxsize)\n\u001b[1;32m-> 1383\u001b[0m \u001b[39mself\u001b[39m\u001b[39m.\u001b[39mappend(\u001b[39mself\u001b[39;49m\u001b[39m.\u001b[39;49mread(\u001b[39mlen\u001b[39;49m))\n",
      "File \u001b[1;32m~\\.pyenv\\pyenv-win\\versions\\3.10.0\\lib\\pickle.py:298\u001b[0m, in \u001b[0;36m_Unframer.read\u001b[1;34m(self, n)\u001b[0m\n\u001b[0;32m    296\u001b[0m     \u001b[39mreturn\u001b[39;00m data\n\u001b[0;32m    297\u001b[0m \u001b[39melse\u001b[39;00m:\n\u001b[1;32m--> 298\u001b[0m     \u001b[39mreturn\u001b[39;00m \u001b[39mself\u001b[39;49m\u001b[39m.\u001b[39;49mfile_read(n)\n",
      "\u001b[1;31mMemoryError\u001b[0m: "
     ]
    }
   ],
   "source": [
    "no_fidelity_model_fam=create_model(\"algorithm_family\")\n",
    "linear_fidelity_model_fam=create_model(\"algorithm_family\",fidelity_type=1)\n",
    "grouped_fidelity_model_fam=create_model(\"algorithm_family\",fidelity_type=2)"
   ]
  },
  {
   "cell_type": "code",
   "execution_count": null,
   "metadata": {},
   "outputs": [
    {
     "name": "stdout",
     "output_type": "stream",
     "text": [
      "-15028642.610372543\n",
      "-14863213.621768337\n",
      "-12658194.31341048\n",
      "GLRT: No fidelity vs. grouped:\n",
      "{'chi_square': 4740896.5939241275, 'df': 0, 'p': nan}\n",
      "GLRT: No fidelity vs. linear:\n",
      "{'chi_square': 330857.9772084132, 'df': 1, 'p': 0.0}\n",
      "GLRT: Grouped fidelity vs. linear:\n",
      "{'chi_square': 4410038.616715714, 'df': 1, 'p': 0.0}\n"
     ]
    }
   ],
   "source": [
    "print(no_fidelity_model_algo.logLike)\n",
    "print(linear_fidelity_model_algo.logLike)\n",
    "print(grouped_fidelity_model_algo.logLike)\n",
    "\n",
    "print(\"GLRT: No fidelity vs. grouped:\")\n",
    "print(glrt(no_fidelity_model_algo,grouped_fidelity_model_algo),end=\"\\n\")\n",
    "print(\"GLRT: No fidelity vs. linear:\")\n",
    "print(glrt(no_fidelity_model_algo,linear_fidelity_model_algo),end=\"\\n\")\n",
    "print(\"GLRT: Grouped fidelity vs. linear:\")\n",
    "print(glrt(linear_fidelity_model_algo,grouped_fidelity_model_algo),end=\"\\n\")"
   ]
  },
  {
   "cell_type": "code",
   "execution_count": null,
   "metadata": {},
   "outputs": [],
   "source": [
    "print(no_fidelity_model_fam.logLike)\n",
    "print(linear_fidelity_model_fam.logLike)\n",
    "print(grouped_fidelity_model_fam.logLike)\n",
    "\n",
    "print(\"GLRT: No fidelity vs. grouped:\")\n",
    "print(glrt(no_fidelity_model_fam,grouped_fidelity_model_fam),end=\"\\n\")\n",
    "print(\"GLRT: No fidelity vs. linear:\")\n",
    "print(glrt(no_fidelity_model_fam,linear_fidelity_model_fam),end=\"\\n\")\n",
    "print(\"GLRT: Grouped fidelity vs. linear:\")\n",
    "print(glrt(linear_fidelity_model_fam,grouped_fidelity_model_fam),end=\"\\n\")"
   ]
  }
 ],
 "metadata": {
  "kernelspec": {
   "display_name": ".venv_3_10_0",
   "language": "python",
   "name": "python3"
  },
  "language_info": {
   "codemirror_mode": {
    "name": "ipython",
    "version": 3
   },
   "file_extension": ".py",
   "mimetype": "text/x-python",
   "name": "python",
   "nbconvert_exporter": "python",
   "pygments_lexer": "ipython3",
   "version": "3.10.0"
  },
  "orig_nbformat": 4
 },
 "nbformat": 4,
 "nbformat_minor": 2
}
