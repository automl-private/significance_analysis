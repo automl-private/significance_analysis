{
 "cells": [
  {
   "cell_type": "code",
   "execution_count": 1,
   "metadata": {},
   "outputs": [],
   "source": [
    "import pandas as pd\n",
    "\n",
    "from significance_analysis import conduct_analysis\n",
    "\n",
    "# Load example dataset\n",
    "data = pd.read_csv(\"./example_dataset.csv\")"
   ]
  },
  {
   "cell_type": "code",
   "execution_count": 35,
   "metadata": {},
   "outputs": [
    {
     "name": "stdout",
     "output_type": "stream",
     "text": [
      "1\n",
      "10.0\n",
      "2\n",
      "5.0\n",
      "3\n",
      "3.0\n",
      "4\n",
      "2.0\n",
      "5\n",
      "2.0\n",
      "6\n",
      "1.0\n",
      "7\n",
      "1.0\n",
      "8\n",
      "1.0\n",
      "9\n",
      "1.0\n"
     ]
    },
    {
     "data": {
      "text/plain": [
       "[[1,\n",
       "  0.10685563910829603,\n",
       "  -0.053147658423887995,\n",
       "  -0.053147658423887995,\n",
       "  -0.10831982905601217,\n",
       "  -0.10831982905601217,\n",
       "  -0.10831982905601217,\n",
       "  -0.10831982905601217,\n",
       "  -0.11244243682070536,\n",
       "  -0.11244243682070536],\n",
       " [1,\n",
       "  0.006826970898741208,\n",
       "  -0.04203114071305512,\n",
       "  -0.04203114071305512,\n",
       "  -0.04203114071305512,\n",
       "  -0.04203114071305512,\n",
       "  -0.04203114071305512,\n",
       "  -0.04203114071305512,\n",
       "  -0.051178361822797676,\n",
       "  -0.051178361822797676],\n",
       " [1, 0.04488042041040097, 0.04488042041040097, 0.04488042041040097],\n",
       " [1,\n",
       "  0.13520196490656775,\n",
       "  0.012430503346165158,\n",
       "  0.012430503346165158,\n",
       "  -0.04061062701744197,\n",
       "  -0.04061062701744197]]"
      ]
     },
     "execution_count": 35,
     "metadata": {},
     "output_type": "execute_result"
    }
   ],
   "source": [
    "import numpy as np\n",
    "import matplotlib.pyplot as plt\n",
    "def algo_simulator(budget:int,workers_power:int,quality:float,noise:float):\n",
    "    runs=[]\n",
    "    for i in range((2**workers_power)):\n",
    "        runs.append([1])\n",
    "    for i in range(1,budget):\n",
    "        #print(f\"Budget: {budget-i}\")\n",
    "        print(i)\n",
    "        multiplier=np.floor(budget/i)\n",
    "        print(multiplier)\n",
    "        current_workers=multiplier#(2**workers_power)*(multiplier-1)/multiplier\n",
    "        latest_entries=[]\n",
    "        for run in runs:\n",
    "            latest_entries.append(run[-1])\n",
    "        latest_entries.sort()\n",
    "        for index,run in enumerate(runs):\n",
    "            if latest_entries.index(run[-1])<=current_workers:\n",
    "                new_point=(np.exp(-quality*i)+np.random.normal(size=1,scale=noise))[0]\n",
    "                runs[index].append(min([run[-1],new_point]))\n",
    "    return runs\n",
    "\n",
    "algo_simulator(10,2,2,0.1)"
   ]
  },
  {
   "cell_type": "code",
   "execution_count": 31,
   "metadata": {},
   "outputs": [
    {
     "name": "stdout",
     "output_type": "stream",
     "text": [
      "20.0\n",
      "20.0\n",
      "10.0\n",
      "10.0\n",
      "6.0\n",
      "6.0\n",
      "5.0\n",
      "5.0\n",
      "4.0\n",
      "4.0\n",
      "3.0\n",
      "3.0\n",
      "2.0\n",
      "2.0\n",
      "2.0\n",
      "2.0\n",
      "2.0\n",
      "2.0\n",
      "2.0\n",
      "2.0\n",
      "1.0\n",
      "1.0\n",
      "1.0\n",
      "1.0\n",
      "1.0\n",
      "1.0\n",
      "1.0\n",
      "1.0\n",
      "1.0\n",
      "1.0\n",
      "1.0\n",
      "1.0\n",
      "1.0\n",
      "1.0\n",
      "1.0\n",
      "1.0\n",
      "1.0\n",
      "1.0\n",
      "20\n",
      "20\n",
      "11\n",
      "6\n",
      "5\n",
      "4\n",
      "7\n",
      "3\n"
     ]
    },
    {
     "data": {
      "image/png": "[encoded data removed]",
      "text/plain": [
       "<Figure size 1000x600 with 1 Axes>"
      ]
     },
     "metadata": {},
     "output_type": "display_data"
    }
   ],
   "source": [
    "max_budget=20\n",
    "number_of_splits=10\n",
    "number_of_workers_power=3\n",
    "quality=[0.5]#,0.6,2]\n",
    "noise=0.5\n",
    "\n",
    "points=list(set(np.round(np.linspace(max_budget,number_of_splits))))\n",
    "runs=[]\n",
    "for algo_number in range(len(quality)):\n",
    "    run=algo_simulator(budget=max_budget,workers_power=number_of_workers_power,quality=quality[algo_number],noise=noise)\n",
    "    runs+=run\n",
    "\n",
    "x_data=[]\n",
    "y_data=[]\n",
    "for run in runs:\n",
    "    print(len(run))\n",
    "    x_data.append([])\n",
    "    y_data.append([])\n",
    "    for point in points:\n",
    "        if len(run)>point:\n",
    "            x_data[-1].append(run[int(point)])\n",
    "            y_data[-1].append(point)\n",
    "\n",
    "\n",
    "\n",
    "_, axis = plt.subplots(figsize=(10, 6))\n",
    "for number,group in enumerate(x_data):\n",
    "    axis.errorbar(\n",
    "        y_data[number],\n",
    "        group,\n",
    "        fmt=\"o-\",\n",
    "        capsize=3,\n",
    "    )\n",
    "plt.show()"
   ]
  },
  {
   "cell_type": "code",
   "execution_count": 16,
   "metadata": {},
   "outputs": [
    {
     "name": "stdout",
     "output_type": "stream",
     "text": [
      "[[3, 2, 0.45], [3, 0.5, 0.5], [3, 3, 0.6], [4, 4, 0.25]]\n",
      "Run 2 out! [3, 3, 0.6]\n",
      "[[3, 2, 0.45, 0.2], [3, 0.5, 0.5, 0.45], [3, 3, 0.6], [4, 4, 0.25, 0.25]]\n",
      "Run 1 out! [3, 0.5, 0.5, 0.45]\n",
      "Run 2 out! [3, 3, 0.6]\n",
      "[[3, 2, 0.45, 0.2, 0.2], [3, 0.5, 0.5, 0.45], [3, 3, 0.6], [4, 4, 0.25, 0.25, 0.0]]\n",
      "Run 0 out! [3, 2, 0.45, 0.2, 0.2]\n",
      "Run 1 out! [3, 0.5, 0.5, 0.45]\n",
      "Run 2 out! [3, 3, 0.6]\n",
      "[[3, 2, 0.45, 0.2, 0.2], [3, 0.5, 0.5, 0.45], [3, 3, 0.6], [4, 4, 0.25, 0.25, 0.0, 0.0]]\n"
     ]
    }
   ],
   "source": [
    "runs=[[3,2],[3,0.5],[3,3],[4,4]]\n",
    "import random\n",
    "\n",
    "#for current_workers in [4,3,2,1]:\n",
    "\n",
    "budget=4\n",
    "for current_budget in range(budget):\n",
    "    \n",
    "\n",
    "latest_entries=[]\n",
    "for run in runs:\n",
    "    latest_entries.append(run[-1])\n",
    "candidates=latest_entries.copy()\n",
    "latest_entries.sort()\n",
    "for index,run in enumerate(runs):\n",
    "    if latest_entries.index(run[-1])<current_workers#:\n",
    "        runs[index].append(min([run[-1],random.randint(0,20)/20]))\n",
    "    else:\n",
    "        print(f\"Run {index} out! {run}\")\n",
    "\n",
    "    print(runs)"
   ]
  }
 ],
 "metadata": {
  "kernelspec": {
   "display_name": ".venv_3_10_0",
   "language": "python",
   "name": "python3"
  },
  "language_info": {
   "codemirror_mode": {
    "name": "ipython",
    "version": 3
   },
   "file_extension": ".py",
   "mimetype": "text/x-python",
   "name": "python",
   "nbconvert_exporter": "python",
   "pygments_lexer": "ipython3",
   "version": "3.10.0"
  },
  "orig_nbformat": 4
 },
 "nbformat": 4,
 "nbformat_minor": 2
}
