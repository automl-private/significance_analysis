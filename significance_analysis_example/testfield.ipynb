{
 "cells": [
  {
   "cell_type": "code",
   "execution_count": 1,
   "metadata": {},
   "outputs": [],
   "source": [
    "import pandas as pd\n",
    "\n",
    "from significance_analysis import conduct_analysis\n",
    "\n",
    "# Load example dataset\n",
    "data = pd.read_csv(\"./example_dataset.csv\")"
   ]
  },
  {
   "cell_type": "code",
   "execution_count": 2,
   "metadata": {},
   "outputs": [
    {
     "name": "stdout",
     "output_type": "stream",
     "text": [
      "P-value: 0.0\n",
      "\n",
      "As the p-value 0.0 is smaller than 0.05, we can reject the Null-Hypothesis that the model that does not consider the acquisition and the budget describes the data as well as the one that does. Therefore there is significant difference within acquisition and the budget.\n",
      "\n",
      "P-values adjusted by tukey method for family of 36 estimates\n",
      "The best performing acquisition in budget-class 0_9 is ProbabilityOfImprovement, but ['ExpectedImprovement', 'qExpectedImprovement', 'qProbabilityOfImprovement', 'qSimpleRegret', 'qUpperConfidenceBound', 'randomSearch'] are only insignificantly worse.\n",
      "\n",
      "The best performing acquisition in budget-class 9_20 is ExpectedImprovement, but ['ProbabilityOfImprovement', 'UpperConfidenceBound', 'qExpectedImprovement', 'qKnowledgeGradient', 'qSimpleRegret', 'qUpperConfidenceBound'] are only insignificantly worse.\n",
      "\n",
      "The best performing acquisition in budget-class 20_35 is qExpectedImprovement, but ['ExpectedImprovement', 'UpperConfidenceBound', 'qSimpleRegret', 'qUpperConfidenceBound'] are only insignificantly worse.\n",
      "\n",
      "The best performing acquisition in budget-class 35_45 is ExpectedImprovement, but ['ProbabilityOfImprovement', 'UpperConfidenceBound', 'qExpectedImprovement', 'qSimpleRegret', 'qUpperConfidenceBound'] are only insignificantly worse.\n",
      "\n",
      "The best performing acquisition in budget-class 45_49 is ExpectedImprovement, but ['ProbabilityOfImprovement', 'UpperConfidenceBound', 'qExpectedImprovement', 'qKnowledgeGradient', 'qProbabilityOfImprovement', 'qSimpleRegret', 'qUpperConfidenceBound'] are only insignificantly worse.\n",
      "\n"
     ]
    },
    {
     "ename": "KeyError",
     "evalue": "'Contrast'",
     "output_type": "error",
     "traceback": [
      "\u001b[1;31m---------------------------------------------------------------------------\u001b[0m",
      "\u001b[1;31mKeyError\u001b[0m                                  Traceback (most recent call last)",
      "File \u001b[1;32mc:\\Users\\Amega\\Git\\significance_analysis\\.venv_3_10_0\\lib\\site-packages\\pandas\\core\\indexes\\base.py:3802\u001b[0m, in \u001b[0;36mIndex.get_loc\u001b[1;34m(self, key, method, tolerance)\u001b[0m\n\u001b[0;32m   3801\u001b[0m \u001b[39mtry\u001b[39;00m:\n\u001b[1;32m-> 3802\u001b[0m     \u001b[39mreturn\u001b[39;00m \u001b[39mself\u001b[39;49m\u001b[39m.\u001b[39;49m_engine\u001b[39m.\u001b[39;49mget_loc(casted_key)\n\u001b[0;32m   3803\u001b[0m \u001b[39mexcept\u001b[39;00m \u001b[39mKeyError\u001b[39;00m \u001b[39mas\u001b[39;00m err:\n",
      "File \u001b[1;32mc:\\Users\\Amega\\Git\\significance_analysis\\.venv_3_10_0\\lib\\site-packages\\pandas\\_libs\\index.pyx:138\u001b[0m, in \u001b[0;36mpandas._libs.index.IndexEngine.get_loc\u001b[1;34m()\u001b[0m\n",
      "File \u001b[1;32mc:\\Users\\Amega\\Git\\significance_analysis\\.venv_3_10_0\\lib\\site-packages\\pandas\\_libs\\index.pyx:165\u001b[0m, in \u001b[0;36mpandas._libs.index.IndexEngine.get_loc\u001b[1;34m()\u001b[0m\n",
      "File \u001b[1;32mpandas\\_libs\\hashtable_class_helper.pxi:5745\u001b[0m, in \u001b[0;36mpandas._libs.hashtable.PyObjectHashTable.get_item\u001b[1;34m()\u001b[0m\n",
      "File \u001b[1;32mpandas\\_libs\\hashtable_class_helper.pxi:5753\u001b[0m, in \u001b[0;36mpandas._libs.hashtable.PyObjectHashTable.get_item\u001b[1;34m()\u001b[0m\n",
      "\u001b[1;31mKeyError\u001b[0m: 'Contrast'",
      "\nThe above exception was the direct cause of the following exception:\n",
      "\u001b[1;31mKeyError\u001b[0m                                  Traceback (most recent call last)",
      "Cell \u001b[1;32mIn[2], line 4\u001b[0m\n\u001b[0;32m      1\u001b[0m \u001b[39m# Second Analysis: Analyse performance of acquisition functions over all benchmarks binned by trainingrounds,\u001b[39;00m\n\u001b[0;32m      2\u001b[0m \u001b[39m# i.e. performance in the first 8, the next 12, the next 15, the next 10 and the final 5 rounds.\u001b[39;00m\n\u001b[0;32m      3\u001b[0m \u001b[39m# Does not print the results, only shows plots.\u001b[39;00m\n\u001b[1;32m----> 4\u001b[0m conduct_analysis(\n\u001b[0;32m      5\u001b[0m     data,\n\u001b[0;32m      6\u001b[0m     \u001b[39m\"\u001b[39;49m\u001b[39mmean\u001b[39;49m\u001b[39m\"\u001b[39;49m,\n\u001b[0;32m      7\u001b[0m     \u001b[39m\"\u001b[39;49m\u001b[39macquisition\u001b[39;49m\u001b[39m\"\u001b[39;49m,\n\u001b[0;32m      8\u001b[0m     \u001b[39m\"\u001b[39;49m\u001b[39mbenchmark\u001b[39;49m\u001b[39m\"\u001b[39;49m,\n\u001b[0;32m      9\u001b[0m     bin_id\u001b[39m=\u001b[39;49m\u001b[39m\"\u001b[39;49m\u001b[39mbudget\u001b[39;49m\u001b[39m\"\u001b[39;49m,\n\u001b[0;32m     10\u001b[0m     bins\u001b[39m=\u001b[39;49m[\u001b[39m9\u001b[39;49m, \u001b[39m20\u001b[39;49m, \u001b[39m35\u001b[39;49m, \u001b[39m45\u001b[39;49m],\n\u001b[0;32m     11\u001b[0m     summarize\u001b[39m=\u001b[39;49m\u001b[39mFalse\u001b[39;49;00m,\n\u001b[0;32m     12\u001b[0m     show_plots\u001b[39m=\u001b[39;49m\u001b[39mFalse\u001b[39;49;00m,\n\u001b[0;32m     13\u001b[0m     significance_plot\u001b[39m=\u001b[39;49m\u001b[39mTrue\u001b[39;49;00m\n\u001b[0;32m     14\u001b[0m )\n",
      "File \u001b[1;32m~\\Git\\significance_analysis\\src\\significance_analysis\\significance_analysis_function.py:439\u001b[0m, in \u001b[0;36mconduct_analysis\u001b[1;34m(data, metric, system_id, input_id, bin_id, bins, bin_labels, subset, show_plots, summarize, show_contrasts, significance_plot)\u001b[0m\n\u001b[0;32m    435\u001b[0m _, axis \u001b[39m=\u001b[39m plt\u001b[39m.\u001b[39msubplots(figsize\u001b[39m=\u001b[39m(\u001b[39m10\u001b[39m, \u001b[39m6\u001b[39m))\n\u001b[0;32m    436\u001b[0m \u001b[39m# for sys_id, group in post_hoc_results[0].groupby(system_id):\u001b[39;00m\n\u001b[0;32m    437\u001b[0m axis\u001b[39m.\u001b[39merrorbar(\n\u001b[0;32m    438\u001b[0m     contrasts\u001b[39m.\u001b[39mloc[\n\u001b[1;32m--> 439\u001b[0m         contrasts[\u001b[39m\"\u001b[39;49m\u001b[39mContrast\u001b[39;49m\u001b[39m\"\u001b[39;49m] \u001b[39m==\u001b[39m contrasts[\u001b[39m\"\u001b[39m\u001b[39mContrast\u001b[39m\u001b[39m\"\u001b[39m]\u001b[39m.\u001b[39munique()[\u001b[39m0\u001b[39m]\n\u001b[0;32m    440\u001b[0m     ][\u001b[39mf\u001b[39m\u001b[39m\"\u001b[39m\u001b[39m{\u001b[39;00mbin_id\u001b[39m}\u001b[39;00m\u001b[39m_bins\u001b[39m\u001b[39m\"\u001b[39m],\n\u001b[0;32m    441\u001b[0m     contrasts\u001b[39m.\u001b[39mloc[\n\u001b[0;32m    442\u001b[0m         contrasts[\u001b[39m\"\u001b[39m\u001b[39mContrast\u001b[39m\u001b[39m\"\u001b[39m] \u001b[39m==\u001b[39m contrasts[\u001b[39m\"\u001b[39m\u001b[39mContrast\u001b[39m\u001b[39m\"\u001b[39m]\u001b[39m.\u001b[39munique()[\u001b[39m0\u001b[39m]\n\u001b[0;32m    443\u001b[0m     ][\u001b[39m\"\u001b[39m\u001b[39mP-val\u001b[39m\u001b[39m\"\u001b[39m],\n\u001b[0;32m    444\u001b[0m     \u001b[39m# yerr=group[\"SE\"],\u001b[39;00m\n\u001b[0;32m    445\u001b[0m     fmt\u001b[39m=\u001b[39m\u001b[39m\"\u001b[39m\u001b[39mo-\u001b[39m\u001b[39m\"\u001b[39m,\n\u001b[0;32m    446\u001b[0m     capsize\u001b[39m=\u001b[39m\u001b[39m3\u001b[39m,\n\u001b[0;32m    447\u001b[0m     \u001b[39m# label=sys_id,\u001b[39;00m\n\u001b[0;32m    448\u001b[0m     \u001b[39m# lolims=group[\"2.5_ci\"],\u001b[39;00m\n\u001b[0;32m    449\u001b[0m     \u001b[39m# uplims=group[\"97.5_ci\"],\u001b[39;00m\n\u001b[0;32m    450\u001b[0m )\n\u001b[0;32m    451\u001b[0m axis\u001b[39m.\u001b[39mset_xlabel(bin_id)\n\u001b[0;32m    452\u001b[0m axis\u001b[39m.\u001b[39mset_ylabel(\u001b[39m\"\u001b[39m\u001b[39mEstimate\u001b[39m\u001b[39m\"\u001b[39m)\n",
      "File \u001b[1;32mc:\\Users\\Amega\\Git\\significance_analysis\\.venv_3_10_0\\lib\\site-packages\\pandas\\core\\frame.py:3807\u001b[0m, in \u001b[0;36mDataFrame.__getitem__\u001b[1;34m(self, key)\u001b[0m\n\u001b[0;32m   3805\u001b[0m \u001b[39mif\u001b[39;00m \u001b[39mself\u001b[39m\u001b[39m.\u001b[39mcolumns\u001b[39m.\u001b[39mnlevels \u001b[39m>\u001b[39m \u001b[39m1\u001b[39m:\n\u001b[0;32m   3806\u001b[0m     \u001b[39mreturn\u001b[39;00m \u001b[39mself\u001b[39m\u001b[39m.\u001b[39m_getitem_multilevel(key)\n\u001b[1;32m-> 3807\u001b[0m indexer \u001b[39m=\u001b[39m \u001b[39mself\u001b[39;49m\u001b[39m.\u001b[39;49mcolumns\u001b[39m.\u001b[39;49mget_loc(key)\n\u001b[0;32m   3808\u001b[0m \u001b[39mif\u001b[39;00m is_integer(indexer):\n\u001b[0;32m   3809\u001b[0m     indexer \u001b[39m=\u001b[39m [indexer]\n",
      "File \u001b[1;32mc:\\Users\\Amega\\Git\\significance_analysis\\.venv_3_10_0\\lib\\site-packages\\pandas\\core\\indexes\\base.py:3804\u001b[0m, in \u001b[0;36mIndex.get_loc\u001b[1;34m(self, key, method, tolerance)\u001b[0m\n\u001b[0;32m   3802\u001b[0m     \u001b[39mreturn\u001b[39;00m \u001b[39mself\u001b[39m\u001b[39m.\u001b[39m_engine\u001b[39m.\u001b[39mget_loc(casted_key)\n\u001b[0;32m   3803\u001b[0m \u001b[39mexcept\u001b[39;00m \u001b[39mKeyError\u001b[39;00m \u001b[39mas\u001b[39;00m err:\n\u001b[1;32m-> 3804\u001b[0m     \u001b[39mraise\u001b[39;00m \u001b[39mKeyError\u001b[39;00m(key) \u001b[39mfrom\u001b[39;00m \u001b[39merr\u001b[39;00m\n\u001b[0;32m   3805\u001b[0m \u001b[39mexcept\u001b[39;00m \u001b[39mTypeError\u001b[39;00m:\n\u001b[0;32m   3806\u001b[0m     \u001b[39m# If we have a listlike key, _check_indexing_error will raise\u001b[39;00m\n\u001b[0;32m   3807\u001b[0m     \u001b[39m#  InvalidIndexError. Otherwise we fall through and re-raise\u001b[39;00m\n\u001b[0;32m   3808\u001b[0m     \u001b[39m#  the TypeError.\u001b[39;00m\n\u001b[0;32m   3809\u001b[0m     \u001b[39mself\u001b[39m\u001b[39m.\u001b[39m_check_indexing_error(key)\n",
      "\u001b[1;31mKeyError\u001b[0m: 'Contrast'"
     ]
    },
    {
     "data": {
      "image/png": "[encoded data removed]",
      "text/plain": [
       "<Figure size 1000x600 with 1 Axes>"
      ]
     },
     "metadata": {},
     "output_type": "display_data"
    }
   ],
   "source": [
    "# Second Analysis: Analyse performance of acquisition functions over all benchmarks binned by trainingrounds,\n",
    "# i.e. performance in the first 8, the next 12, the next 15, the next 10 and the final 5 rounds.\n",
    "# Does not print the results, only shows plots.\n",
    "conduct_analysis(\n",
    "    data,\n",
    "    \"mean\",\n",
    "    \"acquisition\",\n",
    "    \"benchmark\",\n",
    "    bin_id=\"budget\",\n",
    "    bins=[9, 20, 35, 45],\n",
    "    summarize=False,\n",
    "    show_plots=False,\n",
    "    significance_plot=True\n",
    ")"
   ]
  }
 ],
 "metadata": {
  "kernelspec": {
   "display_name": ".venv_3_10_0",
   "language": "python",
   "name": "python3"
  },
  "language_info": {
   "codemirror_mode": {
    "name": "ipython",
    "version": 3
   },
   "file_extension": ".py",
   "mimetype": "text/x-python",
   "name": "python",
   "nbconvert_exporter": "python",
   "pygments_lexer": "ipython3",
   "version": "3.10.0"
  },
  "orig_nbformat": 4
 },
 "nbformat": 4,
 "nbformat_minor": 2
}
