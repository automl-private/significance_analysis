{
 "cells": [
  {
   "cell_type": "code",
   "execution_count": 1,
   "metadata": {},
   "outputs": [
    {
     "name": "stdout",
     "output_type": "stream",
     "text": [
      "Seed 50/50\r"
     ]
    }
   ],
   "source": [
    "import pandas as pd\n",
    "import numpy as np\n",
    "import matplotlib.pyplot as plt\n",
    "import tabulate\n",
    "from scipy import stats\n",
    "from autorank import autorank,create_report,plot_stats\n",
    "from significance_analysis import conduct_analysis\n",
    "pd.set_option(\"chained_assignment\", None)\n",
    "pd.set_option(\"display.max_rows\", 5000)\n",
    "pd.set_option(\"display.max_columns\", 5000)\n",
    "pd.set_option(\"display.width\", 10000)\n",
    "\n",
    "def load_priorband_data():\n",
    "    df = pd.read_parquet(\"data_for_anton.parquet\")\n",
    "    df=df.reset_index()\n",
    "    df_collection=[]\n",
    "    for seed_nr in range(50):\n",
    "        partial_df=df[[\"benchmark\",\"prior\",\"algorithm\",\"used_fidelity\"]]\n",
    "        partial_df[\"value\"]=df[f\"seed-{seed_nr}\"]\n",
    "        partial_df[\"seed\"]=seed_nr\n",
    "        df_collection.append(partial_df)\n",
    "        print(f\"Seed {seed_nr+1}/50\", end=\"\\r\", flush=True)\n",
    "    return pd.concat(df_collection,ignore_index=True)\n",
    "\n",
    "df=load_priorband_data()"
   ]
  },
  {
   "cell_type": "code",
   "execution_count": 2,
   "metadata": {},
   "outputs": [],
   "source": [
    "best={}\n",
    "ranges={}\n",
    "for benchmark in df[\"benchmark\"].unique():\n",
    "    best[benchmark]=min(df.loc[df[\"benchmark\"]==benchmark][\"value\"])\n",
    "    ranges[benchmark]=max(df.loc[df[\"benchmark\"]==benchmark][\"value\"])-best[benchmark]\n",
    "    \n",
    "def calculate_simple_regret(row):\n",
    "    return abs(best[row[\"benchmark\"]]-row[\"value\"])\n",
    "def calculate_norm_regret(row):\n",
    "    return abs(best[row[\"benchmark\"]]-row[\"value\"])/ranges[row[\"benchmark\"]]\n",
    "\n",
    "df['regret'] = df.apply(calculate_simple_regret, axis=1)\n",
    "df['norm_regret'] = df.apply(calculate_norm_regret, axis=1)\n"
   ]
  },
  {
   "cell_type": "code",
   "execution_count": 3,
   "metadata": {},
   "outputs": [
    {
     "name": "stdout",
     "output_type": "stream",
     "text": [
      "Prior medium, Benchmark 12/12        \r"
     ]
    }
   ],
   "source": [
    "algo_dict={\"rs_hb_pb\":[\"random_search\",\"hyperband\",\"pb_mutation_dynamic_geometric-default-at-target\"]}\n",
    "prior_dict={\"good+bad\":[\"at25\",\"bad\"]}\n",
    "benchmarks=[\"jahs_cifar10\",\"jahs_colorectal_histology\",\"jahs_fashion_mnist\",\"lcbench-126026\",\"lcbench-167190\",\"lcbench-168330\",\"lcbench-168910\",\"lcbench-189906\",\"cifar100_wideresnet_2048\",\"imagenet_resnet_512\",\"lm1b_transformer_2048\",\"translatewmt_xformer_64\"]\n",
    "label_dict={'random_search': 'RS', 'hyperband': 'HB', 'pb_mutation_dynamic_geometric-default-at-target': 'PB', 'jahs_cifar10': 'JAHS-C10', 'jahs_colorectal_histology': 'JAHS-CH', 'jahs_fashion_mnist': 'JAHS-FM', 'lcbench-126026': 'LC-126026', 'lcbench-167190': 'LC-167190', 'lcbench-168330': 'LC-168330', 'lcbench-168910': 'LC-168910', 'lcbench-189906': 'LC-189906', 'cifar100_wideresnet_2048': 'PD1-Cifar100', 'imagenet_resnet_512': 'PD1-ImageNet', 'lm1b_transformer_2048': 'PD1-LM1B', 'translatewmt_xformer_64': 'PD1-WMT',\"random_search_prior\":\"RS+Prior\",\"bo\":\"BO\",\"pibo\":\"PiBO\",\"bohb\":\"BOHB\",\"priorband_bo\":\"PriorBand+BO\"}\n",
    "\n",
    "for priortype in df[\"prior\"].unique():\n",
    "    prior_dict[priortype]=[priortype]\n",
    "\n",
    "df_dict={}\n",
    "for prior_key,prior_value in prior_dict.items():\n",
    "    df_dict[prior_key]={}\n",
    "    for b_n,benchmark in enumerate(benchmarks):\n",
    "        print(f\"Prior {prior_key}, Benchmark {b_n+1}/{len(benchmarks)}      \", end=\"\\r\", flush=True)\n",
    "        df_dict[prior_key][benchmark]={}\n",
    "        for algo_key,algo_value in algo_dict.items():\n",
    "            df_dict[prior_key][benchmark][algo_key]=df.loc[(df[\"prior\"].isin(prior_value))&(df[\"algorithm\"].isin(algo_value))&(df[\"benchmark\"]==benchmark)].reset_index(drop=True)"
   ]
  },
  {
   "cell_type": "code",
   "execution_count": 12,
   "metadata": {},
   "outputs": [],
   "source": [
    "def create_lmem_incumbent(priors:list[str],fs,algorithms:list[str],algo_group:str,benchmarks:list[str],df_dict):\n",
    "    output={}\n",
    "    output[\"dataset\"]={}\n",
    "    for p_n,prior in enumerate(priors):\n",
    "        output[\"dataset\"][prior]={}\n",
    "        for n_f,max_f in enumerate(fs):\n",
    "            output[\"dataset\"][prior][max_f]={}\n",
    "            output[\"dataset\"][prior][max_f]=pd.DataFrame()\n",
    "            for b_n,benchmark in enumerate(benchmarks):\n",
    "                df_at_point=df_dict[prior][benchmark][algo_group]\n",
    "                df_at_point=df_at_point.loc[df_at_point[\"used_fidelity\"]<=max_f]\n",
    "                for seed in df_at_point[\"seed\"].unique():\n",
    "                    print(f\"Prior {prior} ({p_n+1}), Fidelity {n_f+1}/{len(fs)}, Benchmark {b_n+1}/{len(benchmarks)}          \", end=\"\\r\", flush=True)\n",
    "                    for algo in algorithms:\n",
    "                        df_criteria=df_at_point.loc[(df_at_point[\"seed\"]==seed)&(df_at_point[\"algorithm\"]==algo)].iloc[-1].to_frame().T\n",
    "                        df_criteria[\"used_fidelity\"]=max_f\n",
    "                        output[\"dataset\"][prior][max_f]=pd.concat([output[\"dataset\"][prior][max_f],df_criteria],ignore_index=True)\n",
    "            output[\"dataset\"][prior][max_f][[\"value\",\"used_fidelity\",\"regret\",\"norm_regret\"]]=output[\"dataset\"][prior][max_f][[\"value\",\"used_fidelity\",\"regret\",\"norm_regret\"]].astype(float)\n",
    "            output[\"dataset\"][prior][max_f][\"seed\"]=output[\"dataset\"][prior][max_f][\"seed\"].astype(int)\n",
    "    return output[\"dataset\"]\n"
   ]
  },
  {
   "cell_type": "code",
   "execution_count": 13,
   "metadata": {},
   "outputs": [
    {
     "name": "stdout",
     "output_type": "stream",
     "text": [
      "Prior bad (3), Fidelity 12/12, Benchmark 12/12               \r"
     ]
    }
   ],
   "source": [
    "fig5={}\n",
    "fig5[\"algo_group\"]=\"rs_hb_pb\"\n",
    "fig5[\"algorithms\"]=algo_dict[fig5[\"algo_group\"]].copy()\n",
    "fig5[\"priors\"]=[\"good+bad\",\"at25\",\"bad\"]\n",
    "fig5[\"benchmarks\"]=benchmarks\n",
    "fig5[\"max_f\"]=[1.0,5.0,12.0]\n",
    "fig5[\"min_f\"]=1.0\n",
    "fig5[\"grain_per_unit_f\"]=1\n",
    "fig5[\"f_space\"]=np.round(np.linspace(fig5[\"min_f\"],max(fig5[\"max_f\"]),(fig5[\"grain_per_unit_f\"]*round(max(fig5[\"max_f\"])-fig5[\"min_f\"]))+1),3).tolist()#np.linspace(fig5[\"min_f\"],max(fig5[\"max_f\"]),round(max(fig5[\"max_f\"])-fig5[\"min_f\"]+1)).tolist()\n",
    "\n",
    "\n",
    "singular_data=create_lmem_incumbent(fig5[\"priors\"],fig5[\"f_space\"],fig5[\"algorithms\"],fig5[\"algo_group\"],fig5[\"benchmarks\"],df_dict)\n"
   ]
  },
  {
   "cell_type": "code",
   "execution_count": 14,
   "metadata": {},
   "outputs": [],
   "source": [
    "cumulative_data={}\n",
    "for p_n,prior in enumerate(fig5[\"priors\"]):\n",
    "    cumulative_data[prior]={}\n",
    "    for max_f in fig5[\"max_f\"]:\n",
    "        cumulative_data[prior][max_f]=pd.DataFrame()\n",
    "        for fidelity in [item for item in fig5[\"f_space\"] if fig5[\"min_f\"] <= item <= max_f]:\n",
    "            cumulative_data[prior][max_f]=pd.concat([cumulative_data[prior][max_f],singular_data[prior][fidelity]],ignore_index=True)\n",
    "\n",
    "fig5[\"dataset\"]=cumulative_data"
   ]
  },
  {
   "cell_type": "code",
   "execution_count": 15,
   "metadata": {},
   "outputs": [
    {
     "name": "stdout",
     "output_type": "stream",
     "text": [
      "Prior good+bad (1), Fidelity 1/3\n"
     ]
    },
    {
     "name": "stdout",
     "output_type": "stream",
     "text": [
      "P-values adjusted by tukey method for family of 3 estimates\n",
      "Prior good+bad (1), Fidelity 2/3\n",
      "P-values adjusted by tukey method for family of 3 estimates\n",
      "Prior good+bad (1), Fidelity 3/3\n",
      "P-values adjusted by tukey method for family of 3 estimates\n",
      "Prior at25 (2), Fidelity 1/3\n",
      "P-values adjusted by tukey method for family of 3 estimates\n",
      "Prior at25 (2), Fidelity 2/3\n",
      "P-values adjusted by tukey method for family of 3 estimates\n",
      "Prior at25 (2), Fidelity 3/3\n",
      "P-values adjusted by tukey method for family of 3 estimates\n",
      "Prior bad (3), Fidelity 1/3\n",
      "P-values adjusted by tukey method for family of 3 estimates\n",
      "Prior bad (3), Fidelity 2/3\n",
      "P-values adjusted by tukey method for family of 3 estimates\n",
      "Prior bad (3), Fidelity 3/3\n",
      "P-values adjusted by tukey method for family of 3 estimates\n"
     ]
    }
   ],
   "source": [
    "result_dict={}\n",
    "for p_n,priortype in enumerate(fig5[\"priors\"]):\n",
    "    result_dict[priortype]={}\n",
    "    for f_n,max_f in enumerate(fig5[\"max_f\"]):\n",
    "        print(f\"Prior {priortype} ({p_n+1}), Fidelity {f_n+1}/{len(fig5['max_f'])}\")\n",
    "        fig5[\"dataset\"][priortype][max_f]=fig5[\"dataset\"][priortype][max_f].replace({\"algorithm\": label_dict,\"benchmark\": label_dict})\n",
    "        if len(fig5[\"dataset\"][priortype][max_f][\"used_fidelity\"].unique())>1:\n",
    "            result_dict[priortype][max_f]=conduct_analysis(fig5[\"dataset\"][priortype][max_f],\"value\",\"algorithm\",\"benchmark\",continuous_fidelity=False,show_plots=False,verbosity=0)[1] #,bin_id=\"used_fidelity\"\n",
    "        else:\n",
    "            result_dict[priortype][max_f]=conduct_analysis(fig5[\"dataset\"][priortype][max_f],\"value\",\"algorithm\",\"benchmark\",continuous_fidelity=False,show_plots=False,verbosity=0)[1]\n"
   ]
  },
  {
   "cell_type": "code",
   "execution_count": 16,
   "metadata": {},
   "outputs": [
    {
     "data": {
      "image/png": "[encoded data removed]",
      "text/plain": [
       "<Figure size 1000x1000 with 9 Axes>"
      ]
     },
     "metadata": {},
     "output_type": "display_data"
    }
   ],
   "source": [
    "\n",
    "color_dict={\"random_search\":\"red\",\"hyperband\":\"green\",\"pb_mutation_dynamic_geometric-default-at-target\":\"blue\",\"priorband\":\"blue\",\"RS\":\"red\",\"HB\":\"green\",\"PB\":\"blue\"}\n",
    "\n",
    "\n",
    "_,axes = plt.subplots(len(fig5[\"max_f\"]),len(fig5[\"priors\"]),figsize=(10,10*len(fig5[\"max_f\"])/3))\n",
    "for p_n,prior in enumerate(fig5[\"priors\"]):\n",
    "    for f_n,fidelity in enumerate(fig5[\"max_f\"]):\n",
    "        # if fidelity>fig5[\"min_f\"]:\n",
    "        #     scoreframe=result_dict[prior][fidelity][0].loc[result_dict[prior][fidelity][0][\"used_fidelity_bins\"]==str(fidelity)].sort_values(by=['Estimate'])[[\"algorithm\",\"Estimate\"]]\n",
    "        #     contrastframe=result_dict[prior][fidelity][1].loc[result_dict[prior][fidelity][1][\"used_fidelity_bins\"]==str(fidelity)][[\"Sig\",\"algorithm_1\",\"algorithm_2\"]]\n",
    "        # else:\n",
    "        scoreframe=result_dict[prior][fidelity][0].sort_values(by=['Estimate'])[[\"algorithm\",\"Estimate\"]]\n",
    "        contrastframe=result_dict[prior][fidelity][1][[\"Sig\",\"algorithm_1\",\"algorithm_2\"]]\n",
    "\n",
    "        min_score=scoreframe[\"Estimate\"][0]\n",
    "        max_score=scoreframe[\"Estimate\"][len(scoreframe[\"Estimate\"])-1]\n",
    "\n",
    "        algo_lines_x=scoreframe[\"Estimate\"].values.tolist()\n",
    "\n",
    "        significance_lines=[]\n",
    "        for n_best_algo,best_algo in enumerate(scoreframe[\"algorithm\"]):\n",
    "            for n_worst_algo,worst_algo in reversed(list(enumerate(scoreframe[\"algorithm\"][n_best_algo+1:]))):\n",
    "                significance=contrastframe.loc[((contrastframe[\"algorithm_1\"]==best_algo)&(contrastframe[\"algorithm_2\"]==worst_algo))|((contrastframe[\"algorithm_2\"]==best_algo)&(contrastframe[\"algorithm_1\"]==worst_algo))][\"Sig\"][0]\n",
    "                if significance in [\"\",\".\"]:\n",
    "                    new_line=[n_best_algo,n_best_algo+n_worst_algo+1]\n",
    "                    if not any(existing_pair[0] <= new_line[0] <= existing_pair[1] and existing_pair[0] <= new_line[1] <= existing_pair[1] for existing_pair in significance_lines):\n",
    "                        significance_lines.append([n_best_algo,n_best_algo+n_worst_algo+1])\n",
    "                        break\n",
    "                \n",
    "\n",
    "        n_sign_lines=len(significance_lines)\n",
    "        plot_height=10+5\n",
    "\n",
    "        if len(fig5[\"priors\"])>1:\n",
    "            ax=axes[f_n,p_n]\n",
    "        else:\n",
    "            ax=axes[f_n]\n",
    "        ax.set_title(f\"{fidelity}x {prior}\",pad=0,y=-0.18)\n",
    "        ax.get_yaxis().set_visible(False)\n",
    "        ax.set_xlim(min_score-(max_score-min_score)*0.1,max_score+(max_score-min_score)*0.1)\n",
    "        ax.set_ylim(0,plot_height)\n",
    "        ax.spines['bottom'].set_position(('data', 0.0))\n",
    "        ax.spines[['top',\"left\",\"right\"]].set_visible(False)\n",
    "        ax.invert_xaxis()\n",
    "\n",
    "        for algo in range(len(scoreframe[\"Estimate\"])):\n",
    "            ax.plot([scoreframe[\"Estimate\"][algo],scoreframe[\"Estimate\"][algo]], [0, plot_height-6], '-', lw=2, label=\"_not in legend\",color=color_dict[scoreframe[\"algorithm\"][algo]])\n",
    "            ax.text(scoreframe[\"Estimate\"][algo], plot_height-3, scoreframe[\"algorithm\"][algo], horizontalalignment='center',verticalalignment='bottom')\n",
    "            ax.text(scoreframe[\"Estimate\"][algo], plot_height-5, np.round(scoreframe[\"Estimate\"][algo],2), horizontalalignment='center',verticalalignment='bottom')\n",
    "        for n_line,line in enumerate(significance_lines):\n",
    "            if scoreframe[\"Estimate\"][line[0]]==scoreframe[\"Estimate\"][line[1]]:\n",
    "                ax.plot([scoreframe[\"Estimate\"][line[0]], scoreframe[\"Estimate\"][line[1]]],[10/(n_sign_lines+1)*(n_line+1)-0.5,10/(n_sign_lines+1)*(n_line+1)+0.5],  '-', lw=2, label=\"_not in legend\",color=\"gray\")\n",
    "            else:\n",
    "                ax.plot([scoreframe[\"Estimate\"][line[0]], scoreframe[\"Estimate\"][line[1]]],[10/(n_sign_lines+1)*(n_line+1),10/(n_sign_lines+1)*(n_line+1)],  '-', lw=6, label=\"_not in legend\",color=\"gray\")\n",
    "\n",
    "plt.show()"
   ]
  }
 ],
 "metadata": {
  "kernelspec": {
   "display_name": ".venv_3_10_0",
   "language": "python",
   "name": "python3"
  },
  "language_info": {
   "codemirror_mode": {
    "name": "ipython",
    "version": 3
   },
   "file_extension": ".py",
   "mimetype": "text/x-python",
   "name": "python",
   "nbconvert_exporter": "python",
   "pygments_lexer": "ipython3",
   "version": "3.10.0"
  }
 },
 "nbformat": 4,
 "nbformat_minor": 2
}
