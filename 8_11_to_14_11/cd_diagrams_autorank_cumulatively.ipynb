{
 "cells": [
  {
   "cell_type": "code",
   "execution_count": 1,
   "metadata": {},
   "outputs": [
    {
     "name": "stdout",
     "output_type": "stream",
     "text": [
      "Seed 50/50\r"
     ]
    }
   ],
   "source": [
    "import pandas as pd\n",
    "import numpy as np\n",
    "import matplotlib.pyplot as plt\n",
    "import tabulate\n",
    "from itertools import chain\n",
    "from scipy import stats\n",
    "from autorank import autorank,create_report,plot_stats\n",
    "pd.set_option(\"chained_assignment\", None)\n",
    "pd.set_option(\"display.max_rows\", 5000)\n",
    "pd.set_option(\"display.max_columns\", 5000)\n",
    "pd.set_option(\"display.width\", 10000)\n",
    "\n",
    "def load_priorband_data():\n",
    "    df = pd.read_parquet(\"data_for_anton.parquet\")\n",
    "    df=df.reset_index()\n",
    "    df_collection=[]\n",
    "    for seed_nr in range(50):\n",
    "        partial_df=df[[\"benchmark\",\"prior\",\"algorithm\",\"used_fidelity\"]]\n",
    "        partial_df[\"value\"]=df[f\"seed-{seed_nr}\"]\n",
    "        partial_df[\"seed\"]=seed_nr\n",
    "        df_collection.append(partial_df)\n",
    "        print(f\"Seed {seed_nr+1}/50\", end=\"\\r\", flush=True)\n",
    "    return pd.concat(df_collection,ignore_index=True)\n",
    "\n",
    "df=load_priorband_data()"
   ]
  },
  {
   "cell_type": "code",
   "execution_count": 2,
   "metadata": {},
   "outputs": [],
   "source": [
    "best={}\n",
    "worst={}\n",
    "for benchmark in df[\"benchmark\"].unique():\n",
    "    best[benchmark]=min(df.loc[df[\"benchmark\"]==benchmark][\"value\"])\n",
    "    worst[benchmark]=max(df.loc[df[\"benchmark\"]==benchmark][\"value\"])\n",
    "\n",
    "def calculate_simple_regret(row):\n",
    "    return best[row[\"benchmark\"]]-row[\"value\"]#/worst[row[\"benchmark\"]]\n",
    "\n",
    "df['value'] = df.apply(calculate_simple_regret, axis=1)"
   ]
  },
  {
   "cell_type": "code",
   "execution_count": 3,
   "metadata": {},
   "outputs": [],
   "source": [
    "algo_dict={\"rs_hb_pb\":[\"random_search\",\"hyperband\",\"pb_mutation_dynamic_geometric-default-at-target\"]}\n",
    "#algo_dict[\"fig7\"]=[\"random_search_prior\",\"bo\",\"bohb\",\"priorband_bo\"]\n",
    "prior_dict={\"good+bad\":[\"at25\",\"bad\"]}\n",
    "benchmarks=[\"jahs_cifar10\",\"jahs_colorectal_histology\",\"jahs_fashion_mnist\",\"lcbench-126026\",\"lcbench-167190\",\"lcbench-168330\",\"lcbench-168910\",\"lcbench-189906\",\"cifar100_wideresnet_2048\",\"imagenet_resnet_512\",\"lm1b_transformer_2048\",\"translatewmt_xformer_64\"]\n",
    "label_dict={'random_search': 'RS', 'hyperband': 'HB', 'pb_mutation_dynamic_geometric-default-at-target': 'PB', 'jahs_cifar10': 'JAHS-C10', 'jahs_colorectal_histology': 'JAHS-CH', 'jahs_fashion_mnist': 'JAHS-FM', 'lcbench-126026': 'LC-126026', 'lcbench-167190': 'LC-167190', 'lcbench-168330': 'LC-168330', 'lcbench-168910': 'LC-168910', 'lcbench-189906': 'LC-189906', 'cifar100_wideresnet_2048': 'PD1-Cifar100', 'imagenet_resnet_512': 'PD1-ImageNet', 'lm1b_transformer_2048': 'PD1-LM1B', 'translatewmt_xformer_64': 'PD1-WMT',\"random_search_prior\":\"RS+Prior\",\"bo\":\"BO\",\"pibo\":\"PiBO\",\"bohb\":\"BOHB\",\"priorband_bo\":\"PriorBand+BO\"}\n",
    "\n",
    "for priortype in df[\"prior\"].unique():\n",
    "    prior_dict[priortype]=[priortype]\n",
    "\n",
    "\n",
    "df_dict={}\n",
    "for prior_key,prior_value in prior_dict.items():\n",
    "    df_dict[prior_key]={}\n",
    "    for algo_key,algo_value in algo_dict.items():\n",
    "        df_dict[prior_key][algo_key]=df.loc[(df[\"prior\"].isin(prior_value))&(df[\"algorithm\"].isin(algo_value))&(df[\"benchmark\"].isin(benchmarks))].reset_index(drop=True)"
   ]
  },
  {
   "cell_type": "code",
   "execution_count": 4,
   "metadata": {},
   "outputs": [],
   "source": [
    "\n",
    "def create_autorank_incumbent(priors:list[str],fs:list[float],algorithms:list[str],algo_group:str,benchmarks:list[str],df_dict:pd.DataFrame):\n",
    "    output={}\n",
    "    output[\"dataset\"]={}\n",
    "    output[\"priors\"]={}\n",
    "    for p_n,prior in enumerate(set(np.concatenate([prior_dict[item] for item in priors]))):\n",
    "        output[\"priors\"][prior]={}\n",
    "        for f_n,max_f in enumerate(fs):\n",
    "            output[\"priors\"][prior][max_f]=pd.DataFrame()\n",
    "            for a_n,algo in enumerate(algorithms):\n",
    "                print(f\"Prior {prior} ({p_n+1}), Fidelity {f_n+1}/{len(fs)}, Algorithm {a_n+1}/{len(algorithms)}          \", end=\"\\r\", flush=True)\n",
    "                df_at_algo=df_dict[prior][algo_group].loc[df_dict[prior][algo_group][\"algorithm\"]==algo]\n",
    "                seed_averages=[]\n",
    "                for seed in df_at_algo[\"seed\"].unique():\n",
    "                    average=0\n",
    "                    for benchmark in benchmarks:\n",
    "                        average+=df_at_algo.loc[(df_at_algo[\"seed\"]==seed)&(df_at_algo[\"benchmark\"]==benchmark)&(df_at_algo[\"used_fidelity\"]<=max_f)][\"value\"].values[-1]\n",
    "                    average/=len(benchmarks)\n",
    "                    seed_averages.append(average)\n",
    "                output[\"priors\"][prior][max_f][label_dict[algo]]=seed_averages\n",
    "    \n",
    "    for prior in priors:\n",
    "        output[\"dataset\"][prior]={}\n",
    "        for max_f in fs:\n",
    "            output[\"dataset\"][prior][max_f]=pd.concat([output[\"priors\"][subprior][max_f] for subprior in prior_dict[prior]],ignore_index=True)\n",
    "\n",
    "\n",
    "    return output[\"dataset\"]"
   ]
  },
  {
   "cell_type": "code",
   "execution_count": 5,
   "metadata": {},
   "outputs": [
    {
     "name": "stdout",
     "output_type": "stream",
     "text": [
      "Prior bad (2), Fidelity 34/34, Algorithm 3/3           \r"
     ]
    }
   ],
   "source": [
    "import warnings\n",
    "warnings.filterwarnings(\"ignore\",\"p-value may not be accurate for N > 5000.\")\n",
    "warnings.filterwarnings(\"ignore\",\"Input data for shapiro has range zero. The results may not be accurate.\")\n",
    "warnings.filterwarnings(\"ignore\",\"invalid value encountered in scalar divide\")\n",
    "\n",
    "fig5={}\n",
    "fig5[\"algo_group\"]=\"rs_hb_pb\"\n",
    "fig5[\"algorithms\"]=algo_dict[fig5[\"algo_group\"]].copy()\n",
    "fig5[\"priors\"]=[\"at25\",\"bad\",\"good+bad\"]\n",
    "fig5[\"benchmarks\"]=benchmarks\n",
    "fig5[\"max_f\"]=[1.0,5.0,12.0]\n",
    "fig5[\"min_f\"]=1.0\n",
    "fig5[\"grain_per_unit_f\"]=3\n",
    "fig5[\"f_space\"]=np.round(np.linspace(fig5[\"min_f\"],max(fig5[\"max_f\"]),round(fig5[\"grain_per_unit_f\"]*round(max(fig5[\"max_f\"])-fig5[\"min_f\"]))+1),3).tolist()\n",
    "\n",
    "fig5[\"singular\"]=create_autorank_incumbent(fig5[\"priors\"],fig5[\"f_space\"],fig5[\"algorithms\"],fig5[\"algo_group\"],fig5[\"benchmarks\"],df_dict)"
   ]
  },
  {
   "cell_type": "code",
   "execution_count": 6,
   "metadata": {},
   "outputs": [
    {
     "name": "stdout",
     "output_type": "stream",
     "text": [
      "Prior at25\n"
     ]
    },
    {
     "data": {
      "image/png": "[encoded data removed]",
      "text/plain": [
       "<Figure size 600x145 with 1 Axes>"
      ]
     },
     "metadata": {},
     "output_type": "display_data"
    },
    {
     "data": {
      "image/png": "[encoded data removed]",
      "text/plain": [
       "<Figure size 600x145 with 1 Axes>"
      ]
     },
     "metadata": {},
     "output_type": "display_data"
    },
    {
     "data": {
      "image/png": "[encoded data removed]",
      "text/plain": [
       "<Figure size 600x145 with 1 Axes>"
      ]
     },
     "metadata": {},
     "output_type": "display_data"
    },
    {
     "name": "stdout",
     "output_type": "stream",
     "text": [
      "Prior bad\n"
     ]
    },
    {
     "data": {
      "image/png": "[encoded data removed]",
      "text/plain": [
       "<Figure size 600x145 with 1 Axes>"
      ]
     },
     "metadata": {},
     "output_type": "display_data"
    },
    {
     "data": {
      "image/png": "[encoded data removed]",
      "text/plain": [
       "<Figure size 600x145 with 1 Axes>"
      ]
     },
     "metadata": {},
     "output_type": "display_data"
    },
    {
     "data": {
      "image/png": "[encoded data removed]",
      "text/plain": [
       "<Figure size 600x145 with 1 Axes>"
      ]
     },
     "metadata": {},
     "output_type": "display_data"
    },
    {
     "name": "stdout",
     "output_type": "stream",
     "text": [
      "Prior good+bad\n"
     ]
    },
    {
     "data": {
      "image/png": "[encoded data removed]",
      "text/plain": [
       "<Figure size 600x145 with 1 Axes>"
      ]
     },
     "metadata": {},
     "output_type": "display_data"
    },
    {
     "data": {
      "image/png": "[encoded data removed]",
      "text/plain": [
       "<Figure size 600x145 with 1 Axes>"
      ]
     },
     "metadata": {},
     "output_type": "display_data"
    },
    {
     "data": {
      "image/png": "[encoded data removed]",
      "text/plain": [
       "<Figure size 600x145 with 1 Axes>"
      ]
     },
     "metadata": {},
     "output_type": "display_data"
    }
   ],
   "source": [
    "cumulative_data={}\n",
    "for p_n,prior in enumerate(fig5[\"priors\"]):\n",
    "    cumulative_data[prior]={}\n",
    "    for max_f in fig5[\"max_f\"]:\n",
    "        cumulative_data[prior][max_f]=pd.DataFrame()\n",
    "        for fidelity in [item for item in fig5[\"f_space\"] if fig5[\"min_f\"] <= item <= max_f]:\n",
    "            cumulative_data[prior][max_f]=pd.concat([cumulative_data[prior][max_f],fig5[\"singular\"][prior][fidelity]],ignore_index=True)\n",
    "\n",
    "fig5[\"dataset\"]=cumulative_data\n",
    "\n",
    "resultframes={}\n",
    "for p_n,prior in enumerate(fig5[\"priors\"]):\n",
    "    print(f\"Prior {prior}\")\n",
    "    resultframes[prior]={}\n",
    "    for max_f in fig5[\"max_f\"]:\n",
    "        resultframes[prior][max_f]=autorank(fig5[\"dataset\"][prior][max_f])\n",
    "        plot_stats(resultframes[prior][max_f],allow_insignificant=True)\n",
    "        plt.savefig(f'ar_cu_regret_{fig5[\"grain_per_unit_f\"]}_{prior}_{max_f}.png')\n",
    "        plt.show()"
   ]
  }
 ],
 "metadata": {
  "kernelspec": {
   "display_name": ".venv_3_10_0",
   "language": "python",
   "name": "python3"
  },
  "language_info": {
   "codemirror_mode": {
    "name": "ipython",
    "version": 3
   },
   "file_extension": ".py",
   "mimetype": "text/x-python",
   "name": "python",
   "nbconvert_exporter": "python",
   "pygments_lexer": "ipython3",
   "version": "3.10.0"
  }
 },
 "nbformat": 4,
 "nbformat_minor": 2
}
