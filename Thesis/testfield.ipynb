{
 "cells": [
  {
   "cell_type": "code",
   "execution_count": 3,
   "metadata": {},
   "outputs": [],
   "source": [
    "\"\"\"import os\n",
    "import pickle\n",
    "import sys\n",
    "\n",
    "import matplotlib.pyplot as plt\n",
    "from sklearn.cluster import KMeans\n",
    "import tabulate\n",
    "from autorank import autorank, create_report, plot_stats\n",
    "from matplotlib.gridspec import GridSpec\n",
    "from matplotlib.ticker import MultipleLocator\"\"\"\n",
    "import typing\n",
    "import ydata_profiling\n",
    "import matplotlib.pyplot as plt\n",
    "from models import model,bt_plot\n",
    "from dataset_management import get_dataset,convert_to_autorank\n",
    "import autorank\n",
    "import numpy as np\n",
    "import pandas as pd\n",
    "from models import Lmer,cd_diagram, ci_plot\n",
    "from scipy import stats\n",
    "from scipy.stats import rankdata,t,norm,studentized_range\n",
    "from dataset_management import get_dataset\n",
    "\n",
    "pd.set_option(\"chained_assignment\", None)\n",
    "pd.set_option(\"display.max_rows\", 5000)\n",
    "pd.set_option(\"display.max_columns\", 5000)\n",
    "pd.set_option(\"display.width\", 10000)\n",
    "\n"
   ]
  },
  {
   "cell_type": "code",
   "execution_count": 15,
   "metadata": {},
   "outputs": [
    {
     "name": "stdout",
     "output_type": "stream",
     "text": [
      "✅ Loading data done                                                                                 \n",
      "The statistical analysis was conducted for 3 populations with 2000 paired samples.\n",
      "The family-wise significance level of the tests is alpha=0.050.\n",
      "We rejected the null hypothesis that the population is normal for the populations RS (p=0.000), HB (p=0.000), and PB (p=0.000). Therefore, we assume that not all populations are normal.\n",
      "Because we have more than two populations and the populations and some of them are not normal, we use the non-parametric Friedman test as omnibus test to determine if there are any significant differences between the median values of the populations. We use the post-hoc Nemenyi test to infer which differences are significant. We report the median (MD), the median absolute deviation (MAD) and the mean rank (MR) among all populations over the samples. Differences between populations are significant, if the difference of the mean rank is greater than the critical distance CD=0.074 of the Nemenyi test.\n",
      "We reject the null hypothesis (p=0.000) of the Friedman test that there is no difference in the central tendency of the populations RS (MD=-0.404+-0.021, MAD=0.194, MR=2.534), HB (MD=-0.378+-0.020, MAD=0.202, MR=1.987), and PB (MD=-0.320+-0.018, MAD=0.157, MR=1.480). Therefore, we assume that there is a statistically significant difference between the median values of the populations.\n",
      "Based on the post-hoc Nemenyi test, we assume that all differences between the populations are significant.\n",
      "None\n",
      "-0.32028108835220337\n",
      "-1.9984353719949721\n",
      "-2.0608579649329184\n"
     ]
    }
   ],
   "source": [
    "algorithm=\"algorithm\";benchmark=\"bench_prior\";seed=\"seed\";budget=\"used_fidelity\";loss=\"normalized_regret\"\n",
    "data=get_dataset(dataset_name=\"fig5_full\")\n",
    "data=data.loc[data[budget]==5]\n",
    "print(autorank.create_report(autorank.autorank(convert_to_autorank(data))))\n",
    "print(convert_to_autorank(data)[\"PB\"].median())\n",
    "print(convert_to_autorank(data)[\"HB\"].mean())\n",
    "print(convert_to_autorank(data)[\"RS\"].mean())"
   ]
  },
  {
   "cell_type": "code",
   "execution_count": 10,
   "metadata": {},
   "outputs": [
    {
     "name": "stdout",
     "output_type": "stream",
     "text": [
      "P-values adjusted by tukey method for family of 3 estimates\n",
      "(  algorithm  Estimate  2.5_ci  97.5_ci     SE      DF\n",
      "1        PB     1.794   1.650    1.937  0.073  6000.0\n",
      "2        RS     2.061   1.917    2.204  0.073  6000.0\n",
      "3        HB     1.998   1.855    2.142  0.073  6000.0,   Contrast  Estimate  2.5_ci  97.5_ci     SE      DF  T-stat  P-val Sig\n",
      "1  PB - RS    -0.267  -0.509   -0.025  0.103  6000.0  -2.582  0.027   *\n",
      "2  PB - HB    -0.205  -0.447    0.038  0.103  6000.0  -1.978  0.118    \n",
      "3  RS - HB     0.062  -0.180    0.305  0.103  6000.0   0.604  0.818    )\n"
     ]
    }
   ],
   "source": [
    "print(model(\"value~algorithm\",data).post_hoc(\"algorithm\"))"
   ]
  },
  {
   "cell_type": "code",
   "execution_count": 12,
   "metadata": {},
   "outputs": [
    {
     "name": "stdout",
     "output_type": "stream",
     "text": [
      "boundary (singular) fit: see help('isSingular') \n",
      "\n"
     ]
    }
   ],
   "source": [
    "mod=model(f\"normalized_regret~used_fidelity\",data)"
   ]
  },
  {
   "cell_type": "code",
   "execution_count": 21,
   "metadata": {},
   "outputs": [
    {
     "name": "stdout",
     "output_type": "stream",
     "text": [
      "Linear mixed model fit by maximum likelihood  ['lmerMod']\n",
      "Formula: normalized_regret~used_fidelity+(1|dummy)\n",
      "\n",
      "Family: gaussian\t Inference: parametric\n",
      "\n",
      "Number of observations: 3339050\t Groups: {'dummy': 2.0}\n",
      "\n",
      "Log-likelihood: 640046.742 \t AIC: -1280085.484\n",
      "\n",
      "Random effects:\n",
      "\n",
      "                 Name   Var  Std\n",
      "dummy     (Intercept)  0.00  0.0\n",
      "Residual               0.04  0.2\n",
      "\n",
      "No random effect correlations specified\n",
      "\n",
      "Fixed effects:\n",
      "\n",
      "               Estimate  2.5_ci  97.5_ci   SE         DF    T-stat  P-val  Sig\n",
      "(Intercept)       0.290   0.290    0.290  0.0  3339050.0  1794.371    0.0  ***\n",
      "used_fidelity    -0.013  -0.013   -0.013  0.0  3339050.0  -827.856    0.0  ***\n"
     ]
    },
    {
     "data": {
      "text/plain": [
       "<AxesSubplot: xlabel='Estimate'>"
      ]
     },
     "execution_count": 21,
     "metadata": {},
     "output_type": "execute_result"
    },
    {
     "data": {
      "image/png": "[encoded data removed]",
      "text/plain": [
       "<Figure size 1200x600 with 1 Axes>"
      ]
     },
     "metadata": {},
     "output_type": "display_data"
    }
   ],
   "source": [
    "# mod.plot(param=\"used_fidelity\")\n",
    "print(mod.summary())\n",
    "mod.plot_summary()"
   ]
  }
 ],
 "metadata": {
  "kernelspec": {
   "display_name": ".venv_3_10_0",
   "language": "python",
   "name": "python3"
  },
  "language_info": {
   "codemirror_mode": {
    "name": "ipython",
    "version": 3
   },
   "file_extension": ".py",
   "mimetype": "text/x-python",
   "name": "python",
   "nbconvert_exporter": "python",
   "pygments_lexer": "ipython3",
   "version": "3.10.0"
  }
 },
 "nbformat": 4,
 "nbformat_minor": 2
}
