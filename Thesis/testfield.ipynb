{
 "cells": [
  {
   "cell_type": "code",
   "execution_count": 2,
   "metadata": {},
   "outputs": [],
   "source": [
    "\"\"\"import os\n",
    "import pickle\n",
    "import sys\n",
    "\n",
    "import matplotlib.pyplot as plt\n",
    "from sklearn.cluster import KMeans\n",
    "import tabulate\n",
    "from autorank import autorank, create_report, plot_stats\n",
    "from matplotlib.gridspec import GridSpec\n",
    "from matplotlib.ticker import MultipleLocator\"\"\"\n",
    "import typing\n",
    "import ydata_profiling\n",
    "import matplotlib.pyplot as plt\n",
    "import numpy as np\n",
    "import pandas as pd\n",
    "from pymer4.models import Lmer\n",
    "from scipy import stats\n",
    "from scipy.stats import rankdata,t,norm,studentized_range\n",
    "from dataset_management import get_dataset\n",
    "\n",
    "pd.set_option(\"chained_assignment\", None)\n",
    "pd.set_option(\"display.max_rows\", 5000)\n",
    "pd.set_option(\"display.max_columns\", 5000)\n",
    "pd.set_option(\"display.width\", 10000)\n",
    "\n"
   ]
  },
  {
   "cell_type": "code",
   "execution_count": 18,
   "metadata": {},
   "outputs": [
    {
     "name": "stdout",
     "output_type": "stream",
     "text": [
      "p_hsd=0.36435035911183855\n",
      "hsd=0.10367119808188827\n",
      "0.050000000000000044\n"
     ]
    }
   ],
   "source": [
    "cd_auto=[0.05567998175754132,0.06225211209790529,0.17607556243045577,0.09568131471380432,0.03382845323348761]\n",
    "cd_lmem=[0.02300000000000013,0.025500000000000078,0.07400000000000007,0.04149999999999998,0.014500000000000068]\n",
    "e_se=[0.012,0.013,0.038,0.021,0.008]\n",
    "c_se=[0.017,0.019,0.053,0.03,0.011]\n",
    "\n",
    "# for c_n,cd_a in enumerate(cd_auto):\n",
    "#     cd_l=cd_lmem[c_n]\n",
    "#     e_s=e_se[c_n]\n",
    "#     print((cd_a/(cd_l*2)))\n",
    "\n",
    "# cd_autorank=0.12450422419581059\n",
    "# difference_lmem=0.052\n",
    "# print(f\"{cd_autorank=} {difference_lmem=} {cd_autorank/(difference_lmem*2)=}\")\n",
    "# print(\"\")\n",
    "# mean_range=3.373-2.556\n",
    "# print(f\"{mean_range=}\")\n",
    "mean=-0.069\n",
    "SE=0.038\n",
    "df=12000\n",
    "k=5\n",
    "t_stat=abs(mean/SE)\n",
    "# print(f\"{t_stat=}\")\n",
    "# p=stats.t.sf(np.abs(t_stat), df-1)*2\n",
    "# print(f\"{p=}\")\n",
    "# q_crit=studentized_range.sf(1 - 0.05, k=k,df=df)\n",
    "# print(studentized_range.ppf(1-0.05, k=5,df=10))\n",
    "\n",
    "p_hsd=1-studentized_range.cdf(t_stat*np.sqrt(2), k=k, df=df)\n",
    "print(f\"{p_hsd=}\")\n",
    "hsd=studentized_range.ppf(1-0.05, k=k,df=df)/np.sqrt(2)*SE\n",
    "print(f\"{hsd=}\")\n",
    "print(1-studentized_range.cdf(hsd/SE*np.sqrt(2), k=k, df=df))\n",
    "\n",
    "# print(f\"{q_crit=}\")\n",
    "# factor=q_crit/np.sqrt(k)\n",
    "# print(f\"{factor=}\")\n",
    "# adjusted_p=p*factor\n",
    "# print(f\"{adjusted_p=}\")\n",
    "# needed_mean=factor*SE\n",
    "# print(f\"{needed_mean=}\")\n",
    "\n",
    "# #print(t.ppf(1 - 0.05 / 2, 6000))\n",
    "\n",
    "# print(\"\\n\\n\")\n",
    "\n",
    "# q=mean/np.sqrt(SE/df)\n",
    "# print(f\"{q=}\")\n",
    "# hsd=q_crit*np.sqrt(SE/df)\n",
    "# print(f\"{hsd=}\")\n",
    "# adjusted_p=p*factor\n",
    "# print(f\"{adjusted_p=}\")\n",
    "# needed_mean=factor*SE\n",
    "# print(f\"{needed_mean=}\")"
   ]
  },
  {
   "cell_type": "markdown",
   "metadata": {},
   "source": [
    "P-values adjusted by tukey method for family of 10 estimates\n",
    "       algorithm_1     algorithm_2  Estimate  2.5_ci  97.5_ci     SE       DF  T-stat  P-val  Sig\n",
    "1       (RS+Prior)  (PriorBand+BO)     0.667   0.565    0.770  0.038  12000.0  17.724  0.000  ***\n",
    "2       (RS+Prior)            PiBO    -0.000  -0.103    0.103  0.038  12000.0  -0.000  1.000     \n",
    "3       (RS+Prior)              BO    -0.150  -0.252   -0.047  0.038  12000.0  -3.973  0.001  ***\n",
    "4       (RS+Prior)            BOHB     0.598   0.495    0.701  0.038  12000.0  15.881  0.000  ***\n",
    "5   (PriorBand+BO)            PiBO    -0.667  -0.770   -0.565  0.038  12000.0 -17.724  0.000  ***\n",
    "6   (PriorBand+BO)              BO    -0.817  -0.920   -0.714  0.038  12000.0 -21.697  0.000  ***\n",
    "7   (PriorBand+BO)            BOHB    -0.069  -0.172    0.033  0.038  12000.0  -1.843  0.349     \n",
    "8             PiBO              BO    -0.150  -0.252   -0.047  0.038  12000.0  -3.973  0.001  ***\n",
    "9             PiBO            BOHB     0.598   0.495    0.701  0.038  12000.0  15.881  0.000  ***\n",
    "10              BO            BOHB     0.747   0.645    0.850  0.038  12000.0  19.854  0.000  ***"
   ]
  },
  {
   "cell_type": "markdown",
   "metadata": {},
   "source": [
    "              Estimate  2.5_ci  97.5_ci     SE       DF  ci_upper  ci_lower\n",
    "algorithm                                                                  \n",
    "PriorBand+BO     2.556   2.504    2.608  0.027  12000.0     2.504     2.608\n",
    "BOHB             2.625   2.573    2.677  0.027  12000.0     2.573     2.677\n",
    "RS+Prior         3.223   3.171    3.275  0.027  12000.0     3.171     3.275\n",
    "PiBO             3.223   3.171    3.275  0.027  12000.0     3.171     3.275\n",
    "BO               3.373   3.321    3.425  0.027  12000.0     3.321     3.425"
   ]
  }
 ],
 "metadata": {
  "kernelspec": {
   "display_name": ".venv_3_10_0",
   "language": "python",
   "name": "python3"
  },
  "language_info": {
   "codemirror_mode": {
    "name": "ipython",
    "version": 3
   },
   "file_extension": ".py",
   "mimetype": "text/x-python",
   "name": "python",
   "nbconvert_exporter": "python",
   "pygments_lexer": "ipython3",
   "version": "3.10.0"
  }
 },
 "nbformat": 4,
 "nbformat_minor": 2
}
