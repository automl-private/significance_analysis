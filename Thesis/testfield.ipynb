{
 "cells": [
  {
   "cell_type": "code",
   "execution_count": 1,
   "metadata": {},
   "outputs": [],
   "source": [
    "import statsmodels.api as sm\n",
    "import statsmodels.formula.api as smf\n",
    "import pandas as pd\n",
    "\n",
    "algorithm=\"algorithm\";benchmark=\"bench_prior\";seed=\"seed\";time=\"used_fidelity\";loss=\"value\"\n",
    "data=pd.read_parquet(\"priorband_benchPrior_relRanks_f24_meta.parquet\")\n",
    "algos=[\"pb_mutation_dynamic_geometric-default-at-target\",\"random_search\",\"hyperband\"]\n",
    "benchmarks=[\"jahs_cifar10\",\"jahs_colorectal_histology\",\"jahs_fashion_mnist\",\"lcbench-126026\",\"lcbench-167190\",\"lcbench-168330\",\"lcbench-168910\",\"lcbench-189906\",\"cifar100_wideresnet_2048\",\"imagenet_resnet_512\",\"lm1b_transformer_2048\",\"translatewmt_xformer_64\"]\n",
    "data_f24=data.loc[data[\"used_fidelity\"]==24.0]\n",
    "label_dict={'random_search': 'RS', 'hyperband': 'HB', 'pb_mutation_dynamic_geometric-default-at-target': 'PB', 'jahs_cifar10': 'JAHS-C10', 'jahs_colorectal_histology': 'JAHS-CH', 'jahs_fashion_mnist': 'JAHS-FM', 'lcbench-126026': 'LC-126026', 'lcbench-167190': 'LC-167190', 'lcbench-168330': 'LC-168330', 'lcbench-168910': 'LC-168910', 'lcbench-189906': 'LC-189906', 'cifar100_wideresnet_2048': 'PD1-Cifar100', 'imagenet_resnet_512': 'PD1-ImageNet', 'lm1b_transformer_2048': 'PD1-LM1B', 'translatewmt_xformer_64': 'PD1-WMT',\"random_search_prior\":\"RS+Prior\",\"bo\":\"BO\",\"pibo\":\"PiBO\",\"bohb\":\"BOHB\",\"priorband_bo\":\"PriorBand+BO\"}\n",
    "bench_priors=data[benchmark].unique().tolist()\n",
    "\n",
    "r_data=sm.datasets.get_rdataset(\"dietox\", \"geepack\").data\n",
    "md = smf.mixedlm(\"Weight ~ Time\", r_data, groups=r_data[\"Pig\"])\n",
    "mdf=md.fit(method=[\"lbfgs\"])\n",
    "def convert_to_int(row):\n",
    "    return pd.Series([bench_priors.index(row[benchmark]),list(label_dict.values()).index(row[algorithm])])\n",
    "\n",
    "#data[[benchmark,algorithm]]=data.apply(convert_to_int,axis=1).astype(int)\n",
    "data[[benchmark,algorithm]]=data[[benchmark,algorithm]]"
   ]
  },
  {
   "cell_type": "code",
   "execution_count": 2,
   "metadata": {},
   "outputs": [
    {
     "name": "stderr",
     "output_type": "stream",
     "text": [
      "c:\\Users\\Amega\\Git\\significance_analysis\\.venv_3_10_0\\lib\\site-packages\\statsmodels\\regression\\mixed_linear_model.py:1534: RuntimeWarning: divide by zero encountered in log\n",
      "  cov_aug_logdet = cov_re_logdet + np.sum(np.log(vc_var))\n",
      "c:\\Users\\Amega\\Git\\significance_analysis\\.venv_3_10_0\\lib\\site-packages\\statsmodels\\regression\\mixed_linear_model.py:1538: RuntimeWarning: divide by zero encountered in divide\n",
      "  solver = _smw_solver(1., ex_r, ex2_r, cov_re_inv, 1 / vc_var)\n",
      "c:\\Users\\Amega\\Git\\significance_analysis\\.venv_3_10_0\\lib\\site-packages\\statsmodels\\regression\\mixed_linear_model.py:1543: RuntimeWarning: divide by zero encountered in divide\n",
      "  ld = _smw_logdet(1., ex_r, ex2_r, cov_re_inv, 1 / vc_var,\n",
      "c:\\Users\\Amega\\Git\\significance_analysis\\.venv_3_10_0\\lib\\site-packages\\statsmodels\\regression\\mixed_linear_model.py:573: RuntimeWarning: invalid value encountered in scalar add\n",
      "  return B_logdet + ld + ld1\n",
      "c:\\Users\\Amega\\Git\\significance_analysis\\.venv_3_10_0\\lib\\site-packages\\statsmodels\\regression\\mixed_linear_model.py:1635: UserWarning: Random effects covariance is singular\n",
      "  warnings.warn(msg)\n",
      "c:\\Users\\Amega\\Git\\significance_analysis\\.venv_3_10_0\\lib\\site-packages\\statsmodels\\regression\\mixed_linear_model.py:1742: RuntimeWarning: divide by zero encountered in divide\n",
      "  solver = _smw_solver(1., ex_r, ex2_r, cov_re_inv, 1 / vc_var)\n"
     ]
    },
    {
     "name": "stdout",
     "output_type": "stream",
     "text": [
      "            Mixed Linear Model Regression Results\n",
      "==============================================================\n",
      "Model:              MixedLM  Dependent Variable:  value       \n",
      "No. Observations:   86400    Method:              REML        \n",
      "No. Groups:         24       Scale:               16.5230     \n",
      "Min. group size:    3600     Log-Likelihood:      -243894.5917\n",
      "Max. group size:    3600     Converged:           Yes         \n",
      "Mean group size:    3600.0                                    \n",
      "--------------------------------------------------------------\n",
      "                    Coef.  Std.Err.   z    P>|z| [0.025 0.975]\n",
      "--------------------------------------------------------------\n",
      "Intercept            2.263    3.319  0.682 0.495 -4.242  8.769\n",
      "C(algorithm)[T.PB]   0.293    0.034  8.660 0.000  0.227  0.360\n",
      "C(algorithm)[T.RS]  -0.100    0.034 -2.953 0.003 -0.166 -0.034\n",
      "bench_prior Var    264.368                                    \n",
      "==============================================================\n",
      "\n"
     ]
    },
    {
     "name": "stderr",
     "output_type": "stream",
     "text": [
      "c:\\Users\\Amega\\Git\\significance_analysis\\.venv_3_10_0\\lib\\site-packages\\statsmodels\\regression\\mixed_linear_model.py:2262: ConvergenceWarning: The Hessian matrix at the estimated parameter values is not positive definite.\n",
      "  warnings.warn(msg, ConvergenceWarning)\n"
     ]
    }
   ],
   "source": [
    "mo = smf.mixedlm(\"value~C(algorithm)\", data, groups=benchmark,re_formula=\"0\",vc_formula={benchmark:f'0+C({benchmark})'})\n",
    "mof=mo.fit(method=[\"lbfgs\"])\n",
    "print(mof.summary())\n"
   ]
  }
 ],
 "metadata": {
  "kernelspec": {
   "display_name": ".venv_3_10_0",
   "language": "python",
   "name": "python3"
  },
  "language_info": {
   "codemirror_mode": {
    "name": "ipython",
    "version": 3
   },
   "file_extension": ".py",
   "mimetype": "text/x-python",
   "name": "python",
   "nbconvert_exporter": "python",
   "pygments_lexer": "ipython3",
   "version": "3.10.0"
  }
 },
 "nbformat": 4,
 "nbformat_minor": 2
}
