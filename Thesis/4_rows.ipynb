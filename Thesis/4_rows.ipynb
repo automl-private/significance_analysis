{
 "cells": [
  {
   "cell_type": "code",
   "execution_count": 1,
   "metadata": {},
   "outputs": [],
   "source": [
    "import models\n",
    "from models import model, create_cd_cluster, cd_diagram\n",
    "from dataset_management import get_dataset, convert_to_autorank\n",
    "from autorank import autorank, create_report, plot_stats\n",
    "import matplotlib.pyplot as plt\n",
    "import pandas as pd\n",
    "import numpy as np\n",
    "\n",
    "algorithm=\"algorithm\";benchmark=\"bench_prior\";seed=\"seed\";budget=\"used_fidelity\";loss=\"value\""
   ]
  },
  {
   "cell_type": "code",
   "execution_count": 2,
   "metadata": {},
   "outputs": [],
   "source": [
    "dataset=get_dataset(dataset_name=\"fig7_24_at25_bad_intsteps\")\n",
    "dataset=dataset.loc[(dataset[\"prior\"]==\"bad\")&(dataset[budget]>=0)]\n",
    "# print(dataset)"
   ]
  },
  {
   "cell_type": "code",
   "execution_count": 6,
   "metadata": {},
   "outputs": [
    {
     "name": "stdout",
     "output_type": "stream",
     "text": [
      "P-values adjusted by tukey method for family of 10 estimates\n",
      "(2, 4)\n",
      "(0, 1)\n"
     ]
    },
    {
     "data": {
      "text/plain": [
       "<Axes: >"
      ]
     },
     "execution_count": 6,
     "metadata": {},
     "output_type": "execute_result"
    },
    {
     "data": {
      "image/png": "[encoded data removed]",
      "text/plain": [
       "<Figure size 500x175 with 1 Axes>"
      ]
     },
     "metadata": {},
     "output_type": "display_data"
    }
   ],
   "source": [
    "post_hocs=model(formula=f\"{loss}~ + {algorithm} +(1|{benchmark})\",data=dataset).post_hoc(marginal_vars=algorithm)\n",
    "cd_diagram(post_hocs,reverse=False,ax=None,width=5)"
   ]
  },
  {
   "cell_type": "code",
   "execution_count": 4,
   "metadata": {},
   "outputs": [
    {
     "data": {
      "text/plain": [
       "<Axes: >"
      ]
     },
     "execution_count": 4,
     "metadata": {},
     "output_type": "execute_result"
    },
    {
     "data": {
      "image/png": "[encoded data removed]",
      "text/plain": [
       "<Figure size 1000x175 with 1 Axes>"
      ]
     },
     "metadata": {},
     "output_type": "display_data"
    }
   ],
   "source": [
    "autorank_data=convert_to_autorank(dataset.loc[dataset[budget]==4])\n",
    "autorank_res=autorank(autorank_data)\n",
    "# print(autorank_res)\n",
    "cd_diagram(autorank_res,reverse=False,ax=None,width=10)"
   ]
  },
  {
   "cell_type": "code",
   "execution_count": 5,
   "metadata": {},
   "outputs": [],
   "source": [
    "# fig_top,axes_top= plt.subplots(\n",
    "#         1,len(axes[0]),figsize=(max(fig.get_figwidth(),6*len(axes[0])),fig.get_figheight()/len(axes[0])))\n",
    "# autorank_results={}\n",
    "# for ax_n,ax in enumerate(axes_top):\n",
    "#     autorank_data=convert_to_autorank(data.loc[data[\"used_fidelity\"]<=time_slices[ax_n+1]])\n",
    "#     autorank_results[f\"1_{time_slices[ax_n+1]}\"]=autorank(autorank_data)\n",
    "#     ax=plot_stats(autorank_results[f\"1_{time_slices[ax_n+1]}\"],ax=ax,allow_insignificant=True)\n",
    "#     ax.set_title(f\"1_{time_slices[ax_n+1]}\", pad=0, y=-0.18)\n",
    "#     autorank_data=convert_to_autorank(data.loc[(data[\"used_fidelity\"]>=time_slices[ax_n])&(data[\"used_fidelity\"]<=time_slices[ax_n+1])])\n",
    "#     autorank_results[f\"{time_slices[ax_n]}_{time_slices[ax_n+1]}\"]=autorank(autorank_data)\n",
    "#     axes_bot[ax_n]=plot_stats(autorank_results[f\"{time_slices[ax_n]}_{time_slices[ax_n+1]}\"],ax=axes_bot[ax_n],allow_insignificant=True)\n",
    "#     axes_bot[ax_n].set_title(f\"{time_slices[ax_n]}_{time_slices[ax_n+1]}\", pad=0, y=-0.18)"
   ]
  }
 ],
 "metadata": {
  "kernelspec": {
   "display_name": ".venv_3_10_0",
   "language": "python",
   "name": "python3"
  },
  "language_info": {
   "codemirror_mode": {
    "name": "ipython",
    "version": 3
   },
   "file_extension": ".py",
   "mimetype": "text/x-python",
   "name": "python",
   "nbconvert_exporter": "python",
   "pygments_lexer": "ipython3",
   "version": "3.10.0"
  }
 },
 "nbformat": 4,
 "nbformat_minor": 2
}
