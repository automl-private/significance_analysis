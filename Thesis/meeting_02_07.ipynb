{
 "cells": [
  {
   "cell_type": "code",
   "execution_count": 7,
   "metadata": {},
   "outputs": [
    {
     "name": "stdout",
     "output_type": "stream",
     "text": [
      "      algorithm  used_fidelity     value  seed       bench_prior\n",
      "0            PB            1.0  0.521580     0     LC-167190_bad\n",
      "1            RS            1.0  0.224055     0     LC-167190_bad\n",
      "2            HB            1.0  0.216327     0     LC-167190_bad\n",
      "3            PB            1.0  0.521580     1     LC-167190_bad\n",
      "4            RS            1.0  0.234032     1     LC-167190_bad\n",
      "...         ...            ...       ...   ...               ...\n",
      "86245        RS           24.0  0.311192    48  PD1-ImageNet_bad\n",
      "86246        HB           24.0  0.238401    48  PD1-ImageNet_bad\n",
      "86247        PB           24.0  0.272386    49  PD1-ImageNet_bad\n",
      "86248        RS           24.0  0.228643    49  PD1-ImageNet_bad\n",
      "86249        HB           24.0  0.248037    49  PD1-ImageNet_bad\n",
      "\n",
      "[43200 rows x 5 columns]\n"
     ]
    }
   ],
   "source": [
    "import models\n",
    "from models import model, create_cd_cluster\n",
    "from dataset_management import get_dataset, convert_to_autorank\n",
    "from autorank import autorank, create_report, plot_stats\n",
    "import matplotlib.pyplot as plt\n",
    "import pandas as pd\n",
    "import numpy as np\n",
    "\n",
    "algorithm=\"algorithm\";benchmark=\"bench_prior\";seed=\"seed\";loss=\"value\";budget=\"used_fidelity\"\n",
    "\n",
    "data_5=get_dataset(dataset_name=\"fig5_24_at25_bad_intsteps\")\n",
    "data_5=data_5.loc[data_5[\"prior\"]==\"bad\"].drop(columns=[\"prior\",\"benchmark\",\"regret\",\"norm_regret\",\"rel_rank\"])\n",
    "print(data_5)"
   ]
  },
  {
   "cell_type": "code",
   "execution_count": 8,
   "metadata": {},
   "outputs": [
    {
     "name": "stdout",
     "output_type": "stream",
     "text": [
      "boundary (singular) fit: see help('isSingular') \n",
      "\n",
      "boundary (singular) fit: see help('isSingular') \n",
      "\n",
      "boundary (singular) fit: see help('isSingular') \n",
      "\n",
      "boundary (singular) fit: see help('isSingular') \n",
      "\n"
     ]
    }
   ],
   "source": [
    "m_root= model(formula=f\"{loss}~{algorithm}\",data=data_5)\n",
    "m_seed_random= model(formula=f\"{loss}~{algorithm}+(1|{seed})\",data=data_5)\n",
    "m_seed_fixed= model(formula=f\"{loss}~{algorithm}+{seed}\",data=data_5)\n",
    "m_bench_random = model(formula=f\"{loss}~{algorithm}+(1|{benchmark})\",data=data_5)\n",
    "m_bench_fixed = model(formula=f\"{loss}~{algorithm}+{benchmark}\",data=data_5)"
   ]
  },
  {
   "cell_type": "code",
   "execution_count": 9,
   "metadata": {},
   "outputs": [
    {
     "name": "stdout",
     "output_type": "stream",
     "text": [
      "M_root (-144296.4) == M_seed_fixed (-144296.36)\n",
      "Chi-Square: 0.06460504920687526, P-Value: 0.7993601834069115\n",
      "M_root (-144296.4) == M_seed_random (-144296.4)\n",
      "Chi-Square: 0.0, P-Value: nan\n",
      "M_root (-144296.4) << M_bench_random (-135047.08)\n",
      "Chi-Square: 18498.641380013665, P-Value: nan\n",
      "M_root (-144296.4) << M_bench_fixed (-134995.66)\n",
      "Chi-Square: 18601.46888155432, P-Value: 0.0\n",
      "M_bench_random (-135047.08) << M_bench_fixed (-134995.66)\n",
      "Chi-Square: 102.82750154065434, P-Value: 0.0\n"
     ]
    }
   ],
   "source": [
    "models.glrt(m_root,m_seed_fixed,names=[\"M_root\",\"M_seed_fixed\"])\n",
    "models.glrt(m_root,m_seed_random,names=[\"M_root\",\"M_seed_random\"])\n",
    "models.glrt(m_root,m_bench_random,names=[\"M_root\",\"M_bench_random\"])\n",
    "models.glrt(m_root,m_bench_fixed,names=[\"M_root\",\"M_bench_fixed\"])\n",
    "models.glrt(m_bench_random,m_bench_fixed,names=[\"M_bench_random\",\"M_bench_fixed\"])\n"
   ]
  },
  {
   "cell_type": "code",
   "execution_count": 10,
   "metadata": {},
   "outputs": [
    {
     "name": "stdout",
     "output_type": "stream",
     "text": [
      "P-values adjusted by tukey method for family of 3 estimates\n",
      "  Contrast  Estimate  P-val  Sig\n",
      "1  PB - RS     1.049  0.000  ***\n",
      "2  PB - HB     0.949  0.000  ***\n",
      "3  RS - HB    -0.100  0.272     \n"
     ]
    }
   ],
   "source": [
    "result=m_bench_fixed.post_hoc(marginal_vars=\"algorithm\")\n",
    "print(result[1].drop(columns=[\"2.5_ci\",\"97.5_ci\",\"SE\",\"DF\",\"T-stat\"]))"
   ]
  },
  {
   "cell_type": "code",
   "execution_count": 11,
   "metadata": {},
   "outputs": [
    {
     "name": "stdout",
     "output_type": "stream",
     "text": [
      "boundary (singular) fit: see help('isSingular') \n",
      "\n",
      "P-values adjusted by tukey method for family of 3 estimates\n"
     ]
    },
    {
     "data": {
      "image/png": "[encoded data removed]",
      "text/plain": [
       "<Figure size 333.333x333.333 with 1 Axes>"
      ]
     },
     "metadata": {},
     "output_type": "display_data"
    },
    {
     "data": {
      "text/plain": [
       "<Axes: >"
      ]
     },
     "execution_count": 11,
     "metadata": {},
     "output_type": "execute_result"
    },
    {
     "data": {
      "image/png": "[encoded data removed]",
      "text/plain": [
       "<Figure size 600x145 with 1 Axes>"
      ]
     },
     "metadata": {},
     "output_type": "display_data"
    }
   ],
   "source": [
    "data_10=data_5.loc[data_5[\"used_fidelity\"]==10]\n",
    "m_10 = model(formula=f\"{loss}~{algorithm}+{benchmark}\",data=data_10)\n",
    "m10_res=m_10.post_hoc(marginal_vars=\"algorithm\")\n",
    "_=create_cd_cluster({\"LMEM\":{\"budget: 10\":m10_res}})\n",
    "autorank_10=convert_to_autorank(data_10)\n",
    "plot_stats(autorank(autorank_10))"
   ]
  },
  {
   "cell_type": "code",
   "execution_count": 13,
   "metadata": {},
   "outputs": [
    {
     "ename": "KeyError",
     "evalue": "'budget'",
     "output_type": "error",
     "traceback": [
      "\u001b[1;31m---------------------------------------------------------------------------\u001b[0m",
      "\u001b[1;31mKeyError\u001b[0m                                  Traceback (most recent call last)",
      "File \u001b[1;32mc:\\Users\\Amega\\Git\\significance_analysis\\.venv_3_10_0\\lib\\site-packages\\pandas\\core\\indexes\\base.py:3653\u001b[0m, in \u001b[0;36mIndex.get_loc\u001b[1;34m(self, key)\u001b[0m\n\u001b[0;32m   3652\u001b[0m \u001b[38;5;28;01mtry\u001b[39;00m:\n\u001b[1;32m-> 3653\u001b[0m     \u001b[38;5;28;01mreturn\u001b[39;00m \u001b[38;5;28;43mself\u001b[39;49m\u001b[38;5;241;43m.\u001b[39;49m\u001b[43m_engine\u001b[49m\u001b[38;5;241;43m.\u001b[39;49m\u001b[43mget_loc\u001b[49m\u001b[43m(\u001b[49m\u001b[43mcasted_key\u001b[49m\u001b[43m)\u001b[49m\n\u001b[0;32m   3654\u001b[0m \u001b[38;5;28;01mexcept\u001b[39;00m \u001b[38;5;167;01mKeyError\u001b[39;00m \u001b[38;5;28;01mas\u001b[39;00m err:\n",
      "File \u001b[1;32mc:\\Users\\Amega\\Git\\significance_analysis\\.venv_3_10_0\\lib\\site-packages\\pandas\\_libs\\index.pyx:147\u001b[0m, in \u001b[0;36mpandas._libs.index.IndexEngine.get_loc\u001b[1;34m()\u001b[0m\n",
      "File \u001b[1;32mc:\\Users\\Amega\\Git\\significance_analysis\\.venv_3_10_0\\lib\\site-packages\\pandas\\_libs\\index.pyx:176\u001b[0m, in \u001b[0;36mpandas._libs.index.IndexEngine.get_loc\u001b[1;34m()\u001b[0m\n",
      "File \u001b[1;32mpandas\\_libs\\hashtable_class_helper.pxi:7080\u001b[0m, in \u001b[0;36mpandas._libs.hashtable.PyObjectHashTable.get_item\u001b[1;34m()\u001b[0m\n",
      "File \u001b[1;32mpandas\\_libs\\hashtable_class_helper.pxi:7088\u001b[0m, in \u001b[0;36mpandas._libs.hashtable.PyObjectHashTable.get_item\u001b[1;34m()\u001b[0m\n",
      "\u001b[1;31mKeyError\u001b[0m: 'budget'",
      "\nThe above exception was the direct cause of the following exception:\n",
      "\u001b[1;31mKeyError\u001b[0m                                  Traceback (most recent call last)",
      "Cell \u001b[1;32mIn[13], line 1\u001b[0m\n\u001b[1;32m----> 1\u001b[0m m_full \u001b[38;5;241m=\u001b[39m \u001b[43mmodel\u001b[49m\u001b[43m(\u001b[49m\u001b[43mformula\u001b[49m\u001b[38;5;241;43m=\u001b[39;49m\u001b[38;5;124;43mf\u001b[39;49m\u001b[38;5;124;43m\"\u001b[39;49m\u001b[38;5;132;43;01m{\u001b[39;49;00m\u001b[43mloss\u001b[49m\u001b[38;5;132;43;01m}\u001b[39;49;00m\u001b[38;5;124;43m~\u001b[39;49m\u001b[38;5;132;43;01m{\u001b[39;49;00m\u001b[43malgorithm\u001b[49m\u001b[38;5;132;43;01m}\u001b[39;49;00m\u001b[38;5;124;43m:\u001b[39;49m\u001b[38;5;132;43;01m{\u001b[39;49;00m\u001b[43mbudget\u001b[49m\u001b[38;5;132;43;01m}\u001b[39;49;00m\u001b[38;5;124;43m+\u001b[39;49m\u001b[38;5;132;43;01m{\u001b[39;49;00m\u001b[43mbenchmark\u001b[49m\u001b[38;5;132;43;01m}\u001b[39;49;00m\u001b[38;5;124;43m\"\u001b[39;49m\u001b[43m,\u001b[49m\u001b[43mdata\u001b[49m\u001b[38;5;241;43m=\u001b[39;49m\u001b[43mdata_5\u001b[49m\u001b[43m,\u001b[49m\u001b[43mfactor_list\u001b[49m\u001b[38;5;241;43m=\u001b[39;49m\u001b[43m[\u001b[49m\u001b[38;5;124;43m\"\u001b[39;49m\u001b[38;5;124;43mbudget\u001b[39;49m\u001b[38;5;124;43m\"\u001b[39;49m\u001b[43m]\u001b[49m\u001b[43m)\u001b[49m\n\u001b[0;32m      2\u001b[0m mfull_res\u001b[38;5;241m=\u001b[39mm_full\u001b[38;5;241m.\u001b[39mpost_hoc(marginal_vars\u001b[38;5;241m=\u001b[39m\u001b[38;5;124m\"\u001b[39m\u001b[38;5;124malgorithm\u001b[39m\u001b[38;5;124m\"\u001b[39m,grouping_vars\u001b[38;5;241m=\u001b[39m\u001b[38;5;124m\"\u001b[39m\u001b[38;5;124mbudget\u001b[39m\u001b[38;5;124m\"\u001b[39m)\n\u001b[0;32m      3\u001b[0m _\u001b[38;5;241m=\u001b[39mcreate_cd_cluster({\u001b[38;5;124m\"\u001b[39m\u001b[38;5;124mLMEM\u001b[39m\u001b[38;5;124m\"\u001b[39m:{\u001b[38;5;124m\"\u001b[39m\u001b[38;5;124mbudget: 10\u001b[39m\u001b[38;5;124m\"\u001b[39m:mfull_res}})\n",
      "File \u001b[1;32mc:\\Users\\Amega\\Git\\significance_analysis\\Thesis\\models.py:342\u001b[0m, in \u001b[0;36mmodel\u001b[1;34m(formula, data, system_id, factor, factor_list)\u001b[0m\n\u001b[0;32m    340\u001b[0m \u001b[38;5;28;01mif\u001b[39;00m factor_list:\n\u001b[0;32m    341\u001b[0m     \u001b[38;5;28;01mfor\u001b[39;00m factor \u001b[38;5;129;01min\u001b[39;00m factor_list:\n\u001b[1;32m--> 342\u001b[0m         factors[factor] \u001b[38;5;241m=\u001b[39m \u001b[38;5;28mlist\u001b[39m(\u001b[43mdata\u001b[49m\u001b[43m[\u001b[49m\u001b[43mfactor\u001b[49m\u001b[43m]\u001b[49m\u001b[38;5;241m.\u001b[39munique())\n\u001b[0;32m    343\u001b[0m model\u001b[38;5;241m.\u001b[39mfit(\n\u001b[0;32m    344\u001b[0m     factors\u001b[38;5;241m=\u001b[39mfactors,\n\u001b[0;32m    345\u001b[0m     REML\u001b[38;5;241m=\u001b[39m\u001b[38;5;28;01mFalse\u001b[39;00m,\n\u001b[0;32m    346\u001b[0m     summarize\u001b[38;5;241m=\u001b[39m\u001b[38;5;28;01mFalse\u001b[39;00m,\n\u001b[0;32m    347\u001b[0m     verbose\u001b[38;5;241m=\u001b[39m\u001b[38;5;28;01mFalse\u001b[39;00m,\n\u001b[0;32m    348\u001b[0m )\n\u001b[0;32m    350\u001b[0m \u001b[38;5;66;03m# model = Lm(\u001b[39;00m\n\u001b[0;32m    351\u001b[0m \u001b[38;5;66;03m#     formula=formula,\u001b[39;00m\n\u001b[0;32m    352\u001b[0m \u001b[38;5;66;03m#     data=data,\u001b[39;00m\n\u001b[0;32m    353\u001b[0m \u001b[38;5;66;03m# )\u001b[39;00m\n\u001b[0;32m    354\u001b[0m \u001b[38;5;66;03m# model.fit(verbose=False, summarize=False)\u001b[39;00m\n",
      "File \u001b[1;32mc:\\Users\\Amega\\Git\\significance_analysis\\.venv_3_10_0\\lib\\site-packages\\pandas\\core\\frame.py:3761\u001b[0m, in \u001b[0;36mDataFrame.__getitem__\u001b[1;34m(self, key)\u001b[0m\n\u001b[0;32m   3759\u001b[0m \u001b[38;5;28;01mif\u001b[39;00m \u001b[38;5;28mself\u001b[39m\u001b[38;5;241m.\u001b[39mcolumns\u001b[38;5;241m.\u001b[39mnlevels \u001b[38;5;241m>\u001b[39m \u001b[38;5;241m1\u001b[39m:\n\u001b[0;32m   3760\u001b[0m     \u001b[38;5;28;01mreturn\u001b[39;00m \u001b[38;5;28mself\u001b[39m\u001b[38;5;241m.\u001b[39m_getitem_multilevel(key)\n\u001b[1;32m-> 3761\u001b[0m indexer \u001b[38;5;241m=\u001b[39m \u001b[38;5;28;43mself\u001b[39;49m\u001b[38;5;241;43m.\u001b[39;49m\u001b[43mcolumns\u001b[49m\u001b[38;5;241;43m.\u001b[39;49m\u001b[43mget_loc\u001b[49m\u001b[43m(\u001b[49m\u001b[43mkey\u001b[49m\u001b[43m)\u001b[49m\n\u001b[0;32m   3762\u001b[0m \u001b[38;5;28;01mif\u001b[39;00m is_integer(indexer):\n\u001b[0;32m   3763\u001b[0m     indexer \u001b[38;5;241m=\u001b[39m [indexer]\n",
      "File \u001b[1;32mc:\\Users\\Amega\\Git\\significance_analysis\\.venv_3_10_0\\lib\\site-packages\\pandas\\core\\indexes\\base.py:3655\u001b[0m, in \u001b[0;36mIndex.get_loc\u001b[1;34m(self, key)\u001b[0m\n\u001b[0;32m   3653\u001b[0m     \u001b[38;5;28;01mreturn\u001b[39;00m \u001b[38;5;28mself\u001b[39m\u001b[38;5;241m.\u001b[39m_engine\u001b[38;5;241m.\u001b[39mget_loc(casted_key)\n\u001b[0;32m   3654\u001b[0m \u001b[38;5;28;01mexcept\u001b[39;00m \u001b[38;5;167;01mKeyError\u001b[39;00m \u001b[38;5;28;01mas\u001b[39;00m err:\n\u001b[1;32m-> 3655\u001b[0m     \u001b[38;5;28;01mraise\u001b[39;00m \u001b[38;5;167;01mKeyError\u001b[39;00m(key) \u001b[38;5;28;01mfrom\u001b[39;00m \u001b[38;5;21;01merr\u001b[39;00m\n\u001b[0;32m   3656\u001b[0m \u001b[38;5;28;01mexcept\u001b[39;00m \u001b[38;5;167;01mTypeError\u001b[39;00m:\n\u001b[0;32m   3657\u001b[0m     \u001b[38;5;66;03m# If we have a listlike key, _check_indexing_error will raise\u001b[39;00m\n\u001b[0;32m   3658\u001b[0m     \u001b[38;5;66;03m#  InvalidIndexError. Otherwise we fall through and re-raise\u001b[39;00m\n\u001b[0;32m   3659\u001b[0m     \u001b[38;5;66;03m#  the TypeError.\u001b[39;00m\n\u001b[0;32m   3660\u001b[0m     \u001b[38;5;28mself\u001b[39m\u001b[38;5;241m.\u001b[39m_check_indexing_error(key)\n",
      "\u001b[1;31mKeyError\u001b[0m: 'budget'"
     ]
    }
   ],
   "source": [
    "m_full = model(formula=f\"{loss}~{algorithm}:{budget}+{benchmark}\",data=data_5,factor_list=[\"budget\"])\n",
    "mfull_res=m_full.post_hoc(marginal_vars=\"algorithm\",grouping_vars=\"budget\")\n",
    "_=create_cd_cluster({\"LMEM\":{\"budget: 10\":mfull_res}})\n"
   ]
  }
 ],
 "metadata": {
  "kernelspec": {
   "display_name": ".venv_3_10_0",
   "language": "python",
   "name": "python3"
  },
  "language_info": {
   "codemirror_mode": {
    "name": "ipython",
    "version": 3
   },
   "file_extension": ".py",
   "mimetype": "text/x-python",
   "name": "python",
   "nbconvert_exporter": "python",
   "pygments_lexer": "ipython3",
   "version": "3.10.0"
  }
 },
 "nbformat": 4,
 "nbformat_minor": 2
}
