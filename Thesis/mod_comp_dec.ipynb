{
 "cells": [
  {
   "cell_type": "code",
   "execution_count": 1,
   "metadata": {},
   "outputs": [],
   "source": [
    "import models\n",
    "from models import combine_bench_prior, load_priorband_data,add_rel_ranks,rename_algos,create_incumbent, model\n",
    "import pandas as pd\n",
    "import numpy as np\n",
    "\n",
    "algorithm=\"algorithm\";benchmark=\"bench_prior\";seed=\"seed\";time=\"used_fidelity\"\n",
    "algos=[\"pb_mutation_dynamic_geometric-default-at-target\",\"random_search\",\"hyperband\"]\n",
    "fs=[24]\n",
    "f_space=np.linspace(1,max(fs),max(fs)).tolist()\n",
    "benchmarks=[\"jahs_cifar10\",\"jahs_colorectal_histology\",\"jahs_fashion_mnist\",\"lcbench-126026\",\"lcbench-167190\",\"lcbench-168330\",\"lcbench-168910\",\"lcbench-189906\",\"cifar100_wideresnet_2048\",\"imagenet_resnet_512\",\"lm1b_transformer_2048\",\"translatewmt_xformer_64\"]\n",
    "label_dict={'random_search': 'RS', 'hyperband': 'HB', 'pb_mutation_dynamic_geometric-default-at-target': 'PB', 'jahs_cifar10': 'JAHS-C10', 'jahs_colorectal_histology': 'JAHS-CH', 'jahs_fashion_mnist': 'JAHS-FM', 'lcbench-126026': 'LC-126026', 'lcbench-167190': 'LC-167190', 'lcbench-168330': 'LC-168330', 'lcbench-168910': 'LC-168910', 'lcbench-189906': 'LC-189906', 'cifar100_wideresnet_2048': 'PD1-Cifar100', 'imagenet_resnet_512': 'PD1-ImageNet', 'lm1b_transformer_2048': 'PD1-LM1B', 'translatewmt_xformer_64': 'PD1-WMT',\"random_search_prior\":\"RS+Prior\",\"bo\":\"BO\",\"pibo\":\"PiBO\",\"bohb\":\"BOHB\",\"priorband_bo\":\"PriorBand+BO\"}\n",
    "\n",
    "data=pd.read_parquet(\"priorband_benchPrior_relRanks_f24_meta.parquet\")"
   ]
  },
  {
   "cell_type": "code",
   "execution_count": 2,
   "metadata": {},
   "outputs": [
    {
     "name": "stdout",
     "output_type": "stream",
     "text": [
      "Task 1️⃣\n",
      "M₁ (-243759.47) >> M₀' (-269924.24)\n",
      "Chi-Square: 52329.54021185031, P-Value: 0.0\n",
      "=> Benchmarks are important in determining algorithms behaviour \n",
      "\n",
      "Task 2️⃣\n",
      "M₁ (-243759.47) >> M₀ (-243867.54)\n",
      "Chi-Square: 216.12467401474714, P-Value: 0.0\n",
      "=> And they should be a fixed factor\n"
     ]
    }
   ],
   "source": [
    "loss=\"value\"\n",
    "m0_bar=model(formula=f\"{loss}~{algorithm}\",data=data)\n",
    "m0=model(formula=f\"{loss}~{algorithm}+(1|{benchmark})\",data=data)\n",
    "m1=model(formula=f\"{loss}~{algorithm}+{benchmark}\",data=data)\n",
    "\n",
    "print(\"Task 1️⃣\")\n",
    "models.glrt(m1,m0_bar,names=[\"M₁\",\"M₀'\"])\n",
    "print(\"=> Benchmarks are important in determining algorithms behaviour \\n\")\n",
    "print(\"Task 2️⃣\")\n",
    "models.glrt(m1,m0,names=[\"M₁\",\"M₀\"])\n",
    "print(\"=> And they should be a fixed factor\")"
   ]
  },
  {
   "cell_type": "code",
   "execution_count": 3,
   "metadata": {},
   "outputs": [
    {
     "name": "stdout",
     "output_type": "stream",
     "text": [
      "Task 3️⃣ (Relative Ranks)\n",
      "boundary (singular) fit: see help('isSingular') \n",
      "\n",
      "M₁-rel (-96407.74) == M₀'-rel (-96407.74)\n",
      "Chi-Square: 8.265487849712372e-09, P-Value: 1.0\n",
      "=> Including benchmarks does not yield better model (as random effect introduces overfitting) \n",
      "\n",
      "M₁-rel (-96407.74) == M₀-rel (-96407.74)\n",
      "Chi-Square: 1.2456439435482025e-08, P-Value: 1.0\n",
      "=> Still no better model\n",
      "\n"
     ]
    }
   ],
   "source": [
    "print(\"Task 3️⃣ (Relative Ranks)\")\n",
    "loss=\"rel_rank\"\n",
    "mrel_0_bar=model(formula=f\"{loss}~{algorithm}\",data=data)\n",
    "mrel_0=model(formula=f\"{loss}~{algorithm}+(1|{benchmark})\",data=data)\n",
    "mrel_1=model(formula=f\"{loss}~{algorithm}+{benchmark}\",data=data)\n",
    "\n",
    "models.glrt(mrel_1,mrel_0_bar,names=[\"M₁-rel\",\"M₀'-rel\"])\n",
    "print(\"=> Including benchmarks does not yield better model (as random effect introduces overfitting) \\n\")\n",
    "models.glrt(mrel_1,mrel_0,names=[\"M₁-rel\",\"M₀-rel\"])\n",
    "print(\"=> Still no better model\\n\")\n"
   ]
  },
  {
   "cell_type": "code",
   "execution_count": 4,
   "metadata": {},
   "outputs": [
    {
     "name": "stdout",
     "output_type": "stream",
     "text": [
      "Task 4️⃣\n",
      "M₁ (-243759.47) << M₂ (-242526.64)\n",
      "Chi-Square: 2465.6748767755926, P-Value: 0.0\n",
      "=> Interaction effect is significance \n",
      "\n",
      "m_rel0' (-96407.74) << m2' (-91592.15)\n",
      "Chi-Square: 9631.1719700807, P-Value: 0.0\n"
     ]
    }
   ],
   "source": [
    "print(\"Task 4️⃣\")\n",
    "loss=\"value\"\n",
    "m2=model(formula=f\"{loss}~{algorithm}+{benchmark}+{algorithm}:{benchmark}\",data=data)\n",
    "\n",
    "models.glrt(m1,m2,names=[\"M₁\",\"M₂\"])\n",
    "print(\"=> Interaction effect is significance \\n\")\n",
    "\n",
    "loss=\"rel_rank\"\n",
    "m2_bar=model(formula=f\"{loss}~{algorithm}+{algorithm}:{benchmark}\",data=data)\n",
    "models.glrt(mrel_0_bar,m2_bar,[\"m_rel0'\",\"m2'\"])"
   ]
  },
  {
   "cell_type": "code",
   "execution_count": 5,
   "metadata": {},
   "outputs": [
    {
     "name": "stdout",
     "output_type": "stream",
     "text": [
      "Task 5️⃣\n",
      "\n",
      "Loss: value, Benchmark: bench_prior\n",
      "M₃ (-243759.47) >> M₃' (-269924.24)\n",
      "Chi-Square: 52329.54021185031, P-Value: 0.0\n",
      "M₃ (-243759.47) >> M₃'' (-243867.54)\n",
      "Chi-Square: 216.12467401474714, P-Value: 0.0\n",
      "\n",
      "Loss: value, Benchmark: n_Vars\n",
      "M₃ (-251270.1) >> M₃' (-269924.24)\n",
      "Chi-Square: 37308.285388170276, P-Value: 0.0\n",
      "M₃ (-251270.1) << M₃'' (-247691.9)\n",
      "Chi-Square: 7156.405198226334, P-Value: 0.0\n",
      "\n",
      "Loss: value, Benchmark: n_cont_Vars\n",
      "M₃ (-247691.44) >> M₃' (-269924.24)\n",
      "Chi-Square: 44465.614598759916, P-Value: 0.0\n",
      "M₃ (-247691.44) >> M₃'' (-247702.86)\n",
      "Chi-Square: 22.842979190056212, P-Value: 1.7579029557568404e-06\n",
      "\n",
      "Loss: value, Benchmark: n_cat_Vars\n",
      "M₃ (-247691.44) >> M₃' (-269924.24)\n",
      "Chi-Square: 44465.61459876015, P-Value: 0.0\n",
      "M₃ (-247691.44) >> M₃'' (-247702.86)\n",
      "Chi-Square: 22.842979190289043, P-Value: 1.7579029555347958e-06\n",
      "\n",
      "Loss: value, Benchmark: int\n",
      "M₃ (-268741.67) >> M₃' (-269924.24)\n",
      "Chi-Square: 2365.158368468052, P-Value: 0.0\n",
      "M₃ (-268741.67) >> M₃'' (-268750.05)\n",
      "Chi-Square: 16.76610634487588, P-Value: 4.228182589716134e-05\n",
      "\n",
      "Loss: regret, Benchmark: bench_prior\n",
      "M₃ (62698.69) >> M₃' (47515.22)\n",
      "Chi-Square: 30366.938878283952, P-Value: 0.0\n",
      "M₃ (62698.69) >> M₃'' (62598.81)\n",
      "Chi-Square: 199.77104271420103, P-Value: 0.0\n",
      "\n",
      "Loss: regret, Benchmark: n_Vars\n",
      "M₃ (52057.73) >> M₃' (47515.22)\n",
      "Chi-Square: 9085.019136564457, P-Value: 0.0\n",
      "M₃ (52057.73) << M₃'' (53629.95)\n",
      "Chi-Square: 3144.4363901646866, P-Value: 0.0\n",
      "\n",
      "Loss: regret, Benchmark: n_cont_Vars\n",
      "M₃ (53445.76) >> M₃' (47515.22)\n",
      "Chi-Square: 11861.063513422501, P-Value: 0.0\n",
      "M₃ (53445.76) >> M₃'' (53435.85)\n",
      "Chi-Square: 19.802248309497372, P-Value: 8.58815974402738e-06\n",
      "\n",
      "Loss: regret, Benchmark: n_cat_Vars\n",
      "M₃ (53445.76) >> M₃' (47515.22)\n",
      "Chi-Square: 11861.063513422385, P-Value: 0.0\n",
      "M₃ (53445.76) >> M₃'' (53435.85)\n",
      "Chi-Square: 19.802248309380957, P-Value: 8.588159744471469e-06\n",
      "\n",
      "Loss: regret, Benchmark: int\n",
      "M₃ (47561.85) >> M₃' (47515.22)\n",
      "Chi-Square: 93.25333496148232, P-Value: 0.0\n",
      "M₃ (47561.85) >> M₃'' (47556.71)\n",
      "Chi-Square: 10.27298392636294, P-Value: 0.0013499230094344838\n",
      "\n",
      "Loss: norm_regret, Benchmark: bench_prior\n",
      "M₃ (-243759.47) >> M₃' (-247587.46)\n",
      "Chi-Square: 7655.97685227124, P-Value: 0.0\n",
      "M₃ (-243759.47) >> M₃'' (-243841.19)\n",
      "Chi-Square: 163.43236174288904, P-Value: 0.0\n",
      "\n",
      "Loss: norm_regret, Benchmark: n_Vars\n",
      "M₃ (-244972.21) >> M₃' (-247587.46)\n",
      "Chi-Square: 5230.5057994015515, P-Value: 0.0\n",
      "M₃ (-244972.21) << M₃'' (-244637.29)\n",
      "Chi-Square: 669.8488167190808, P-Value: 0.0\n",
      "\n",
      "Loss: norm_regret, Benchmark: n_cont_Vars\n",
      "M₃ (-244624.13) >> M₃' (-247587.46)\n",
      "Chi-Square: 5926.665329352487, P-Value: 0.0\n",
      "M₃ (-244624.13) >> M₃'' (-244633.3)\n",
      "Chi-Square: 18.344786278088577, P-Value: 1.8432270013302166e-05\n",
      "\n",
      "Loss: norm_regret, Benchmark: n_cat_Vars\n",
      "M₃ (-244624.13) >> M₃' (-247587.46)\n",
      "Chi-Square: 5926.66532935272, P-Value: 0.0\n",
      "M₃ (-244624.13) >> M₃'' (-244633.3)\n",
      "Chi-Square: 18.344786278321408, P-Value: 1.843227001108172e-05\n",
      "\n",
      "Loss: norm_regret, Benchmark: int\n",
      "M₃ (-247407.13) >> M₃' (-247587.46)\n",
      "Chi-Square: 360.6683518313803, P-Value: 0.0\n",
      "M₃ (-247407.13) >> M₃'' (-247413.62)\n",
      "Chi-Square: 12.981549079006072, P-Value: 0.00031457559589864736\n",
      "\n",
      "Loss: rel_rank, Benchmark: bench_prior\n",
      "boundary (singular) fit: see help('isSingular') \n",
      "\n",
      "M₃ (-96407.74) == M₃' (-96407.74)\n",
      "Chi-Square: 8.265487849712372e-09, P-Value: 1.0\n",
      "M₃ (-96407.74) == M₃'' (-96407.74)\n",
      "Chi-Square: 1.2456439435482025e-08, P-Value: 1.0\n",
      "\n",
      "Loss: rel_rank, Benchmark: n_Vars\n",
      "boundary (singular) fit: see help('isSingular') \n",
      "\n",
      "M₃ (-96407.74) == M₃' (-96407.74)\n",
      "Chi-Square: 1.0477378964424133e-09, P-Value: 0.9999741734504647\n",
      "M₃ (-96407.74) == M₃'' (-96407.74)\n",
      "Chi-Square: 2.176966518163681e-08, P-Value: 0.9998822757493467\n",
      "\n",
      "Loss: rel_rank, Benchmark: n_cont_Vars\n",
      "boundary (singular) fit: see help('isSingular') \n",
      "\n",
      "M₃ (-96407.74) == M₃' (-96407.74)\n",
      "Chi-Square: 4.656612873077393e-10, P-Value: 0.9999827823003081\n",
      "M₃ (-96407.74) == M₃'' (-96407.74)\n",
      "Chi-Square: 2.1187588572502136e-08, P-Value: 0.9998838602664082\n",
      "\n",
      "Loss: rel_rank, Benchmark: n_cat_Vars\n",
      "boundary (singular) fit: see help('isSingular') \n",
      "\n",
      "M₃ (-96407.74) == M₃' (-96407.74)\n",
      "Chi-Square: 1.1641532182693481e-10, P-Value: 0.9999913911501536\n",
      "M₃ (-96407.74) == M₃'' (-96407.74)\n",
      "Chi-Square: 2.0838342607021332e-08, P-Value: 0.9998848214393438\n",
      "\n",
      "Loss: rel_rank, Benchmark: int\n",
      "boundary (singular) fit: see help('isSingular') \n",
      "\n",
      "M₃ (-96407.74) == M₃' (-96407.74)\n",
      "Chi-Square: 5.820766091346741e-10, P-Value: 0.9999807500265367\n",
      "M₃ (-96407.74) == M₃'' (-96407.74)\n",
      "Chi-Square: 2.130400389432907e-08, P-Value: 0.9998835416382847\n"
     ]
    }
   ],
   "source": [
    "\n",
    "print(\"Task 5️⃣\")\n",
    "for loss in [\"value\",\"regret\",\"norm_regret\",\"rel_rank\"]:\n",
    "    list=[]\n",
    "    for benchmark in [\"bench_prior\",\"n_Vars\",\"n_cont_Vars\",\"n_cat_Vars\",\"int\"]:\n",
    "        print(f\"\\nLoss: {loss}, Benchmark: {benchmark}\")\n",
    "        m3_bar=model(formula=f\"{loss}~{algorithm}\",data=data)\n",
    "        m3_bar_bar=model(formula=f\"{loss}~{algorithm}+(1|{benchmark})\",data=data)\n",
    "        m3=model(formula=f\"{loss}~{algorithm}+{benchmark}\",data=data)\n",
    "        list.append(m3.logLike)\n",
    "        models.glrt(m3,m3_bar,names=[\"M₃\",\"M₃'\"])\n",
    "        models.glrt(m3,m3_bar_bar,names=[\"M₃\",\"M₃''\"])\n",
    "        "
   ]
  },
  {
   "cell_type": "code",
   "execution_count": 6,
   "metadata": {},
   "outputs": [
    {
     "name": "stdout",
     "output_type": "stream",
     "text": [
      "Task 6️⃣\n",
      "m₄ (-241509.12) << m₄' (-232769.63)\n",
      "Chi-Square: 17478.9785439088, P-Value: 0.0\n",
      "=> Expanded model is better equipped\n"
     ]
    }
   ],
   "source": [
    "print(\"Task 6️⃣\")\n",
    "loss=\"value\";benchmark=\"bench_prior\"\n",
    "m4=model(formula=f\"{loss}~{algorithm}:{benchmark}+{time}\",data=data)\n",
    "# m4_0=model(formula=f\"{loss}~{algorithm}:{benchmark}+{time}+{algorithm}:{benchmark}:{time}+(1|{seed})\",data=data)\n",
    "# Singular fit error\n",
    "m4_bar=model(formula=f\"{loss}~{algorithm}:{benchmark}+{time}+({algorithm}:{benchmark}):{time}\",data=data)\n",
    "\n",
    "models.glrt(m4,m4_bar,names=[\"m₄\",\"m₄'\"])\n",
    "print(\"=> Expanded model is better equipped\")"
   ]
  }
 ],
 "metadata": {
  "kernelspec": {
   "display_name": ".venv_3_10_0",
   "language": "python",
   "name": "python3"
  },
  "language_info": {
   "codemirror_mode": {
    "name": "ipython",
    "version": 3
   },
   "file_extension": ".py",
   "mimetype": "text/x-python",
   "name": "python",
   "nbconvert_exporter": "python",
   "pygments_lexer": "ipython3",
   "version": "3.10.0"
  }
 },
 "nbformat": 4,
 "nbformat_minor": 2
}
