{
 "cells": [
  {
   "cell_type": "code",
   "execution_count": 1,
   "metadata": {},
   "outputs": [],
   "source": [
    "import models\n",
    "from models import model, create_cd_cluster, cd_diagram, bt_plot, glrt\n",
    "from dataset_management import get_dataset, convert_to_autorank\n",
    "from autorank import autorank, create_report, plot_stats\n",
    "import matplotlib.pyplot as plt\n",
    "import pandas as pd\n",
    "import numpy as np\n",
    "\n",
    "algorithm=\"algorithm\";benchmark=\"bench_prior\";seed=\"seed\";budget=\"used_fidelity\";loss=\"value\""
   ]
  },
  {
   "cell_type": "code",
   "execution_count": 12,
   "metadata": {},
   "outputs": [
    {
     "name": "stdout",
     "output_type": "stream",
     "text": [
      "       benchmark prior algorithm  used_fidelity     value  seed     bench_prior    regret  norm_regret  rel_rank  n_Vars  n_cont_Vars  n_cat_Vars  int_fid\n",
      "0      LC-167190   bad        PB            1.0  0.521580     0   LC-167190_bad  0.980827     0.385148       3.0       7            4           0        1\n",
      "1      LC-167190   bad        RS            1.0  0.224055     0   LC-167190_bad  0.223142     0.087623       2.0       7            4           0        1\n",
      "2      LC-167190   bad        HB            1.0  0.216327     0   LC-167190_bad  0.203461     0.079895       1.0       7            4           0        1\n",
      "3      LC-167190   bad        PB            1.0  0.521580     1   LC-167190_bad  0.980827     0.385148       3.0       7            4           0        1\n",
      "4      LC-167190   bad        RS            1.0  0.234032     1   LC-167190_bad  0.248550     0.097600       1.0       7            4           0        1\n",
      "...          ...   ...       ...            ...       ...   ...             ...       ...          ...       ...     ...          ...         ...      ...\n",
      "86395  LC-168330  at25        RS           24.0  0.434290    48  LC-168330_at25  0.321676     0.174381       3.0       7            4           0        1\n",
      "86396  LC-168330  at25        HB           24.0  0.375750    48  LC-168330_at25  0.213690     0.115842       2.0       7            4           0        1\n",
      "86397  LC-168330  at25        PB           24.0  0.418794    49  LC-168330_at25  0.293092     0.158886       3.0       7            4           0        1\n",
      "86398  LC-168330  at25        RS           24.0  0.378503    49  LC-168330_at25  0.218768     0.118594       1.0       7            4           0        1\n",
      "86399  LC-168330  at25        HB           24.0  0.383334    49  LC-168330_at25  0.227679     0.123425       2.0       7            4           0        1\n",
      "\n",
      "[86400 rows x 14 columns]\n",
      "boundary (singular) fit: see help('isSingular') \n",
      "\n",
      "pymer4.models.Lmer(fitted = True, formula = value~algorithm+(1|dummy), family = gaussian)\n",
      "n_Vars\n",
      "boundary (singular) fit: see help('isSingular') \n",
      "\n",
      "n_cont_Vars\n",
      "boundary (singular) fit: see help('isSingular') \n",
      "\n",
      "n_cat_Vars\n",
      "boundary (singular) fit: see help('isSingular') \n",
      "\n",
      "int_fid\n",
      "boundary (singular) fit: see help('isSingular') \n",
      "\n"
     ]
    }
   ],
   "source": [
    "data=get_dataset(dataset_name=\"fig5_24_at25_bad_intsteps\")\n",
    "# print(data.bench_prior.unique())\n",
    "\n",
    "# Extend dataset by metafeatures\n",
    "mfs=pd.read_csv(\"benchmark_metafeatures.csv\").drop([\"Name\",\"log_int_fid\",\"n_cond_Vars\"],axis=1)\n",
    "mf_names=list(mfs.columns[1:])\n",
    "def add_mf(row):\n",
    "    return pd.Series(mfs.loc[mfs[\"benchmark\"]==row[benchmark].rsplit(\"_\",1)[0]].values[0][1:])\n",
    "data[[\"n_Vars\",\"n_cont_Vars\",\"n_cat_Vars\",\"int_fid\"]]=data.apply(add_mf,axis=1)\n",
    "\n",
    "\n",
    "# Build the model\n",
    "\n",
    "# Base-model\n",
    "base_model = model(f\"{loss}~{algorithm}\", data)\n",
    "print(base_model)\n",
    "\n",
    "# Extend the model by testing which metafeatures has the biggest impact\n",
    "model_list={}\n",
    "for mf in mf_names:\n",
    "    print(mf)\n",
    "    model_list[mf] = model(f\"{loss}~{algorithm}+{mf}\", data)\n"
   ]
  },
  {
   "cell_type": "code",
   "execution_count": 33,
   "metadata": {},
   "outputs": [
    {
     "name": "stdout",
     "output_type": "stream",
     "text": [
      "Model: n_cont_Vars\n",
      "LogLike: -247691.43704112462\n",
      "Model: n_cat_Vars\n",
      "LogLike: -247691.43704112462\n",
      "Model: n_Vars\n",
      "LogLike: -251270.10164641845\n",
      "Model: int_fid\n",
      "LogLike: -268741.6651562674\n",
      "Model: Base model\n",
      "LogLike: -269924.24434049905\n"
     ]
    },
    {
     "ename": "",
     "evalue": "",
     "output_type": "error",
     "traceback": [
      "\u001b[1;31mThe Kernel crashed while executing code in the current cell or a previous cell. \n",
      "\u001b[1;31mPlease review the code in the cell(s) to identify a possible cause of the failure. \n",
      "\u001b[1;31mClick <a href='https://aka.ms/vscodeJupyterKernelCrash'>here</a> for more info. \n",
      "\u001b[1;31mView Jupyter <a href='command:jupyter.viewOutput'>log</a> for further details."
     ]
    }
   ],
   "source": [
    "# for mf in mf_names:\n",
    "#     glrt(model_list[mf], base_model,names=[mf, \"base\"])\n",
    "\n",
    "\n",
    "ranked_models = sorted(list(model_list.items())+[(\"Base model\",base_model)], key=lambda x: x[1].logLike, reverse=True)\n",
    "\n",
    "for model_name, model_obj in ranked_models:\n",
    "    print(f\"Model: {model_name}\")\n",
    "    print(f\"LogLike: {model_obj.logLike}\")\n"
   ]
  }
 ],
 "metadata": {
  "kernelspec": {
   "display_name": ".venv_3_10_0",
   "language": "python",
   "name": "python3"
  },
  "language_info": {
   "codemirror_mode": {
    "name": "ipython",
    "version": 3
   },
   "file_extension": ".py",
   "mimetype": "text/x-python",
   "name": "python",
   "nbconvert_exporter": "python",
   "pygments_lexer": "ipython3",
   "version": "3.10.0"
  }
 },
 "nbformat": 4,
 "nbformat_minor": 2
}
