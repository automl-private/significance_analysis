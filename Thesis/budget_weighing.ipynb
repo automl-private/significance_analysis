{
 "cells": [
  {
   "cell_type": "code",
   "execution_count": 1,
   "metadata": {},
   "outputs": [],
   "source": [
    "\"\"\"import os\n",
    "import pickle\n",
    "import sys\n",
    "\n",
    "import matplotlib.pyplot as plt\n",
    "from sklearn.cluster import KMeans\n",
    "import tabulate\n",
    "from autorank import autorank, create_report, plot_stats\n",
    "from matplotlib.gridspec import GridSpec\n",
    "from matplotlib.ticker import MultipleLocator\"\"\"\n",
    "import matplotlib.pyplot as plt\n",
    "import numpy as np\n",
    "import pandas as pd\n",
    "from pymer4.models import Lmer\n",
    "from scipy import stats\n",
    "from scipy.stats import rankdata\n",
    "from dataset_management import get_dataset\n",
    "from models import model\n",
    "\n",
    "pd.set_option(\"chained_assignment\", None)\n",
    "pd.set_option(\"display.max_rows\", 5000)\n",
    "pd.set_option(\"display.max_columns\", 5000)\n",
    "pd.set_option(\"display.width\", 10000)"
   ]
  },
  {
   "cell_type": "code",
   "execution_count": 3,
   "metadata": {},
   "outputs": [
    {
     "name": "stdout",
     "output_type": "stream",
     "text": [
      "Linear mixed model fit by maximum likelihood  ['lmerMod']\n",
      "Formula: value~algorithm+(1|bench_prior)\n",
      "\n",
      "Family: gaussian\t Inference: parametric\n",
      "\n",
      "Number of observations: 144000\t Groups: {'bench_prior': 24.0}\n",
      "\n",
      "Log-likelihood: -445740.195 \t AIC: 891494.390\n",
      "\n",
      "Random effects:\n",
      "\n",
      "                    Name     Var    Std\n",
      "bench_prior  (Intercept)  15.333  3.916\n",
      "Residual                  28.549  5.343\n",
      "\n",
      "No random effect correlations specified\n",
      "\n",
      "Fixed effects:\n",
      "\n",
      "             Estimate  2.5_ci  97.5_ci     SE          DF  T-stat  P-val  Sig\n",
      "(Intercept)     2.654   1.086    4.221  0.800      24.059   3.317  0.003   **\n",
      "algorithm1     -0.104  -0.191   -0.017  0.045  143976.000  -2.338  0.019    *\n",
      "algorithm2     -0.011  -0.099    0.076  0.045  143976.000  -0.255  0.799     \n",
      "algorithm3     -0.549  -0.636   -0.461  0.045  143976.000 -12.325  0.000  ***\n",
      "algorithm4     -0.358  -0.445   -0.271  0.045  143976.000  -8.038  0.000  ***\n",
      "P-values adjusted by tukey method for family of 10 estimates\n"
     ]
    }
   ],
   "source": [
    "algorithm=\"algorithm\";benchmark=\"bench_prior\";seed=\"seed\";time=\"used_fidelity\";loss=\"value\"\n",
    "dataset=get_dataset(dataset_name=\"fig7_24_at25_bad_intsteps\")\n",
    "mod=model(formula=f\"{loss}~{algorithm}+(1|{benchmark})\",data=dataset)\n",
    "print(mod.summary())\n",
    "posthoc=mod.post_hoc(marginal_vars=algorithm)"
   ]
  }
 ],
 "metadata": {
  "kernelspec": {
   "display_name": ".venv_3_10_0",
   "language": "python",
   "name": "python3"
  },
  "language_info": {
   "codemirror_mode": {
    "name": "ipython",
    "version": 3
   },
   "file_extension": ".py",
   "mimetype": "text/x-python",
   "name": "python",
   "nbconvert_exporter": "python",
   "pygments_lexer": "ipython3",
   "version": "3.10.0"
  }
 },
 "nbformat": 4,
 "nbformat_minor": 2
}
