{
 "cells": [
  {
   "cell_type": "code",
   "execution_count": 1,
   "metadata": {},
   "outputs": [],
   "source": [
    "\"\"\"import os\n",
    "import pickle\n",
    "import sys\n",
    "\n",
    "import matplotlib.pyplot as plt\n",
    "from sklearn.cluster import KMeans\n",
    "import tabulate\n",
    "from autorank import autorank, create_report, plot_stats\n",
    "from matplotlib.gridspec import GridSpec\n",
    "from matplotlib.ticker import MultipleLocator\"\"\"\n",
    "import matplotlib.pyplot as plt\n",
    "import numpy as np\n",
    "import pandas as pd\n",
    "from pymer4.models import Lmer\n",
    "from scipy import stats\n",
    "from scipy.stats import rankdata\n",
    "from dataset_management import get_dataset\n",
    "from models import model\n",
    "\n",
    "pd.set_option(\"chained_assignment\", None)\n",
    "pd.set_option(\"display.max_rows\", 5000)\n",
    "pd.set_option(\"display.max_columns\", 5000)\n",
    "pd.set_option(\"display.width\", 10000)"
   ]
  },
  {
   "cell_type": "code",
   "execution_count": 2,
   "metadata": {},
   "outputs": [
    {
     "name": "stdout",
     "output_type": "stream",
     "text": [
      "Linear mixed model fit by maximum likelihood  ['lmerMod']\n",
      "Formula: value~algorithm:used_fidelity+(1|bench_prior)\n",
      "\n",
      "Family: gaussian\t Inference: parametric\n",
      "\n",
      "Number of observations: 144000\t Groups: {'bench_prior': 24.0}\n",
      "\n",
      "Log-likelihood: -444182.083 \t AIC: 888380.166\n",
      "\n",
      "Random effects:\n",
      "\n",
      "                    Name     Var    Std\n",
      "bench_prior  (Intercept)  15.333  3.916\n",
      "Residual                  27.937  5.286\n",
      "\n",
      "No random effect correlations specified\n",
      "\n",
      "Fixed effects:\n",
      "\n",
      "                                     Estimate  2.5_ci  97.5_ci     SE          DF  T-stat  P-val  Sig\n",
      "(Intercept)                             3.911   2.344    5.479  0.800      24.046   4.890    0.0  ***\n",
      "algorithmRS+Prior:used_fidelity        -0.113  -0.119   -0.108  0.003  143976.000 -40.401    0.0  ***\n",
      "algorithmPriorBand+BO:used_fidelity    -0.119  -0.124   -0.113  0.003  143976.000 -42.339    0.0  ***\n",
      "algorithmPiBO:used_fidelity            -0.114  -0.120   -0.109  0.003  143976.000 -40.793    0.0  ***\n",
      "algorithmBO:used_fidelity              -0.121  -0.127   -0.116  0.003  143976.000 -43.363    0.0  ***\n",
      "algorithmBOHB:used_fidelity            -0.117  -0.123   -0.112  0.003  143976.000 -41.848    0.0  ***\n"
     ]
    }
   ],
   "source": [
    "algorithm=\"algorithm\";benchmark=\"bench_prior\";seed=\"seed\";time=\"used_fidelity\";loss=\"value\"\n",
    "dataset=get_dataset(dataset_name=\"fig7_24_at25_bad_intsteps\")\n",
    "# dataset[time]=dataset[time].astype(str)\n",
    "mod=model(formula=f\"{loss}~{algorithm}:{time}+(1|{benchmark})\",data=dataset,factor_list=[algorithm])\n",
    "print(mod.summary())\n"
   ]
  },
  {
   "cell_type": "code",
   "execution_count": 3,
   "metadata": {},
   "outputs": [
    {
     "ename": "ValueError",
     "evalue": "All grouping_vars must be existing categorical variables (i.e. factors)",
     "output_type": "error",
     "traceback": [
      "\u001b[1;31m---------------------------------------------------------------------------\u001b[0m",
      "\u001b[1;31mValueError\u001b[0m                                Traceback (most recent call last)",
      "Cell \u001b[1;32mIn[3], line 1\u001b[0m\n\u001b[1;32m----> 1\u001b[0m \u001b[38;5;28mprint\u001b[39m(\u001b[43mmod\u001b[49m\u001b[38;5;241;43m.\u001b[39;49m\u001b[43mpost_hoc\u001b[49m\u001b[43m(\u001b[49m\u001b[43mmarginal_vars\u001b[49m\u001b[38;5;241;43m=\u001b[39;49m\u001b[43malgorithm\u001b[49m\u001b[43m,\u001b[49m\u001b[43mgrouping_vars\u001b[49m\u001b[38;5;241;43m=\u001b[39;49m\u001b[43mtime\u001b[49m\u001b[43m)\u001b[49m)\n",
      "File \u001b[1;32mc:\\Users\\Amega\\Git\\significance_analysis\\.venv_3_10_0\\lib\\site-packages\\pymer4\\models\\Lmer.py:1118\u001b[0m, in \u001b[0;36mLmer.post_hoc\u001b[1;34m(self, marginal_vars, grouping_vars, p_adjust, summarize, dof_asymptotic_at, verbose)\u001b[0m\n\u001b[0;32m   1116\u001b[0m     \u001b[38;5;66;03m# Conditional vars can only be factor types\u001b[39;00m\n\u001b[0;32m   1117\u001b[0m     \u001b[38;5;28;01mif\u001b[39;00m \u001b[38;5;129;01mnot\u001b[39;00m \u001b[38;5;28mall\u001b[39m([elem \u001b[38;5;129;01min\u001b[39;00m \u001b[38;5;28mself\u001b[39m\u001b[38;5;241m.\u001b[39mfactors\u001b[38;5;241m.\u001b[39mkeys() \u001b[38;5;28;01mfor\u001b[39;00m elem \u001b[38;5;129;01min\u001b[39;00m grouping_vars]):\n\u001b[1;32m-> 1118\u001b[0m         \u001b[38;5;28;01mraise\u001b[39;00m \u001b[38;5;167;01mValueError\u001b[39;00m(\n\u001b[0;32m   1119\u001b[0m             \u001b[38;5;124m\"\u001b[39m\u001b[38;5;124mAll grouping_vars must be existing categorical variables (i.e. factors)\u001b[39m\u001b[38;5;124m\"\u001b[39m\n\u001b[0;32m   1120\u001b[0m         )\n\u001b[0;32m   1122\u001b[0m \u001b[38;5;66;03m# Need to figure out if marginal_vars is continuous or not to determine lstrends or emmeans call\u001b[39;00m\n\u001b[0;32m   1123\u001b[0m cont, factor \u001b[38;5;241m=\u001b[39m [], []\n",
      "\u001b[1;31mValueError\u001b[0m: All grouping_vars must be existing categorical variables (i.e. factors)"
     ]
    }
   ],
   "source": [
    "print(mod.post_hoc(marginal_vars=algorithm,grouping_vars=time))"
   ]
  }
 ],
 "metadata": {
  "kernelspec": {
   "display_name": ".venv_3_10_0",
   "language": "python",
   "name": "python3"
  },
  "language_info": {
   "codemirror_mode": {
    "name": "ipython",
    "version": 3
   },
   "file_extension": ".py",
   "mimetype": "text/x-python",
   "name": "python",
   "nbconvert_exporter": "python",
   "pygments_lexer": "ipython3",
   "version": "3.10.0"
  }
 },
 "nbformat": 4,
 "nbformat_minor": 2
}
