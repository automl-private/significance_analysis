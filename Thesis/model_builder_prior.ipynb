{
 "cells": [
  {
   "cell_type": "code",
   "execution_count": 1,
   "metadata": {},
   "outputs": [
    {
     "name": "stdout",
     "output_type": "stream",
     "text": [
      "✅ Loading data done                                                                                 \n"
     ]
    }
   ],
   "source": [
    "import os\n",
    "import typing\n",
    "\n",
    "import numpy as np\n",
    "import pandas as pd\n",
    "from scipy.stats import rankdata\n",
    "from itertools import product,combinations,chain\n",
    "from models import bt_plot,model,glrt,model_builder\n",
    "from dataset_management import get_dataset\n",
    "from pymer4.models import Lmer\n",
    "import matplotlib.pyplot as plt\n",
    "\n",
    "\n",
    "pd.set_option(\"chained_assignment\", None)\n",
    "pd.set_option(\"display.max_rows\", 5000)\n",
    "pd.set_option(\"display.max_columns\", 5000)\n",
    "pd.set_option(\"display.width\", 10000)\n",
    "dataset=get_dataset(dataset_name=\"fig5_full\")\n",
    "dataset=dataset.loc[(dataset[\"used_fidelity\"].isin(range(1,25)))&(dataset[\"prior\"].isin([\"at25\",\"bad\"]))]\n",
    "algorithm=\"algorithm\";bench_prior=\"bench_prior\";benchmark=\"benchmark\";budget=\"used_fidelity\"\n"
   ]
  },
  {
   "cell_type": "code",
   "execution_count": 2,
   "metadata": {},
   "outputs": [
    {
     "name": "stdout",
     "output_type": "stream",
     "text": [
      "=> Seed is not a significant effect\n",
      "=> Benchmark LC-167190    is informative.\n",
      "=> Benchmark LC-126026    is informative.\n",
      "=> Benchmark LC-168330    is informative.\n",
      "=> Benchmark LC-168910    is informative.\n",
      "=> Benchmark PD1-LM1B     is informative.\n",
      "=> Benchmark PD1-WMT      is informative.\n",
      "=> Benchmark JAHS-C10     is informative.\n",
      "=> Benchmark LC-189906    is informative.\n",
      "=> Benchmark PD1-Cifar100 is informative.\n",
      "=> Benchmark JAHS-CH      is informative.\n",
      "=> Benchmark JAHS-FM      is informative.\n",
      "=> Benchmark PD1-ImageNet is informative.\n",
      "=> Fidelity used_fidelity is both as simple and interaction effect significant, but interaction effect performs better.\n"
     ]
    }
   ],
   "source": [
    "builder=model_builder(dataset,system_var=\"algorithm\",benchmark_var=\"benchmark\",fidelities=[budget])\n",
    "builder.test_seed_dependency(verbose=False)\n",
    "builder.test_benchmark_information(verbose=False)\n",
    "builder.test_fidelity(fidelity_var=budget,verbose=False)"
   ]
  },
  {
   "cell_type": "code",
   "execution_count": 3,
   "metadata": {},
   "outputs": [],
   "source": [
    "# builder=model_builder(dataset,system_var=\"algorithm\",benchmark_var=\"benchmark\",fidelities=[budget])\n",
    "# builder.test_seed_dependency()\n",
    "# builder.test_fidelity(fidelity_var=budget)\n",
    "# info,ranef=builder.test_benchmark_information(rank_benchmarks=True)\n",
    "# plt.show()"
   ]
  },
  {
   "cell_type": "code",
   "execution_count": 5,
   "metadata": {},
   "outputs": [
    {
     "name": "stdout",
     "output_type": "stream",
     "text": [
      "            Name        Var       Std\n",
      "0       JAHS-C10  67.611831  8.222641\n",
      "1        JAHS-CH  19.218216  4.383859\n",
      "2        JAHS-FM  11.588338  3.404165\n",
      "3      LC-126026   3.744126  1.934974\n",
      "4      LC-167190   3.267151  1.807526\n",
      "5      LC-168330   2.610961  1.615847\n",
      "6      LC-168910   2.862162  1.691793\n",
      "7      LC-189906   3.343490  1.828521\n",
      "8   PD1-Cifar100   2.875460  1.695718\n",
      "9   PD1-ImageNet   2.973776  1.724464\n",
      "10      PD1-LM1B   1.907653  1.381178\n",
      "11       PD1-WMT   2.604298  1.613784\n",
      "            Name         Var        Std\n",
      "0       JAHS-C10  108.276528  10.405601\n",
      "1        JAHS-CH   41.230280   6.421081\n",
      "2        JAHS-FM   27.879616   5.280115\n",
      "3      LC-126026    0.293369   0.541636\n",
      "4      LC-167190    0.165157   0.406395\n",
      "5      LC-168330    0.040433   0.201079\n",
      "6      LC-168910    0.079015   0.281096\n",
      "7      LC-189906    0.183020   0.427808\n",
      "8   PD1-Cifar100    0.078261   0.279752\n",
      "9   PD1-ImageNet    0.101145   0.318034\n",
      "10      PD1-LM1B    0.001204   0.034697\n",
      "11       PD1-WMT    0.041191   0.202955\n"
     ]
    }
   ],
   "source": [
    "ranef=pd.read_parquet(\"datasets/ranef_allpriors_int.parquet\")\n",
    "print(ranef.reset_index(drop=True))\n",
    "ranef=pd.read_parquet(\"datasets/ranef_at25bad_int.parquet\")\n",
    "print(ranef.reset_index(drop=True))"
   ]
  }
 ],
 "metadata": {
  "kernelspec": {
   "display_name": ".venv_3_10_0",
   "language": "python",
   "name": "python3"
  },
  "language_info": {
   "codemirror_mode": {
    "name": "ipython",
    "version": 3
   },
   "file_extension": ".py",
   "mimetype": "text/x-python",
   "name": "python",
   "nbconvert_exporter": "python",
   "pygments_lexer": "ipython3",
   "version": "3.10.0"
  }
 },
 "nbformat": 4,
 "nbformat_minor": 2
}
