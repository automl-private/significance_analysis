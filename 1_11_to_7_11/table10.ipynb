{
 "cells": [
  {
   "cell_type": "code",
   "execution_count": 1,
   "metadata": {},
   "outputs": [
    {
     "name": "stdout",
     "output_type": "stream",
     "text": [
      "Seed 50/50\r"
     ]
    }
   ],
   "source": [
    "import pandas as pd\n",
    "import numpy as np\n",
    "pd.set_option(\"chained_assignment\", None)\n",
    "pd.set_option(\"display.max_rows\", 5000)\n",
    "pd.set_option(\"display.max_columns\", 5000)\n",
    "pd.set_option(\"display.width\", 10000)\n",
    "\n",
    "def load_priorband_data():\n",
    "    df = pd.read_parquet(\"data_for_anton.parquet\")\n",
    "    df=df.reset_index()\n",
    "    df_collection=[]\n",
    "    for seed_nr in range(50):\n",
    "        partial_df=df[[\"benchmark\",\"prior\",\"algorithm\",\"used_fidelity\"]]\n",
    "        partial_df[\"value\"]=df[f\"seed-{seed_nr}\"]\n",
    "        partial_df[\"seed\"]=seed_nr\n",
    "        df_collection.append(partial_df)\n",
    "        print(f\"Seed {seed_nr+1}/50\", end=\"\\r\", flush=True)\n",
    "    return pd.concat(df_collection,ignore_index=True)\n",
    "\n",
    "df=load_priorband_data()"
   ]
  },
  {
   "cell_type": "code",
   "execution_count": 2,
   "metadata": {},
   "outputs": [
    {
     "name": "stdout",
     "output_type": "stream",
     "text": [
      "Prior medium, Benchmark 12/12        \r"
     ]
    }
   ],
   "source": [
    "algo_dict={\"rs_hb_pb\":[\"random_search\",\"hyperband\",\"pb_mutation_dynamic_geometric-default-at-target\"]}\n",
    "algo_dict[\"fig7\"]=[\"random_search_prior\",\"bo\",\"bohb\",\"priorband_bo\"]\n",
    "prior_dict={\"good+bad\":[\"at25\",\"bad\"]}\n",
    "benchmarks=[\"jahs_cifar10\",\"jahs_colorectal_histology\",\"jahs_fashion_mnist\",\"lcbench-126026\",\"lcbench-167190\",\"lcbench-168330\",\"lcbench-168910\",\"lcbench-189906\",\"cifar100_wideresnet_2048\",\"imagenet_resnet_512\",\"lm1b_transformer_2048\",\"translatewmt_xformer_64\"]\n",
    "label_dict={'random_search': 'RS', 'hyperband': 'HB', 'pb_mutation_dynamic_geometric-default-at-target': 'PB', 'jahs_cifar10': 'JAHS-C10', 'jahs_colorectal_histology': 'JAHS-CH', 'jahs_fashion_mnist': 'JAHS-FM', 'lcbench-126026': 'LC-126026', 'lcbench-167190': 'LC-167190', 'lcbench-168330': 'LC-168330', 'lcbench-168910': 'LC-168910', 'lcbench-189906': 'LC-189906', 'cifar100_wideresnet_2048': 'PD1-Cifar100', 'imagenet_resnet_512': 'PD1-ImageNet', 'lm1b_transformer_2048': 'PD1-LM1B', 'translatewmt_xformer_64': 'PD1-WMT',\"random_search_prior\":\"RS+Prior\",\"bo\":\"BO\",\"pibo\":\"PiBO\",\"bohb\":\"BOHB\",\"priorband_bo\":\"PriorBand+BO\"}\n",
    "\n",
    "for priortype in df[\"prior\"].unique():\n",
    "    prior_dict[priortype]=[priortype]\n",
    "\n",
    "\n",
    "df_dict={}\n",
    "for prior_key,prior_value in prior_dict.items():\n",
    "    df_dict[prior_key]={}\n",
    "    for b_n,benchmark in enumerate(benchmarks):\n",
    "        print(f\"Prior {prior_key}, Benchmark {b_n+1}/{len(benchmarks)}      \", end=\"\\r\", flush=True)\n",
    "        df_dict[prior_key][benchmark]={}\n",
    "        for algo_key,algo_value in algo_dict.items():\n",
    "            df_dict[prior_key][benchmark][algo_key]=df.loc[(df[\"prior\"].isin(prior_value))&(df[\"algorithm\"].isin(algo_value))&(df[\"benchmark\"]==benchmark)].reset_index(drop=True)"
   ]
  },
  {
   "cell_type": "code",
   "execution_count": 3,
   "metadata": {},
   "outputs": [],
   "source": [
    "\n",
    "def create_autorank_incumbent(priors:list[str],fs:list[float],algorithms:list[str],algo_group:str,benchmarks:list[str],df_dict:pd.DataFrame):\n",
    "    output={}\n",
    "    output[\"dataset\"]={}\n",
    "    output[\"mean_std\"]={}\n",
    "    for p_n,prior in enumerate(priors):\n",
    "        output[\"dataset\"][prior]={}\n",
    "        output[\"mean_std\"][prior]={}\n",
    "        for f_n,max_f in enumerate(fs):\n",
    "            output[\"dataset\"][prior][max_f]={}\n",
    "            labels=[]\n",
    "            for algo in algorithms:\n",
    "                labels.append(label_dict[algo])\n",
    "            output[\"mean_std\"][prior][max_f]=pd.DataFrame(columns=[\"benchmark\"]+labels)\n",
    "            for benchmark in benchmarks:\n",
    "                output[\"dataset\"][prior][max_f][benchmark]=pd.DataFrame()\n",
    "                means_std=[]\n",
    "                for algorithm in algorithms:\n",
    "                    df_at_point=df_dict[prior][benchmark][algo_group].loc[df_dict[prior][benchmark][algo_group][\"algorithm\"]==algorithm]\n",
    "                    df_at_point=df_at_point.loc[df_at_point[\"used_fidelity\"]<=max_f]\n",
    "                    column=[]\n",
    "                    for seed in df_at_point[\"seed\"].unique():\n",
    "                        column.append(df_at_point.loc[df_at_point[\"seed\"]==seed].iloc[-1][\"value\"])\n",
    "                    output[\"dataset\"][prior][max_f][benchmark][algorithm]=column\n",
    "                    means_std.append(str(np.round(output[\"dataset\"][prior][max_f][benchmark][algorithm].mean(),3))+\" ± \"+str(np.round(output[\"dataset\"][prior][max_f][benchmark][algorithm].std(),3)))\n",
    "                output[\"mean_std\"][prior][max_f].loc[len(output[\"mean_std\"][prior][max_f])]=[label_dict[benchmark]]+means_std\n",
    "                print(f\"Prior {prior} ({p_n+1}), Fidelity {f_n+1}/{len(fs)}          \", end=\"\\r\", flush=True)\n",
    "                # print(output[\"mean_std\"][prior][max_f].to_markdown(index=False),\"\\n\")\n",
    "                # print(f\"  {max_f}x  {prior}-Prior  {benchmark}\")\n",
    "                # plot_stats(autorank(output[\"dataset\"][prior][max_f][benchmark]),allow_insignificant=True)\n",
    "                # plt.show()\n",
    "    return (output[\"dataset\"],output[\"mean_std\"])"
   ]
  },
  {
   "cell_type": "code",
   "execution_count": 4,
   "metadata": {},
   "outputs": [
    {
     "name": "stdout",
     "output_type": "stream",
     "text": [
      "{'at25': {5:        benchmark              RS              HB             PB\n",
      "0       JAHS-C10  11.454 ± 1.935  11.129 ± 1.256  9.986 ± 0.369\n",
      "1        JAHS-CH   6.752 ± 0.943    6.332 ± 1.12  5.974 ± 0.535\n",
      "2        JAHS-FM   5.497 ± 0.396   5.805 ± 0.614  5.037 ± 0.021\n",
      "3      LC-126026   0.053 ± 0.011   0.043 ± 0.008  0.042 ± 0.004\n",
      "4      LC-167190   0.214 ± 0.021   0.185 ± 0.019  0.193 ± 0.023\n",
      "5      LC-168330   0.444 ± 0.046   0.408 ± 0.034   0.415 ± 0.02\n",
      "6      LC-168910    0.38 ± 0.093   0.313 ± 0.019  0.311 ± 0.017\n",
      "7      LC-189906    0.222 ± 0.09   0.151 ± 0.021   0.151 ± 0.01\n",
      "8   PD1-Cifar100   0.378 ± 0.156   0.357 ± 0.102  0.258 ± 0.002\n",
      "9   PD1-ImageNet   0.333 ± 0.108   0.301 ± 0.044  0.224 ± 0.001\n",
      "10      PD1-LM1B   0.681 ± 0.034   0.651 ± 0.013  0.646 ± 0.008\n",
      "11       PD1-WMT   0.454 ± 0.097   0.402 ± 0.032   0.37 ± 0.008, 12:        benchmark              RS              HB             PB\n",
      "0       JAHS-C10  10.451 ± 1.055  10.077 ± 0.769  9.457 ± 0.415\n",
      "1        JAHS-CH   5.977 ± 0.646   5.704 ± 0.659  5.589 ± 0.413\n",
      "2        JAHS-FM   5.282 ± 0.299     5.3 ± 0.268  5.026 ± 0.044\n",
      "3      LC-126026   0.048 ± 0.008   0.042 ± 0.007   0.04 ± 0.005\n",
      "4      LC-167190      0.2 ± 0.02   0.181 ± 0.017  0.181 ± 0.023\n",
      "5      LC-168330   0.406 ± 0.038   0.397 ± 0.031  0.387 ± 0.034\n",
      "6      LC-168910   0.324 ± 0.032   0.307 ± 0.016  0.293 ± 0.021\n",
      "7      LC-189906   0.166 ± 0.033   0.145 ± 0.019  0.134 ± 0.013\n",
      "8   PD1-Cifar100   0.302 ± 0.074    0.29 ± 0.039  0.248 ± 0.013\n",
      "9   PD1-ImageNet   0.282 ± 0.049   0.265 ± 0.023  0.219 ± 0.008\n",
      "10      PD1-LM1B   0.658 ± 0.013   0.647 ± 0.012  0.641 ± 0.009\n",
      "11       PD1-WMT   0.403 ± 0.038    0.384 ± 0.02  0.367 ± 0.009}, 'bad': {5:        benchmark              RS              HB              PB\n",
      "0       JAHS-C10  11.454 ± 1.935  11.129 ± 1.256  11.729 ± 1.795\n",
      "1        JAHS-CH   6.752 ± 0.943    6.332 ± 1.12   6.553 ± 1.284\n",
      "2        JAHS-FM   5.497 ± 0.396   5.805 ± 0.614   5.856 ± 0.585\n",
      "3      LC-126026   0.053 ± 0.011   0.043 ± 0.008   0.048 ± 0.008\n",
      "4      LC-167190   0.214 ± 0.021   0.185 ± 0.019    0.189 ± 0.02\n",
      "5      LC-168330   0.444 ± 0.046   0.408 ± 0.034   0.431 ± 0.025\n",
      "6      LC-168910    0.38 ± 0.093   0.313 ± 0.019   0.309 ± 0.018\n",
      "7      LC-189906    0.222 ± 0.09   0.151 ± 0.021   0.176 ± 0.031\n",
      "8   PD1-Cifar100   0.378 ± 0.156   0.357 ± 0.102    0.49 ± 0.199\n",
      "9   PD1-ImageNet   0.333 ± 0.108   0.301 ± 0.044    0.311 ± 0.04\n",
      "10      PD1-LM1B   0.681 ± 0.034   0.651 ± 0.013   0.657 ± 0.014\n",
      "11       PD1-WMT   0.454 ± 0.097   0.402 ± 0.032   0.425 ± 0.057, 12:        benchmark              RS              HB              PB\n",
      "0       JAHS-C10  10.451 ± 1.055  10.077 ± 0.769  10.075 ± 0.777\n",
      "1        JAHS-CH   5.977 ± 0.646   5.704 ± 0.659   5.551 ± 0.516\n",
      "2        JAHS-FM   5.282 ± 0.299     5.3 ± 0.268   5.277 ± 0.248\n",
      "3      LC-126026   0.048 ± 0.008   0.042 ± 0.007   0.043 ± 0.008\n",
      "4      LC-167190      0.2 ± 0.02   0.181 ± 0.017   0.177 ± 0.021\n",
      "5      LC-168330   0.406 ± 0.038   0.397 ± 0.031   0.401 ± 0.041\n",
      "6      LC-168910   0.324 ± 0.032   0.307 ± 0.016   0.297 ± 0.017\n",
      "7      LC-189906   0.166 ± 0.033   0.145 ± 0.019    0.15 ± 0.027\n",
      "8   PD1-Cifar100   0.302 ± 0.074    0.29 ± 0.039   0.297 ± 0.058\n",
      "9   PD1-ImageNet   0.282 ± 0.049   0.265 ± 0.023    0.27 ± 0.028\n",
      "10      PD1-LM1B   0.658 ± 0.013   0.647 ± 0.012   0.648 ± 0.013\n",
      "11       PD1-WMT   0.403 ± 0.038    0.384 ± 0.02   0.383 ± 0.021}, 'good+bad': {5:        benchmark              RS              HB              PB\n",
      "0       JAHS-C10  11.454 ± 1.935  11.129 ± 1.256  11.729 ± 1.795\n",
      "1        JAHS-CH   6.752 ± 0.943    6.332 ± 1.12   6.553 ± 1.284\n",
      "2        JAHS-FM   5.497 ± 0.396   5.805 ± 0.614   5.856 ± 0.585\n",
      "3      LC-126026   0.053 ± 0.011   0.043 ± 0.008   0.042 ± 0.004\n",
      "4      LC-167190   0.214 ± 0.021   0.185 ± 0.019   0.193 ± 0.023\n",
      "5      LC-168330   0.444 ± 0.046   0.408 ± 0.034    0.415 ± 0.02\n",
      "6      LC-168910    0.38 ± 0.093   0.313 ± 0.019   0.311 ± 0.017\n",
      "7      LC-189906    0.222 ± 0.09   0.151 ± 0.021    0.151 ± 0.01\n",
      "8   PD1-Cifar100   0.378 ± 0.156   0.357 ± 0.102    0.49 ± 0.199\n",
      "9   PD1-ImageNet   0.333 ± 0.108   0.301 ± 0.044    0.311 ± 0.04\n",
      "10      PD1-LM1B   0.681 ± 0.034   0.651 ± 0.013   0.646 ± 0.008\n",
      "11       PD1-WMT   0.454 ± 0.097   0.402 ± 0.032    0.37 ± 0.008, 12:        benchmark              RS              HB              PB\n",
      "0       JAHS-C10  10.451 ± 1.055  10.077 ± 0.769  10.075 ± 0.777\n",
      "1        JAHS-CH   5.977 ± 0.646   5.704 ± 0.659   5.551 ± 0.516\n",
      "2        JAHS-FM   5.282 ± 0.299     5.3 ± 0.268   5.277 ± 0.248\n",
      "3      LC-126026   0.048 ± 0.008   0.042 ± 0.007    0.04 ± 0.005\n",
      "4      LC-167190      0.2 ± 0.02   0.181 ± 0.017   0.181 ± 0.023\n",
      "5      LC-168330   0.406 ± 0.038   0.397 ± 0.031   0.387 ± 0.034\n",
      "6      LC-168910   0.324 ± 0.032   0.307 ± 0.016   0.293 ± 0.021\n",
      "7      LC-189906   0.166 ± 0.033   0.145 ± 0.019   0.134 ± 0.013\n",
      "8   PD1-Cifar100   0.302 ± 0.074    0.29 ± 0.039   0.297 ± 0.058\n",
      "9   PD1-ImageNet   0.282 ± 0.049   0.265 ± 0.023    0.27 ± 0.028\n",
      "10      PD1-LM1B   0.658 ± 0.013   0.647 ± 0.012   0.641 ± 0.009\n",
      "11       PD1-WMT   0.403 ± 0.038    0.384 ± 0.02   0.367 ± 0.009}}\n"
     ]
    }
   ],
   "source": [
    "table10={}\n",
    "table10[\"algo_group\"]=\"rs_hb_pb\"\n",
    "table10[\"algorithms\"]=algo_dict[table10[\"algo_group\"]].copy()\n",
    "table10[\"priors\"]=[\"at25\",\"bad\",\"good+bad\"]\n",
    "table10[\"benchmarks\"]=benchmarks\n",
    "table10[\"max_f\"]=[5,12]\n",
    "\n",
    "print(create_autorank_incumbent(table10[\"priors\"],table10[\"max_f\"],table10[\"algorithms\"],table10[\"algo_group\"],table10[\"benchmarks\"],df_dict)[1])"
   ]
  }
 ],
 "metadata": {
  "kernelspec": {
   "display_name": ".venv_3_10_0",
   "language": "python",
   "name": "python3"
  },
  "language_info": {
   "codemirror_mode": {
    "name": "ipython",
    "version": 3
   },
   "file_extension": ".py",
   "mimetype": "text/x-python",
   "name": "python",
   "nbconvert_exporter": "python",
   "pygments_lexer": "ipython3",
   "version": "3.10.0"
  }
 },
 "nbformat": 4,
 "nbformat_minor": 2
}
