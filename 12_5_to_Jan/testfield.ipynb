{
 "cells": [
  {
   "cell_type": "code",
   "execution_count": 1,
   "metadata": {},
   "outputs": [
    {
     "name": "stdout",
     "output_type": "stream",
     "text": [
      "      algorithm  used_fidelity     value  seed          bench_prior  rel_rank  norm_regret    regret  n_Vars  n_cont_Vars  n_cond_Vars  n_cat_Vars  log_int  int\n",
      "0            PB            1.0  0.521580     0   lcbench-167190_bad       3.0     0.381158  1.000000       7            4            0           0        0    1\n",
      "1            RS            1.0  0.224055     0   lcbench-167190_bad       2.0     0.083633  0.219418       7            4            0           0        0    1\n",
      "2            HB            1.0  0.216327     0   lcbench-167190_bad       1.0     0.075905  0.199142       7            4            0           0        0    1\n",
      "3            PB            1.0  0.521580     1   lcbench-167190_bad       3.0     0.381158  1.000000       7            4            0           0        0    1\n",
      "4            RS            1.0  0.234032     1   lcbench-167190_bad       1.0     0.093610  0.245594       7            4            0           0        0    1\n",
      "...         ...            ...       ...   ...                  ...       ...          ...       ...     ...          ...          ...         ...      ...  ...\n",
      "86395        RS           24.0  0.434290    48  lcbench-168330_at25       3.0     0.174381  0.340256       7            4            0           0        0    1\n",
      "86396        HB           24.0  0.375750    48  lcbench-168330_at25       2.0     0.115842  0.226033       7            4            0           0        0    1\n",
      "86397        PB           24.0  0.418794    49  lcbench-168330_at25       3.0     0.158886  0.310020       7            4            0           0        0    1\n",
      "86398        RS           24.0  0.378503    49  lcbench-168330_at25       1.0     0.118594  0.231404       7            4            0           0        0    1\n",
      "86399        HB           24.0  0.383334    49  lcbench-168330_at25       2.0     0.123425  0.240829       7            4            0           0        0    1\n",
      "\n",
      "[86400 rows x 14 columns]\n"
     ]
    }
   ],
   "source": [
    "import pandas as pd\n",
    "from models import add_benchmark_metafeatures\n",
    "data=pd.read_parquet(\"priorband_benchPrior_relRanks_f24.parquet\")\n",
    "data=add_benchmark_metafeatures(data)\n",
    "data.to_parquet(\"priorband_benchPrior_relRanks_f24_meta.parquet\")\n",
    "\n",
    "print(data)"
   ]
  }
 ],
 "metadata": {
  "kernelspec": {
   "display_name": ".venv_3_10_0",
   "language": "python",
   "name": "python3"
  },
  "language_info": {
   "codemirror_mode": {
    "name": "ipython",
    "version": 3
   },
   "file_extension": ".py",
   "mimetype": "text/x-python",
   "name": "python",
   "nbconvert_exporter": "python",
   "pygments_lexer": "ipython3",
   "version": "3.10.0"
  }
 },
 "nbformat": 4,
 "nbformat_minor": 2
}
