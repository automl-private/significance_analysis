{
 "cells": [
  {
   "cell_type": "code",
   "execution_count": 1,
   "metadata": {},
   "outputs": [
    {
     "name": "stdout",
     "output_type": "stream",
     "text": [
      "✅ Loading data done     \n",
      "✅ Dataset loaded                            \r"
     ]
    }
   ],
   "source": [
    "import models\n",
    "from models import combine_bench_prior, load_priorband_data,add_rel_ranks,rename_algos,create_incumbent\n",
    "import pandas as pd\n",
    "import numpy as np\n",
    "\n",
    "loss=\"value\";algorithm=\"algorithm\";benchmark=\"bench_prior\";seed=\"seed\"\n",
    "algos=[\"pb_mutation_dynamic_geometric-default-at-target\",\"random_search\",\"hyperband\"]\n",
    "fs=[1,5,12]\n",
    "f_space=np.linspace(1,max(fs),max(fs)).tolist()\n",
    "benchmarks=[\"jahs_cifar10\",\"jahs_colorectal_histology\",\"jahs_fashion_mnist\",\"lcbench-126026\",\"lcbench-167190\",\"lcbench-168330\",\"lcbench-168910\",\"lcbench-189906\",\"cifar100_wideresnet_2048\",\"imagenet_resnet_512\",\"lm1b_transformer_2048\",\"translatewmt_xformer_64\"]\n",
    "label_dict={'random_search': 'RS', 'hyperband': 'HB', 'pb_mutation_dynamic_geometric-default-at-target': 'PB', 'jahs_cifar10': 'JAHS-C10', 'jahs_colorectal_histology': 'JAHS-CH', 'jahs_fashion_mnist': 'JAHS-FM', 'lcbench-126026': 'LC-126026', 'lcbench-167190': 'LC-167190', 'lcbench-168330': 'LC-168330', 'lcbench-168910': 'LC-168910', 'lcbench-189906': 'LC-189906', 'cifar100_wideresnet_2048': 'PD1-Cifar100', 'imagenet_resnet_512': 'PD1-ImageNet', 'lm1b_transformer_2048': 'PD1-LM1B', 'translatewmt_xformer_64': 'PD1-WMT',\"random_search_prior\":\"RS+Prior\",\"bo\":\"BO\",\"pibo\":\"PiBO\",\"bohb\":\"BOHB\",\"priorband_bo\":\"PriorBand+BO\"}\n",
    "\n",
    "data=load_priorband_data()\n",
    "data=data.loc[(data[algorithm].isin(algos))&(data[\"benchmark\"].isin(benchmarks))]\n",
    "data[\"bench_prior\"] = data.apply(combine_bench_prior, axis=1)\n",
    "data.drop(columns=[\"benchmark\",\"prior\"],inplace=True)\n",
    "benchmarks=data[benchmark].unique()\n",
    "dataset=create_incumbent(data,fs,f_space,benchmarks,algos,benchmark,algorithm)\n",
    "\n",
    "for max_f in dataset.keys():\n",
    "    print(f\"⚙️ F {max_f}: Adding relative ranks             \",end=\"\\r\", flush=True)\n",
    "    data=dataset[max_f]\n",
    "    data[\"rel_rank\"]=data.apply(add_rel_ranks,data=data,benchmark=benchmark,axis=1)\n",
    "    print(f\"⚙️ F {max_f}: Renaming algorithms             \",end=\"\\r\", flush=True)\n",
    "    data[algorithm]=data.apply(rename_algos,algo_dict=label_dict,axis=1)\n",
    "    dataset[max_f]=data\n",
    "print(\"✅ Dataset loaded                   \",end=\"\\r\", flush=True)\n"
   ]
  },
  {
   "cell_type": "code",
   "execution_count": 2,
   "metadata": {},
   "outputs": [
    {
     "name": "stdout",
     "output_type": "stream",
     "text": [
      "Fidelity: 1\n",
      "boundary (singular) fit: see help('isSingular') \n",
      "\n",
      "boundary (singular) fit: see help('isSingular') \n",
      "\n",
      "boundary (singular) fit: see help('isSingular') \n",
      "\n",
      "Task 1️⃣\n",
      "M1 (-22772.1) >> M0' (-25333.0)\n",
      "Chi-Square: 5121.804437749117, P-Value: 0.0\n",
      "=> Benchmarks are important in determining algorithms behaviour \n",
      "\n",
      "Task 2️⃣\n",
      "M1 (-22772.1) >> M0 (-22898.22)\n",
      "Chi-Square: 252.24155058001634, P-Value: 0.0\n",
      "=> And they should be a fixed factor\n",
      "Fidelity: 5\n",
      "boundary (singular) fit: see help('isSingular') \n",
      "\n",
      "boundary (singular) fit: see help('isSingular') \n",
      "\n",
      "boundary (singular) fit: see help('isSingular') \n",
      "\n",
      "Task 1️⃣\n",
      "M1 (-99007.98) >> M0' (-106900.43)\n",
      "Chi-Square: 15784.885718914331, P-Value: 0.0\n",
      "=> Benchmarks are important in determining algorithms behaviour \n",
      "\n",
      "Task 2️⃣\n",
      "M1 (-99007.98) >> M0 (-99153.02)\n",
      "Chi-Square: 290.07407930042245, P-Value: 0.0\n",
      "=> And they should be a fixed factor\n",
      "Fidelity: 12\n",
      "boundary (singular) fit: see help('isSingular') \n",
      "\n",
      "boundary (singular) fit: see help('isSingular') \n",
      "\n",
      "boundary (singular) fit: see help('isSingular') \n",
      "\n",
      "Task 1️⃣\n",
      "M1 (-210689.37) >> M0' (-231397.43)\n",
      "Chi-Square: 41416.1132616449, P-Value: 0.0\n",
      "=> Benchmarks are important in determining algorithms behaviour \n",
      "\n",
      "Task 2️⃣\n",
      "M1 (-210689.37) >> M0 (-210854.25)\n",
      "Chi-Square: 329.74515431775944, P-Value: 0.0\n",
      "=> And they should be a fixed factor\n"
     ]
    }
   ],
   "source": [
    "for fidelity in dataset.keys():\n",
    "    data=dataset[fidelity]\n",
    "    print(f\"Fidelity: {fidelity}\")\n",
    "    m0_bar=models.lmem(formula=f\"{loss}~{algorithm}+(1|{seed})\",system_id=algorithm,data=data)\n",
    "    m0=models.lmem(formula=f\"{loss}~{algorithm}+(1|{seed})+(1|{benchmark})\",system_id=algorithm,data=data)\n",
    "    m1=models.lmem(formula=f\"{loss}~{algorithm}+(1|{seed})+{benchmark}\",system_id=algorithm,data=data)\n",
    "\n",
    "    print(\"Task 1️⃣\")\n",
    "    models.glrt(m1,m0_bar,names=[\"M1\",\"M0'\"])\n",
    "    print(\"=> Benchmarks are important in determining algorithms behaviour \\n\")\n",
    "    print(\"Task 2️⃣\")\n",
    "    models.glrt(m1,m0,names=[\"M1\",\"M0\"])\n",
    "    print(\"=> And they should be a fixed factor\")"
   ]
  },
  {
   "cell_type": "code",
   "execution_count": 3,
   "metadata": {},
   "outputs": [],
   "source": [
    "# for fidelity in dataset.keys():\n",
    "#     data=dataset[fidelity]\n",
    "#     print(f\"Fidelity: {fidelity}\")\n",
    "#     m_s_1b=models.model(formula=f\"{loss}~{algorithm}+{seed}+(1|{benchmark})\",system_id=algorithm,data=data)\n",
    "#     m_1b=models.model(formula=f\"{loss}~{algorithm}+(1|{benchmark})\",system_id=algorithm,data=data)\n",
    "#     models.glrt(m_s_1b,m0,names=[\"m_s_1b\",\"M0\"])\n",
    "#     models.glrt(m_s_1b,m_1b,names=[\"m_s_1b\",\"m_1b\"])\n",
    "#     models.glrt(m_s_1b,m1,names=[\"m_s_1b\",\"M1\"])\n",
    "#     models.glrt(m1,m_1b,names=[\"M1\",\"m_1b\"])"
   ]
  },
  {
   "cell_type": "code",
   "execution_count": 4,
   "metadata": {},
   "outputs": [
    {
     "name": "stdout",
     "output_type": "stream",
     "text": [
      "Fidelity: 1\n",
      "Task 3️⃣ (Relative Ranks)\n",
      "boundary (singular) fit: see help('isSingular') \n",
      "\n",
      "boundary (singular) fit: see help('isSingular') \n",
      "\n",
      "boundary (singular) fit: see help('isSingular') \n",
      "\n",
      "M1-rel (-22772.1) >> M0'-rel (-25333.0)\n",
      "Chi-Square: 5121.804437749117, P-Value: 0.0\n",
      "=> Benchmarks are important in determining algorithms behaviour \n",
      "\n",
      "M1-rel (-22772.1) >> M0-rel (-22898.22)\n",
      "Chi-Square: 252.24155058001634, P-Value: 0.0\n",
      "=> And they should be a fixed factor\n",
      "\n",
      "Task 4️⃣\n",
      "M1 (-210689.37) << M2 (-14571.72)\n",
      "Chi-Square: 392235.30086470215, P-Value: 0.0\n",
      "=> Interaction effect is significance \n",
      "\n",
      "Fidelity: 5\n",
      "Task 3️⃣ (Relative Ranks)\n",
      "boundary (singular) fit: see help('isSingular') \n",
      "\n",
      "boundary (singular) fit: see help('isSingular') \n",
      "\n",
      "boundary (singular) fit: see help('isSingular') \n",
      "\n",
      "M1-rel (-99007.98) >> M0'-rel (-106900.43)\n",
      "Chi-Square: 15784.885718914331, P-Value: 0.0\n",
      "=> Benchmarks are important in determining algorithms behaviour \n",
      "\n",
      "M1-rel (-99007.98) >> M0-rel (-99153.02)\n",
      "Chi-Square: 290.07407930042245, P-Value: 0.0\n",
      "=> And they should be a fixed factor\n",
      "\n",
      "Task 4️⃣\n",
      "boundary (singular) fit: see help('isSingular') \n",
      "\n",
      "M1 (-210689.37) << M2 (-96117.06)\n",
      "Chi-Square: 229144.6342981681, P-Value: 0.0\n",
      "=> Interaction effect is significance \n",
      "\n",
      "Fidelity: 12\n",
      "Task 3️⃣ (Relative Ranks)\n",
      "boundary (singular) fit: see help('isSingular') \n",
      "\n",
      "boundary (singular) fit: see help('isSingular') \n",
      "\n",
      "boundary (singular) fit: see help('isSingular') \n",
      "\n",
      "M1-rel (-210689.37) >> M0'-rel (-231397.43)\n",
      "Chi-Square: 41416.1132616449, P-Value: 0.0\n",
      "=> Benchmarks are important in determining algorithms behaviour \n",
      "\n",
      "M1-rel (-210689.37) >> M0-rel (-210854.25)\n",
      "Chi-Square: 329.74515431775944, P-Value: 0.0\n",
      "=> And they should be a fixed factor\n",
      "\n",
      "Task 4️⃣\n",
      "boundary (singular) fit: see help('isSingular') \n",
      "\n",
      "M1 (-210689.37) << M2 (-208113.15)\n",
      "Chi-Square: 5152.437193978461, P-Value: 0.0\n",
      "=> Interaction effect is significance \n",
      "\n"
     ]
    }
   ],
   "source": [
    "for fidelity in dataset.keys():\n",
    "    data=dataset[fidelity]\n",
    "    print(f\"Fidelity: {fidelity}\")\n",
    "    print(\"Task 3️⃣ (Relative Ranks)\")\n",
    "    mrel_0_bar=models.lmem(formula=f\"{loss}~{algorithm}+(1|{seed})\",system_id=algorithm,data=data)\n",
    "    mrel_0=models.lmem(formula=f\"{loss}~{algorithm}+(1|{seed})+(1|{benchmark})\",system_id=algorithm,data=data)\n",
    "    mrel_1=models.lmem(formula=f\"{loss}~{algorithm}+(1|{seed})+{benchmark}\",system_id=algorithm,data=data)\n",
    "\n",
    "    models.glrt(mrel_1,mrel_0_bar,names=[\"M1-rel\",\"M0'-rel\"])\n",
    "    print(\"=> Benchmarks are important in determining algorithms behaviour \\n\")\n",
    "    models.glrt(mrel_1,mrel_0,names=[\"M1-rel\",\"M0-rel\"])\n",
    "    print(\"=> And they should be a fixed factor\\n\")\n",
    "    print(\"Task 4️⃣\")\n",
    "    mrel_2=models.lmem(formula=f\"{loss}~{algorithm}+{benchmark}+{algorithm}:{benchmark}+(1|{seed})\",system_id=algorithm,data=data)\n",
    "    models.glrt(m1,mrel_2,names=[\"M1\",\"M2\"])\n",
    "    print(\"=> Interaction effect is significance \\n\")\n"
   ]
  },
  {
   "cell_type": "code",
   "execution_count": 19,
   "metadata": {},
   "outputs": [
    {
     "name": "stdout",
     "output_type": "stream",
     "text": [
      "1\n",
      "Task 6️⃣\n"
     ]
    },
    {
     "ename": "RRuntimeError",
     "evalue": "Error in terms.formula(formula, data = data) : \n  invalid model formula in ExtractVars\n",
     "output_type": "error",
     "traceback": [
      "\u001b[1;31m---------------------------------------------------------------------------\u001b[0m",
      "\u001b[1;31mRRuntimeError\u001b[0m                             Traceback (most recent call last)",
      "Cell \u001b[1;32mIn[19], line 7\u001b[0m\n\u001b[0;32m      4\u001b[0m \u001b[38;5;66;03m#print(f\"Fidelity: {fidelity}\")\u001b[39;00m\n\u001b[0;32m      5\u001b[0m \u001b[38;5;28mprint\u001b[39m(\u001b[38;5;124m\"\u001b[39m\u001b[38;5;124mTask 6️⃣\u001b[39m\u001b[38;5;124m\"\u001b[39m)\n\u001b[1;32m----> 7\u001b[0m m4\u001b[38;5;241m=\u001b[39m\u001b[43mmodels\u001b[49m\u001b[38;5;241;43m.\u001b[39;49m\u001b[43mmodel\u001b[49m\u001b[43m(\u001b[49m\u001b[43mformula\u001b[49m\u001b[38;5;241;43m=\u001b[39;49m\u001b[38;5;124;43mf\u001b[39;49m\u001b[38;5;124;43m\"\u001b[39;49m\u001b[38;5;132;43;01m{\u001b[39;49;00m\u001b[43mloss\u001b[49m\u001b[38;5;132;43;01m}\u001b[39;49;00m\u001b[38;5;124;43m~\u001b[39;49m\u001b[38;5;132;43;01m{\u001b[39;49;00m\u001b[43malgorithm\u001b[49m\u001b[38;5;132;43;01m}\u001b[39;49;00m\u001b[38;5;124;43m:\u001b[39;49m\u001b[38;5;132;43;01m{\u001b[39;49;00m\u001b[43mbenchmark\u001b[49m\u001b[38;5;132;43;01m}\u001b[39;49;00m\u001b[38;5;124;43m+\u001b[39;49m\u001b[38;5;132;43;01m{\u001b[39;49;00m\u001b[43mfidelity\u001b[49m\u001b[38;5;132;43;01m}\u001b[39;49;00m\u001b[38;5;124;43m+(1|\u001b[39;49m\u001b[38;5;132;43;01m{\u001b[39;49;00m\u001b[43mseed\u001b[49m\u001b[38;5;132;43;01m}\u001b[39;49;00m\u001b[38;5;124;43m)\u001b[39;49m\u001b[38;5;124;43m\"\u001b[39;49m\u001b[43m,\u001b[49m\u001b[43msystem_id\u001b[49m\u001b[38;5;241;43m=\u001b[39;49m\u001b[43malgorithm\u001b[49m\u001b[43m,\u001b[49m\u001b[43mdata\u001b[49m\u001b[38;5;241;43m=\u001b[39;49m\u001b[43mdata\u001b[49m\u001b[43m)\u001b[49m\n\u001b[0;32m      8\u001b[0m m4\u001b[38;5;241m.\u001b[39mplot_summary()\n\u001b[0;32m      9\u001b[0m \u001b[38;5;66;03m#m4_0=models.model(formula=f\"{loss}~{algorithm}:{benchmark}+{fidelity}+{algorithm}:{benchmark}:{fidelity}+(1|{seed})\",system_id=algorithm,data=data)\u001b[39;00m\n\u001b[0;32m     10\u001b[0m \n\u001b[0;32m     11\u001b[0m \u001b[38;5;66;03m#models.glrt(m4,m4_0,names=[\"m4\",\"m4°\"])\u001b[39;00m\n",
      "File \u001b[1;32mc:\\Users\\Amega\\Git\\significance_analysis\\12_5_to_Jan\\models.py:140\u001b[0m, in \u001b[0;36mmodel\u001b[1;34m(formula, system_id, data)\u001b[0m\n\u001b[0;32m    134\u001b[0m \u001b[38;5;28;01mdef\u001b[39;00m \u001b[38;5;21mmodel\u001b[39m(formula: \u001b[38;5;28mstr\u001b[39m, system_id: \u001b[38;5;28mstr\u001b[39m, data: pd\u001b[38;5;241m.\u001b[39mDataFrame):\n\u001b[0;32m    135\u001b[0m     model \u001b[38;5;241m=\u001b[39m Lmer(\n\u001b[0;32m    136\u001b[0m         formula\u001b[38;5;241m=\u001b[39mformula,\n\u001b[0;32m    137\u001b[0m         data\u001b[38;5;241m=\u001b[39mdata,\n\u001b[0;32m    138\u001b[0m     )\n\u001b[1;32m--> 140\u001b[0m     \u001b[43mmodel\u001b[49m\u001b[38;5;241;43m.\u001b[39;49m\u001b[43mfit\u001b[49m\u001b[43m(\u001b[49m\n\u001b[0;32m    141\u001b[0m \u001b[43m        \u001b[49m\u001b[43mfactors\u001b[49m\u001b[38;5;241;43m=\u001b[39;49m\u001b[43m{\u001b[49m\u001b[43msystem_id\u001b[49m\u001b[43m:\u001b[49m\u001b[43m \u001b[49m\u001b[38;5;28;43mlist\u001b[39;49m\u001b[43m(\u001b[49m\u001b[43mdata\u001b[49m\u001b[43m[\u001b[49m\u001b[43msystem_id\u001b[49m\u001b[43m]\u001b[49m\u001b[38;5;241;43m.\u001b[39;49m\u001b[43munique\u001b[49m\u001b[43m(\u001b[49m\u001b[43m)\u001b[49m\u001b[43m)\u001b[49m\u001b[43m}\u001b[49m\u001b[43m,\u001b[49m\n\u001b[0;32m    142\u001b[0m \u001b[43m        \u001b[49m\u001b[43mREML\u001b[49m\u001b[38;5;241;43m=\u001b[39;49m\u001b[38;5;28;43;01mFalse\u001b[39;49;00m\u001b[43m,\u001b[49m\n\u001b[0;32m    143\u001b[0m \u001b[43m        \u001b[49m\u001b[43msummarize\u001b[49m\u001b[38;5;241;43m=\u001b[39;49m\u001b[38;5;28;43;01mFalse\u001b[39;49;00m\u001b[43m,\u001b[49m\n\u001b[0;32m    144\u001b[0m \u001b[43m    \u001b[49m\u001b[43m)\u001b[49m\n\u001b[0;32m    145\u001b[0m     \u001b[38;5;28;01mreturn\u001b[39;00m model\n",
      "File \u001b[1;32mc:\\Users\\Amega\\Git\\significance_analysis\\.venv_3_10_0\\lib\\site-packages\\pymer4\\models\\Lmer.py:424\u001b[0m, in \u001b[0;36mLmer.fit\u001b[1;34m(self, conf_int, n_boot, factors, permute, ordered, verbose, REML, rank, rank_group, rank_exclude_cols, no_warnings, control, old_optimizer, **kwargs)\u001b[0m\n\u001b[0;32m    422\u001b[0m     lmer \u001b[38;5;241m=\u001b[39m importr(\u001b[38;5;124m\"\u001b[39m\u001b[38;5;124mlmerTest\u001b[39m\u001b[38;5;124m\"\u001b[39m)\n\u001b[0;32m    423\u001b[0m     lmc \u001b[38;5;241m=\u001b[39m robjects\u001b[38;5;241m.\u001b[39mr(\u001b[38;5;124mf\u001b[39m\u001b[38;5;124m\"\u001b[39m\u001b[38;5;124mlmerControl(\u001b[39m\u001b[38;5;132;01m{\u001b[39;00mcontrol\u001b[38;5;132;01m}\u001b[39;00m\u001b[38;5;124m)\u001b[39m\u001b[38;5;124m\"\u001b[39m)\n\u001b[1;32m--> 424\u001b[0m     \u001b[38;5;28mself\u001b[39m\u001b[38;5;241m.\u001b[39mmodel_obj \u001b[38;5;241m=\u001b[39m \u001b[43mlmer\u001b[49m\u001b[38;5;241;43m.\u001b[39;49m\u001b[43mlmer\u001b[49m\u001b[43m(\u001b[49m\n\u001b[0;32m    425\u001b[0m \u001b[43m        \u001b[49m\u001b[38;5;28;43mself\u001b[39;49m\u001b[38;5;241;43m.\u001b[39;49m\u001b[43mformula\u001b[49m\u001b[43m,\u001b[49m\u001b[43m \u001b[49m\u001b[43mdata\u001b[49m\u001b[38;5;241;43m=\u001b[39;49m\u001b[43mdata\u001b[49m\u001b[43m,\u001b[49m\u001b[43m \u001b[49m\u001b[43mREML\u001b[49m\u001b[38;5;241;43m=\u001b[39;49m\u001b[43mREML\u001b[49m\u001b[43m,\u001b[49m\u001b[43m \u001b[49m\u001b[43mcontrol\u001b[49m\u001b[38;5;241;43m=\u001b[39;49m\u001b[43mlmc\u001b[49m\u001b[43m,\u001b[49m\u001b[43m \u001b[49m\u001b[43mcontrasts\u001b[49m\u001b[38;5;241;43m=\u001b[39;49m\u001b[43mcontrasts\u001b[49m\n\u001b[0;32m    426\u001b[0m \u001b[43m    \u001b[49m\u001b[43m)\u001b[49m\n\u001b[0;32m    427\u001b[0m \u001b[38;5;28;01melse\u001b[39;00m:\n\u001b[0;32m    428\u001b[0m     \u001b[38;5;28;01mif\u001b[39;00m verbose:\n",
      "File \u001b[1;32mc:\\Users\\Amega\\Git\\significance_analysis\\.venv_3_10_0\\lib\\site-packages\\rpy2\\robjects\\functions.py:208\u001b[0m, in \u001b[0;36mSignatureTranslatedFunction.__call__\u001b[1;34m(self, *args, **kwargs)\u001b[0m\n\u001b[0;32m    206\u001b[0m         v \u001b[38;5;241m=\u001b[39m kwargs\u001b[38;5;241m.\u001b[39mpop(k)\n\u001b[0;32m    207\u001b[0m         kwargs[r_k] \u001b[38;5;241m=\u001b[39m v\n\u001b[1;32m--> 208\u001b[0m \u001b[38;5;28;01mreturn\u001b[39;00m (\u001b[38;5;28msuper\u001b[39m(SignatureTranslatedFunction, \u001b[38;5;28mself\u001b[39m)\n\u001b[0;32m    209\u001b[0m         \u001b[38;5;241m.\u001b[39m\u001b[38;5;21m__call__\u001b[39m(\u001b[38;5;241m*\u001b[39margs, \u001b[38;5;241m*\u001b[39m\u001b[38;5;241m*\u001b[39mkwargs))\n",
      "File \u001b[1;32mc:\\Users\\Amega\\Git\\significance_analysis\\.venv_3_10_0\\lib\\site-packages\\rpy2\\robjects\\functions.py:131\u001b[0m, in \u001b[0;36mFunction.__call__\u001b[1;34m(self, *args, **kwargs)\u001b[0m\n\u001b[0;32m    129\u001b[0m     \u001b[38;5;28;01melse\u001b[39;00m:\n\u001b[0;32m    130\u001b[0m         new_kwargs[k] \u001b[38;5;241m=\u001b[39m cv\u001b[38;5;241m.\u001b[39mpy2rpy(v)\n\u001b[1;32m--> 131\u001b[0m res \u001b[38;5;241m=\u001b[39m \u001b[38;5;28msuper\u001b[39m(Function, \u001b[38;5;28mself\u001b[39m)\u001b[38;5;241m.\u001b[39m\u001b[38;5;21m__call__\u001b[39m(\u001b[38;5;241m*\u001b[39mnew_args, \u001b[38;5;241m*\u001b[39m\u001b[38;5;241m*\u001b[39mnew_kwargs)\n\u001b[0;32m    132\u001b[0m res \u001b[38;5;241m=\u001b[39m cv\u001b[38;5;241m.\u001b[39mrpy2py(res)\n\u001b[0;32m    133\u001b[0m \u001b[38;5;28;01mreturn\u001b[39;00m res\n",
      "File \u001b[1;32mc:\\Users\\Amega\\Git\\significance_analysis\\.venv_3_10_0\\lib\\site-packages\\rpy2\\rinterface_lib\\conversion.py:45\u001b[0m, in \u001b[0;36m_cdata_res_to_rinterface.<locals>._\u001b[1;34m(*args, **kwargs)\u001b[0m\n\u001b[0;32m     44\u001b[0m \u001b[38;5;28;01mdef\u001b[39;00m \u001b[38;5;21m_\u001b[39m(\u001b[38;5;241m*\u001b[39margs, \u001b[38;5;241m*\u001b[39m\u001b[38;5;241m*\u001b[39mkwargs):\n\u001b[1;32m---> 45\u001b[0m     cdata \u001b[38;5;241m=\u001b[39m function(\u001b[38;5;241m*\u001b[39margs, \u001b[38;5;241m*\u001b[39m\u001b[38;5;241m*\u001b[39mkwargs)\n\u001b[0;32m     46\u001b[0m     \u001b[38;5;66;03m# TODO: test cdata is of the expected CType\u001b[39;00m\n\u001b[0;32m     47\u001b[0m     \u001b[38;5;28;01mreturn\u001b[39;00m _cdata_to_rinterface(cdata)\n",
      "File \u001b[1;32mc:\\Users\\Amega\\Git\\significance_analysis\\.venv_3_10_0\\lib\\site-packages\\rpy2\\rinterface.py:873\u001b[0m, in \u001b[0;36mSexpClosure.__call__\u001b[1;34m(self, *args, **kwargs)\u001b[0m\n\u001b[0;32m    866\u001b[0m     res \u001b[38;5;241m=\u001b[39m rmemory\u001b[38;5;241m.\u001b[39mprotect(\n\u001b[0;32m    867\u001b[0m         openrlib\u001b[38;5;241m.\u001b[39mrlib\u001b[38;5;241m.\u001b[39mR_tryEval(\n\u001b[0;32m    868\u001b[0m             call_r,\n\u001b[0;32m    869\u001b[0m             call_context\u001b[38;5;241m.\u001b[39m__sexp__\u001b[38;5;241m.\u001b[39m_cdata,\n\u001b[0;32m    870\u001b[0m             error_occured)\n\u001b[0;32m    871\u001b[0m     )\n\u001b[0;32m    872\u001b[0m     \u001b[38;5;28;01mif\u001b[39;00m error_occured[\u001b[38;5;241m0\u001b[39m]:\n\u001b[1;32m--> 873\u001b[0m         \u001b[38;5;28;01mraise\u001b[39;00m embedded\u001b[38;5;241m.\u001b[39mRRuntimeError(_rinterface\u001b[38;5;241m.\u001b[39m_geterrmessage())\n\u001b[0;32m    874\u001b[0m \u001b[38;5;28;01mreturn\u001b[39;00m res\n",
      "\u001b[1;31mRRuntimeError\u001b[0m: Error in terms.formula(formula, data = data) : \n  invalid model formula in ExtractVars\n"
     ]
    }
   ],
   "source": [
    "#for fidelity in dataset.keys():\n",
    "data=dataset[list(dataset.keys())[0]]\n",
    "print(list(dataset.keys())[0])\n",
    "#print(f\"Fidelity: {fidelity}\")\n",
    "print(\"Task 6️⃣\")\n",
    "\n",
    "m4=models.lmem(formula=f\"{loss}~{algorithm}:{benchmark}+{fidelity}+(1|{seed})\",system_id=algorithm,data=data)\n",
    "m4.plot_summary()\n",
    "#m4_0=models.model(formula=f\"{loss}~{algorithm}:{benchmark}+{fidelity}+{algorithm}:{benchmark}:{fidelity}+(1|{seed})\",system_id=algorithm,data=data)\n",
    "\n",
    "#models.glrt(m4,m4_0,names=[\"m4\",\"m4°\"])"
   ]
  }
 ],
 "metadata": {
  "kernelspec": {
   "display_name": ".venv_3_10_0",
   "language": "python",
   "name": "python3"
  },
  "language_info": {
   "codemirror_mode": {
    "name": "ipython",
    "version": 3
   },
   "file_extension": ".py",
   "mimetype": "text/x-python",
   "name": "python",
   "nbconvert_exporter": "python",
   "pygments_lexer": "ipython3",
   "version": "3.10.0"
  }
 },
 "nbformat": 4,
 "nbformat_minor": 2
}
