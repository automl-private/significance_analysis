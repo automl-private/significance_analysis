{
 "cells": [
  {
   "cell_type": "code",
   "execution_count": 14,
   "metadata": {},
   "outputs": [],
   "source": [
    "# Fit the mixed effects model\n",
    "from patsy import dmatrix\n",
    "from statsmodels.formula.api import mixedlm\n",
    "from statsmodels.stats.multicomp import MultiComparison\n",
    "import pandas as pd\n",
    "import numpy as np\n",
    "from pymer4.models import Lmer\n",
    "pd.options.mode.chained_assignment = None\n",
    "pd.set_option(\"display.max_rows\", 5000)\n",
    "pd.set_option(\"display.max_columns\", 5000)\n",
    "pd.set_option(\"display.width\", 10000)\n",
    "\n",
    "data = pd.read_csv(\"./dataset_copy_DELETEAFTER.csv\")\n",
    "\n",
    "metric=\"mean\"\n",
    "input_id=\"benchmark\"\n",
    "system_id=\"acquisition\"\n",
    "bin_id=\"budget\""
   ]
  },
  {
   "cell_type": "code",
   "execution_count": 15,
   "metadata": {},
   "outputs": [
    {
     "name": "stdout",
     "output_type": "stream",
     "text": [
      "Linear mixed model fit by maximum likelihood  ['lmerMod']\n",
      "Formula: mean~acquisition+(1|benchmark)\n",
      "\n",
      "Family: gaussian\t Inference: parametric\n",
      "\n",
      "Number of observations: 180000\t Groups: {'benchmark': 4.0}\n",
      "\n",
      "Log-likelihood: -613546.753 \t AIC: 1227115.505\n",
      "\n",
      "Random effects:\n",
      "\n",
      "                  Name     Var    Std\n",
      "benchmark  (Intercept)  95.254  9.760\n",
      "Residual                53.467  7.312\n",
      "\n",
      "No random effect correlations specified\n",
      "\n",
      "Fixed effects:\n",
      "\n",
      "              Estimate  2.5_ci  97.5_ci     SE          DF  T-stat  P-val  Sig\n",
      "(Intercept)      5.760  -3.805   15.325  4.880       4.044   1.180  0.303     \n",
      "acquisition1     0.337   0.194    0.480  0.073  179996.000   4.609  0.000  ***\n",
      "acquisition2     0.119  -0.025    0.262  0.073  179996.000   1.624  0.104     \n",
      "acquisition3     0.062  -0.081    0.205  0.073  179996.000   0.846  0.397     \n",
      "acquisition4     0.495   0.352    0.639  0.073  179996.000   6.773  0.000  ***\n",
      "acquisition5     0.523   0.380    0.666  0.073  179996.000   7.155  0.000  ***\n",
      "acquisition6     0.096  -0.047    0.240  0.073  179996.000   1.319  0.187     \n",
      "acquisition7     0.153   0.010    0.296  0.073  179996.000   2.090  0.037    *\n",
      "acquisition8     0.892   0.749    1.036  0.073  179996.000  12.202  0.000  ***\n"
     ]
    }
   ],
   "source": [
    "\n",
    "# \"Common\"-Model assumes significant difference, which is why the system-identifier is included\n",
    "differentMeans_model = Lmer(\n",
    "                formula=f\"{metric}~{system_id}+(1|{input_id})\", data=data\n",
    "            )\n",
    "\n",
    "# factors specifies names of system_identifier, i.e. Baseline, or Algorithm1\n",
    "differentMeans_model.fit(\n",
    "    factors={system_id: list(data[system_id].unique())},\n",
    "    REML=False,\n",
    "    summarize=False,\n",
    ")\n",
    "print(differentMeans_model.summary())"
   ]
  },
  {
   "cell_type": "code",
   "execution_count": 16,
   "metadata": {},
   "outputs": [
    {
     "name": "stdout",
     "output_type": "stream",
     "text": [
      "P-values adjusted by tukey method for family of 36 estimates\n"
     ]
    },
    {
     "data": {
      "text/plain": [
       "(                 acquisition  Estimate  2.5_ci  97.5_ci    SE     DF\n",
       " 1        ExpectedImprovement     5.760  -7.732   19.251  4.88  4.044\n",
       " 2   ProbabilityOfImprovement     6.097  -7.395   19.588  4.88  4.044\n",
       " 3       UpperConfidenceBound     5.878  -7.613   19.370  4.88  4.044\n",
       " 4       qExpectedImprovement     5.822  -7.670   19.313  4.88  4.044\n",
       " 5         qKnowledgeGradient     6.255  -7.237   19.747  4.88  4.044\n",
       " 6  qProbabilityOfImprovement     6.283  -7.209   19.775  4.88  4.044\n",
       " 7              qSimpleRegret     5.856  -7.636   19.348  4.88  4.044\n",
       " 8      qUpperConfidenceBound     5.912  -7.579   19.404  4.88  4.044\n",
       " 9               randomSearch     6.652  -6.840   20.144  4.88  4.044,\n",
       "                                              Contrast  Estimate  2.5_ci  97.5_ci     SE        DF  T-stat  P-val  Sig\n",
       " 1      ExpectedImprovement - ProbabilityOfImprovement    -0.337  -0.564   -0.110  0.073  179996.0  -4.609  0.000  ***\n",
       " 2          ExpectedImprovement - UpperConfidenceBound    -0.119  -0.346    0.108  0.073  179996.0  -1.624  0.792     \n",
       " 3          ExpectedImprovement - qExpectedImprovement    -0.062  -0.289    0.165  0.073  179996.0  -0.846  0.995     \n",
       " 4            ExpectedImprovement - qKnowledgeGradient    -0.495  -0.722   -0.268  0.073  179996.0  -6.773  0.000  ***\n",
       " 5     ExpectedImprovement - qProbabilityOfImprovement    -0.523  -0.750   -0.296  0.073  179996.0  -7.155  0.000  ***\n",
       " 6                 ExpectedImprovement - qSimpleRegret    -0.096  -0.323    0.130  0.073  179996.0  -1.319  0.926     \n",
       " 7         ExpectedImprovement - qUpperConfidenceBound    -0.153  -0.380    0.074  0.073  179996.0  -2.090  0.480     \n",
       " 8                  ExpectedImprovement - randomSearch    -0.892  -1.119   -0.665  0.073  179996.0 -12.202  0.000  ***\n",
       " 9     ProbabilityOfImprovement - UpperConfidenceBound     0.218  -0.009    0.445  0.073  179996.0   2.985  0.070    .\n",
       " 10    ProbabilityOfImprovement - qExpectedImprovement     0.275   0.048    0.502  0.073  179996.0   3.762  0.005   **\n",
       " 11      ProbabilityOfImprovement - qKnowledgeGradient    -0.158  -0.385    0.069  0.073  179996.0  -2.164  0.429     \n",
       " 12  ProbabilityOfImprovement - qProbabilityOfImpro...    -0.186  -0.413    0.041  0.073  179996.0  -2.546  0.210     \n",
       " 13           ProbabilityOfImprovement - qSimpleRegret     0.241   0.014    0.467  0.073  179996.0   3.290  0.028    *\n",
       " 14   ProbabilityOfImprovement - qUpperConfidenceBound     0.184  -0.043    0.411  0.073  179996.0   2.519  0.223     \n",
       " 15            ProbabilityOfImprovement - randomSearch    -0.555  -0.782   -0.328  0.073  179996.0  -7.593  0.000  ***\n",
       " 16        UpperConfidenceBound - qExpectedImprovement     0.057  -0.170    0.284  0.073  179996.0   0.777  0.997     \n",
       " 17          UpperConfidenceBound - qKnowledgeGradient    -0.377  -0.603   -0.150  0.073  179996.0  -5.149  0.000  ***\n",
       " 18   UpperConfidenceBound - qProbabilityOfImprovement    -0.404  -0.631   -0.178  0.073  179996.0  -5.531  0.000  ***\n",
       " 19               UpperConfidenceBound - qSimpleRegret     0.022  -0.205    0.249  0.073  179996.0   0.305  1.000     \n",
       " 20       UpperConfidenceBound - qUpperConfidenceBound    -0.034  -0.261    0.193  0.073  179996.0  -0.466  1.000     \n",
       " 21                UpperConfidenceBound - randomSearch    -0.773  -1.000   -0.547  0.073  179996.0 -10.578  0.000  ***\n",
       " 22          qExpectedImprovement - qKnowledgeGradient    -0.433  -0.660   -0.207  0.073  179996.0  -5.927  0.000  ***\n",
       " 23   qExpectedImprovement - qProbabilityOfImprovement    -0.461  -0.688   -0.234  0.073  179996.0  -6.308  0.000  ***\n",
       " 24               qExpectedImprovement - qSimpleRegret    -0.035  -0.261    0.192  0.073  179996.0  -0.472  1.000     \n",
       " 25       qExpectedImprovement - qUpperConfidenceBound    -0.091  -0.318    0.136  0.073  179996.0  -1.244  0.947     \n",
       " 26                qExpectedImprovement - randomSearch    -0.830  -1.057   -0.604  0.073  179996.0 -11.356  0.000  ***\n",
       " 27     qKnowledgeGradient - qProbabilityOfImprovement    -0.028  -0.255    0.199  0.073  179996.0  -0.381  1.000     \n",
       " 28                 qKnowledgeGradient - qSimpleRegret     0.399   0.172    0.626  0.073  179996.0   5.454  0.000  ***\n",
       " 29         qKnowledgeGradient - qUpperConfidenceBound     0.342   0.116    0.569  0.073  179996.0   4.683  0.000  ***\n",
       " 30                  qKnowledgeGradient - randomSearch    -0.397  -0.624   -0.170  0.073  179996.0  -5.429  0.000  ***\n",
       " 31          qProbabilityOfImprovement - qSimpleRegret     0.427   0.200    0.654  0.073  179996.0   5.836  0.000  ***\n",
       " 32  qProbabilityOfImprovement - qUpperConfidenceBound     0.370   0.144    0.597  0.073  179996.0   5.065  0.000  ***\n",
       " 33           qProbabilityOfImprovement - randomSearch    -0.369  -0.596   -0.142  0.073  179996.0  -5.047  0.000  ***\n",
       " 34              qSimpleRegret - qUpperConfidenceBound    -0.056  -0.283    0.170  0.073  179996.0  -0.771  0.998     \n",
       " 35                       qSimpleRegret - randomSearch    -0.796  -1.023   -0.569  0.073  179996.0 -10.883  0.000  ***\n",
       " 36               qUpperConfidenceBound - randomSearch    -0.739  -0.966   -0.513  0.073  179996.0 -10.112  0.000  ***)"
      ]
     },
     "execution_count": 16,
     "metadata": {},
     "output_type": "execute_result"
    }
   ],
   "source": [
    "differentMeans_model.post_hoc(marginal_vars=[system_id])"
   ]
  }
 ],
 "metadata": {
  "kernelspec": {
   "display_name": ".venv_3_10_0",
   "language": "python",
   "name": "python3"
  },
  "language_info": {
   "codemirror_mode": {
    "name": "ipython",
    "version": 3
   },
   "file_extension": ".py",
   "mimetype": "text/x-python",
   "name": "python",
   "nbconvert_exporter": "python",
   "pygments_lexer": "ipython3",
   "version": "3.10.0"
  },
  "orig_nbformat": 4
 },
 "nbformat": 4,
 "nbformat_minor": 2
}
