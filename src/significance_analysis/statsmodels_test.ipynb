{
 "cells": [
  {
   "cell_type": "code",
   "execution_count": 5,
   "metadata": {},
   "outputs": [],
   "source": [
    "# Fit the mixed effects model\n",
    "from patsy import dmatrix\n",
    "from statsmodels.formula.api import mixedlm\n",
    "from statsmodels.stats.multicomp import MultiComparison\n",
    "import pandas as pd\n",
    "import numpy as np\n",
    "from pymer4.models import Lmer\n"
   ]
  },
  {
   "cell_type": "code",
   "execution_count": 6,
   "metadata": {},
   "outputs": [
    {
     "name": "stdout",
     "output_type": "stream",
     "text": [
      "                       Mixed Linear Model Regression Results\n",
      "===================================================================================\n",
      "Model:                     MixedLM         Dependent Variable:         mean        \n",
      "No. Observations:          180000          Method:                     ML          \n",
      "No. Groups:                4               Scale:                      53.4669     \n",
      "Min. group size:           45000           Log-Likelihood:             -613546.8042\n",
      "Max. group size:           45000           Converged:                  Yes         \n",
      "Mean group size:           45000.0                                                 \n",
      "-----------------------------------------------------------------------------------\n",
      "                                         Coef.  Std.Err.   z    P>|z| [0.025 0.975]\n",
      "-----------------------------------------------------------------------------------\n",
      "Intercept                                 5.760    4.374  1.317 0.188 -2.813 14.332\n",
      "acquisition[T.ProbabilityOfImprovement]   0.337    0.073  4.609 0.000  0.194  0.480\n",
      "acquisition[T.UpperConfidenceBound]       0.119    0.073  1.624 0.104 -0.025  0.262\n",
      "acquisition[T.qExpectedImprovement]       0.062    0.073  0.846 0.397 -0.081  0.205\n",
      "acquisition[T.qKnowledgeGradient]         0.495    0.073  6.773 0.000  0.352  0.639\n",
      "acquisition[T.qProbabilityOfImprovement]  0.523    0.073  7.155 0.000  0.380  0.666\n",
      "acquisition[T.qSimpleRegret]              0.096    0.073  1.319 0.187 -0.047  0.240\n",
      "acquisition[T.qUpperConfidenceBound]      0.153    0.073  2.090 0.037  0.010  0.296\n",
      "acquisition[T.randomSearch]               0.892    0.073 12.202 0.000  0.749  1.036\n",
      "benchmark Var                            76.513    6.062                           \n",
      "===================================================================================\n",
      "\n"
     ]
    }
   ],
   "source": [
    "data = pd.read_csv(\"./dataset_copy_DELETEAFTER.csv\")\n",
    "\n",
    "metric=\"mean\"\n",
    "input_id=\"benchmark\"\n",
    "system_id=\"acquisition\"\n",
    "bin_id=\"budget\"\n",
    "\n",
    "\n",
    "differentMeans_model = mixedlm(formula=f\"{metric} ~ {system_id}\", data=data, groups=input_id)\n",
    "diffModelFit = differentMeans_model.fit( reml=False)\n",
    "print(diffModelFit.summary())\n"
   ]
  },
  {
   "cell_type": "code",
   "execution_count": 7,
   "metadata": {},
   "outputs": [
    {
     "name": "stdout",
     "output_type": "stream",
     "text": [
      "       benchmark                acquisition     means        SE\n",
      "0         Branin        ExpectedImprovement  5.759636  4.373900\n",
      "1      Hartmann6        ExpectedImprovement  5.759636  4.373900\n",
      "2     Jahs_Bench        ExpectedImprovement  5.759636  4.373900\n",
      "3   NN_HPO_Bench        ExpectedImprovement  5.759636  4.373900\n",
      "4         Branin   ProbabilityOfImprovement  6.096633  4.373594\n",
      "5      Hartmann6   ProbabilityOfImprovement  6.096633  4.373594\n",
      "6     Jahs_Bench   ProbabilityOfImprovement  6.096633  4.373594\n",
      "7   NN_HPO_Bench   ProbabilityOfImprovement  6.096633  4.373594\n",
      "8         Branin       UpperConfidenceBound  5.878372  4.373594\n",
      "9      Hartmann6       UpperConfidenceBound  5.878372  4.373594\n",
      "10    Jahs_Bench       UpperConfidenceBound  5.878372  4.373594\n",
      "11  NN_HPO_Bench       UpperConfidenceBound  5.878372  4.373594\n",
      "12        Branin       qExpectedImprovement  5.821530  4.373594\n",
      "13     Hartmann6       qExpectedImprovement  5.821530  4.373594\n",
      "14    Jahs_Bench       qExpectedImprovement  5.821530  4.373594\n",
      "15  NN_HPO_Bench       qExpectedImprovement  5.821530  4.373594\n",
      "16        Branin         qKnowledgeGradient  6.254902  4.373900\n",
      "17     Hartmann6         qKnowledgeGradient  6.254902  4.373900\n",
      "18    Jahs_Bench         qKnowledgeGradient  6.254902  4.373900\n",
      "19  NN_HPO_Bench         qKnowledgeGradient  6.254902  4.373900\n",
      "20        Branin  qProbabilityOfImprovement  6.282796  4.373900\n",
      "21     Hartmann6  qProbabilityOfImprovement  6.282796  4.373900\n",
      "22    Jahs_Bench  qProbabilityOfImprovement  6.282796  4.373900\n",
      "23  NN_HPO_Bench  qProbabilityOfImprovement  6.282796  4.373900\n",
      "24        Branin              qSimpleRegret  5.856075  4.373900\n",
      "25     Hartmann6              qSimpleRegret  5.856075  4.373900\n",
      "26    Jahs_Bench              qSimpleRegret  5.856075  4.373900\n",
      "27  NN_HPO_Bench              qSimpleRegret  5.856075  4.373900\n",
      "28        Branin      qUpperConfidenceBound  5.912468  4.373900\n",
      "29     Hartmann6      qUpperConfidenceBound  5.912468  4.373900\n",
      "30    Jahs_Bench      qUpperConfidenceBound  5.912468  4.373900\n",
      "31  NN_HPO_Bench      qUpperConfidenceBound  5.912468  4.373900\n",
      "32        Branin               randomSearch  6.651863  4.373900\n",
      "33     Hartmann6               randomSearch  6.651863  4.373900\n",
      "34    Jahs_Bench               randomSearch  6.651863  4.373900\n",
      "35  NN_HPO_Bench               randomSearch  6.651863  4.373900\n"
     ]
    }
   ],
   "source": [
    "# Get predicted values for each level of system_id\n",
    "grid = (\n",
    "    np.array(\n",
    "        np.meshgrid(\n",
    "            data[input_id].unique(),\n",
    "            data[system_id].unique(),\n",
    "        )\n",
    "    )\n",
    "    .reshape(2, len(data[input_id].unique()) * len(data[system_id].unique())).T)\n",
    "\n",
    "grid = pd.DataFrame(grid, columns=[input_id, system_id])\n",
    "betas = diffModelFit.fe_params\n",
    "# print(betas)\n",
    "mat = dmatrix(f\"C({system_id})\", grid, return_type=\"matrix\")\n",
    "# print(mat)\n",
    "emmeans = grid\n",
    "emmeans[\"means\"] = mat @ betas\n",
    "#print(emmeans)\n",
    "vcov = diffModelFit.cov_params()\n",
    "# print(vcov)\n",
    "\n",
    "vcov = vcov[~vcov.index.str.contains(\"Var|Cor\")]\n",
    "vcov = vcov.loc[:, ~vcov.columns.str.contains(\"Var|Cor\")]\n",
    "#print(vcov)\n",
    "emmeans[\"SE\"] = np.sqrt(np.diagonal(mat @ vcov) @ mat.T)\n",
    "print(emmeans)\n"
   ]
  },
  {
   "cell_type": "code",
   "execution_count": 8,
   "metadata": {},
   "outputs": [
    {
     "name": "stdout",
     "output_type": "stream",
     "text": [
      "[5.75963622 6.09663289 5.87837206 5.82153017 6.25490228 6.28279609\n",
      " 5.85607482 5.91246751 6.65186281]\n",
      "[0. 0. 0. 0. 0. 0. 0. 0. 0. 0. 0. 0. 0. 0. 0. 0. 0. 0. 0. 0. 0. 0. 0. 0.\n",
      " 0. 0. 0. 0. 0. 0. 0. 0. 0. 0. 0. 0.]\n",
      "                   Multiple Comparison of Means - Tukey HSD, FWER=0.05                   \n",
      "=========================================================================================\n",
      "          group1                    group2          meandiff p-adj  lower   upper  reject\n",
      "-----------------------------------------------------------------------------------------\n",
      "      ExpectedImprovement  ProbabilityOfImprovement    0.337   0.0   0.337   0.337   True\n",
      "      ExpectedImprovement      UpperConfidenceBound   0.1187   0.0  0.1187  0.1187   True\n",
      "      ExpectedImprovement      qExpectedImprovement   0.0619   0.0  0.0619  0.0619   True\n",
      "      ExpectedImprovement        qKnowledgeGradient   0.4953   0.0  0.4953  0.4953   True\n",
      "      ExpectedImprovement qProbabilityOfImprovement   0.5232   0.0  0.5232  0.5232   True\n",
      "      ExpectedImprovement             qSimpleRegret   0.0964   0.0  0.0964  0.0964   True\n",
      "      ExpectedImprovement     qUpperConfidenceBound   0.1528   0.0  0.1528  0.1528   True\n",
      "      ExpectedImprovement              randomSearch   0.8922   0.0  0.8922  0.8922   True\n",
      " ProbabilityOfImprovement      UpperConfidenceBound  -0.2183   0.0 -0.2183 -0.2183   True\n",
      " ProbabilityOfImprovement      qExpectedImprovement  -0.2751   0.0 -0.2751 -0.2751   True\n",
      " ProbabilityOfImprovement        qKnowledgeGradient   0.1583   0.0  0.1583  0.1583   True\n",
      " ProbabilityOfImprovement qProbabilityOfImprovement   0.1862   0.0  0.1862  0.1862   True\n",
      " ProbabilityOfImprovement             qSimpleRegret  -0.2406   0.0 -0.2406 -0.2406   True\n",
      " ProbabilityOfImprovement     qUpperConfidenceBound  -0.1842   0.0 -0.1842 -0.1842   True\n",
      " ProbabilityOfImprovement              randomSearch   0.5552   0.0  0.5552  0.5552   True\n",
      "     UpperConfidenceBound      qExpectedImprovement  -0.0568   0.0 -0.0568 -0.0568   True\n",
      "     UpperConfidenceBound        qKnowledgeGradient   0.3765   0.0  0.3765  0.3765   True\n",
      "     UpperConfidenceBound qProbabilityOfImprovement   0.4044   0.0  0.4044  0.4044   True\n",
      "     UpperConfidenceBound             qSimpleRegret  -0.0223   0.0 -0.0223 -0.0223   True\n",
      "     UpperConfidenceBound     qUpperConfidenceBound   0.0341   0.0  0.0341  0.0341   True\n",
      "     UpperConfidenceBound              randomSearch   0.7735   0.0  0.7735  0.7735   True\n",
      "     qExpectedImprovement        qKnowledgeGradient   0.4334   0.0  0.4334  0.4334   True\n",
      "     qExpectedImprovement qProbabilityOfImprovement   0.4613   0.0  0.4613  0.4613   True\n",
      "     qExpectedImprovement             qSimpleRegret   0.0345   0.0  0.0345  0.0345   True\n",
      "     qExpectedImprovement     qUpperConfidenceBound   0.0909   0.0  0.0909  0.0909   True\n",
      "     qExpectedImprovement              randomSearch   0.8303   0.0  0.8303  0.8303   True\n",
      "       qKnowledgeGradient qProbabilityOfImprovement   0.0279   0.0  0.0279  0.0279   True\n",
      "       qKnowledgeGradient             qSimpleRegret  -0.3988   0.0 -0.3988 -0.3988   True\n",
      "       qKnowledgeGradient     qUpperConfidenceBound  -0.3424   0.0 -0.3424 -0.3424   True\n",
      "       qKnowledgeGradient              randomSearch    0.397   0.0   0.397   0.397   True\n",
      "qProbabilityOfImprovement             qSimpleRegret  -0.4267   0.0 -0.4267 -0.4267   True\n",
      "qProbabilityOfImprovement     qUpperConfidenceBound  -0.3703   0.0 -0.3703 -0.3703   True\n",
      "qProbabilityOfImprovement              randomSearch   0.3691   0.0  0.3691  0.3691   True\n",
      "            qSimpleRegret     qUpperConfidenceBound   0.0564   0.0  0.0564  0.0564   True\n",
      "            qSimpleRegret              randomSearch   0.7958   0.0  0.7958  0.7958   True\n",
      "    qUpperConfidenceBound              randomSearch   0.7394   0.0  0.7394  0.7394   True\n",
      "-----------------------------------------------------------------------------------------\n",
      "tukey end\n"
     ]
    },
    {
     "name": "stderr",
     "output_type": "stream",
     "text": [
      "c:\\Users\\Amega\\Git\\significance_analysis\\.venv_3_10_0\\lib\\site-packages\\statsmodels\\sandbox\\stats\\multicomp.py:1300: RuntimeWarning: divide by zero encountered in divide\n",
      "  st_range = np.abs(meandiffs) / std_pairs #studentized range statistic\n"
     ]
    }
   ],
   "source": [
    "predicted_values = diffModelFit.predict(grid)\n",
    "print(pd.DataFrame(predicted_values, columns=[\"pred\"])[\"pred\"].unique())\n",
    "# Perform Tukey's HSD test\n",
    "tukey_results = MultiComparison(predicted_values, grid[system_id]).tukeyhsd(\n",
    "    alpha=0.05\n",
    ")\n",
    "\n",
    "# calculate the standard deviation for each pair of groups\n",
    "print(tukey_results.std_pairs)\n",
    "print(tukey_results.summary())\n",
    "print(\"tukey end\")"
   ]
  }
 ],
 "metadata": {
  "kernelspec": {
   "display_name": ".venv_3_10_0",
   "language": "python",
   "name": "python3"
  },
  "language_info": {
   "codemirror_mode": {
    "name": "ipython",
    "version": 3
   },
   "file_extension": ".py",
   "mimetype": "text/x-python",
   "name": "python",
   "nbconvert_exporter": "python",
   "pygments_lexer": "ipython3",
   "version": "3.10.0"
  },
  "orig_nbformat": 4
 },
 "nbformat": 4,
 "nbformat_minor": 2
}
