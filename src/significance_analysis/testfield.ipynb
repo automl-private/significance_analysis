{
 "cells": [
  {
   "cell_type": "code",
   "execution_count": 2,
   "metadata": {},
   "outputs": [
    {
     "name": "stdout",
     "output_type": "stream",
     "text": [
      "Column seed is not of type object\n",
      "(       benchmark prior algorithm  used_fidelity     value seed     bench_prior  normalized_regret  simple_regret  rel_rank\n",
      "0      LC-167190   bad        PB            1.0  0.521580    0   LC-167190_bad           0.980827       0.385148       3.0\n",
      "1      LC-167190   bad        RS            1.0  0.224055    0   LC-167190_bad           0.223142       0.087623       2.0\n",
      "2      LC-167190   bad        HB            1.0  0.216327    0   LC-167190_bad           0.203461       0.079895       1.0\n",
      "3      LC-167190   bad        PB            1.0  0.521580    1   LC-167190_bad           0.980827       0.385148       3.0\n",
      "4      LC-167190   bad        RS            1.0  0.234032    1   LC-167190_bad           0.248550       0.097600       1.0\n",
      "...          ...   ...       ...            ...       ...  ...             ...                ...            ...       ...\n",
      "86395  LC-168330  at25        RS           24.0  0.434290   48  LC-168330_at25           0.321676       0.174381       3.0\n",
      "86396  LC-168330  at25        HB           24.0  0.375750   48  LC-168330_at25           0.213690       0.115842       2.0\n",
      "86397  LC-168330  at25        PB           24.0  0.418794   49  LC-168330_at25           0.293092       0.158886       3.0\n",
      "86398  LC-168330  at25        RS           24.0  0.378503   49  LC-168330_at25           0.218768       0.118594       1.0\n",
      "86399  LC-168330  at25        HB           24.0  0.383334   49  LC-168330_at25           0.227679       0.123425       2.0\n",
      "\n",
      "[86400 rows x 10 columns], ['algorithm', 'seed', 'benchmark', 'value', 'used_fidelity', 'prior'])\n",
      "1e+00      (1/24)\r"
     ]
    },
    {
     "ename": "RRuntimeError",
     "evalue": "Error in (function (n, base = 1, contrasts = TRUE, sparse = FALSE)  : \n  not enough degrees of freedom to define contrasts\n",
     "output_type": "error",
     "traceback": [
      "\u001b[1;31m---------------------------------------------------------------------------\u001b[0m",
      "\u001b[1;31mRRuntimeError\u001b[0m                             Traceback (most recent call last)",
      "Cell \u001b[1;32mIn[2], line 10\u001b[0m\n\u001b[0;32m      8\u001b[0m testset\u001b[38;5;241m=\u001b[39mpd\u001b[38;5;241m.\u001b[39mread_parquet(\u001b[38;5;124m\"\u001b[39m\u001b[38;5;124m../../significance_analysis_example/datasets/fig5/fig5_24_at25_bad_intsteps.parquet\u001b[39m\u001b[38;5;124m\"\u001b[39m)\n\u001b[0;32m      9\u001b[0m \u001b[38;5;28mprint\u001b[39m(dataframe_validator(testset,prior\u001b[38;5;241m=\u001b[39m\u001b[38;5;124m\"\u001b[39m\u001b[38;5;124mprior\u001b[39m\u001b[38;5;124m\"\u001b[39m))\n\u001b[1;32m---> 10\u001b[0m \u001b[43mbenchmark_clustering\u001b[49m\u001b[43m(\u001b[49m\u001b[43mtestset\u001b[49m\u001b[43m,\u001b[49m\u001b[43m[\u001b[49m\u001b[38;5;124;43m\"\u001b[39;49m\u001b[38;5;124;43mHP\u001b[39;49m\u001b[38;5;124;43m\"\u001b[39;49m\u001b[43m,\u001b[49m\u001b[38;5;124;43m\"\u001b[39;49m\u001b[38;5;124;43mPB\u001b[39;49m\u001b[38;5;124;43m\"\u001b[39;49m\u001b[43m]\u001b[49m\u001b[43m,\u001b[49m\u001b[38;5;124;43m\"\u001b[39;49m\u001b[38;5;124;43mprior\u001b[39;49m\u001b[38;5;124;43m\"\u001b[39;49m\u001b[43m)\u001b[49m\n",
      "File \u001b[1;32m~\\Git\\significance_analysis\\src\\significance_analysis\\new_version.py:227\u001b[0m, in \u001b[0;36mbenchmark_clustering\u001b[1;34m(dataset, algorithms, metafeature_var, algorithm_var, benchmark_var, loss_var, fidelity_var, path)\u001b[0m\n\u001b[0;32m    225\u001b[0m     \u001b[38;5;28;01mcontinue\u001b[39;00m\n\u001b[0;32m    226\u001b[0m full_fidelities\u001b[38;5;241m.\u001b[39mappend(f)\n\u001b[1;32m--> 227\u001b[0m mod \u001b[38;5;241m=\u001b[39m \u001b[43mmodel\u001b[49m\u001b[43m(\u001b[49m\n\u001b[0;32m    228\u001b[0m \u001b[43m    \u001b[49m\u001b[38;5;124;43mf\u001b[39;49m\u001b[38;5;124;43m\"\u001b[39;49m\u001b[38;5;132;43;01m{\u001b[39;49;00m\u001b[43mloss_var\u001b[49m\u001b[38;5;132;43;01m}\u001b[39;49;00m\u001b[38;5;124;43m~\u001b[39;49m\u001b[38;5;132;43;01m{\u001b[39;49;00m\u001b[43malgorithm_var\u001b[49m\u001b[38;5;132;43;01m}\u001b[39;49;00m\u001b[38;5;124;43m\"\u001b[39;49m\u001b[43m,\u001b[49m\n\u001b[0;32m    229\u001b[0m \u001b[43m    \u001b[49m\u001b[43mdataset\u001b[49m\u001b[38;5;241;43m.\u001b[39;49m\u001b[43mloc\u001b[49m\u001b[43m[\u001b[49m\u001b[43m(\u001b[49m\u001b[43mdataset\u001b[49m\u001b[43m[\u001b[49m\u001b[43mfidelity_var\u001b[49m\u001b[43m]\u001b[49m\u001b[43m \u001b[49m\u001b[38;5;241;43m==\u001b[39;49m\u001b[43m \u001b[49m\u001b[43mf\u001b[49m\u001b[43m)\u001b[49m\u001b[43m \u001b[49m\u001b[38;5;241;43m&\u001b[39;49m\u001b[43m \u001b[49m\u001b[43m(\u001b[49m\u001b[43mdataset\u001b[49m\u001b[43m[\u001b[49m\u001b[43mbenchmark\u001b[49m\u001b[43m]\u001b[49m\u001b[43m \u001b[49m\u001b[38;5;241;43m==\u001b[39;49m\u001b[43m \u001b[49m\u001b[43mbench\u001b[49m\u001b[43m)\u001b[49m\u001b[43m]\u001b[49m\u001b[43m,\u001b[49m\n\u001b[0;32m    230\u001b[0m \u001b[43m    \u001b[49m\u001b[43malgorithm_var\u001b[49m\u001b[43m,\u001b[49m\n\u001b[0;32m    231\u001b[0m \u001b[43m\u001b[49m\u001b[43m)\u001b[49m\n\u001b[0;32m    232\u001b[0m post_hocs \u001b[38;5;241m=\u001b[39m mod\u001b[38;5;241m.\u001b[39mpost_hoc(algorithm_var)\n\u001b[0;32m    233\u001b[0m \u001b[38;5;28;01mif\u001b[39;00m post_hocs[\u001b[38;5;241m1\u001b[39m]\u001b[38;5;241m.\u001b[39mSig[\u001b[38;5;241m0\u001b[39m] \u001b[38;5;129;01min\u001b[39;00m [\u001b[38;5;124m\"\u001b[39m\u001b[38;5;124m***\u001b[39m\u001b[38;5;124m\"\u001b[39m, \u001b[38;5;124m\"\u001b[39m\u001b[38;5;124m**\u001b[39m\u001b[38;5;124m\"\u001b[39m, \u001b[38;5;124m\"\u001b[39m\u001b[38;5;124m*\u001b[39m\u001b[38;5;124m\"\u001b[39m]:\n",
      "File \u001b[1;32m~\\Git\\significance_analysis\\src\\significance_analysis\\new_version.py:180\u001b[0m, in \u001b[0;36mmodel\u001b[1;34m(formula, data, system_id, factor, dummy, no_warnings)\u001b[0m\n\u001b[0;32m    178\u001b[0m         \u001b[38;5;28;01mfor\u001b[39;00m f \u001b[38;5;129;01min\u001b[39;00m factor:\n\u001b[0;32m    179\u001b[0m             factors[f] \u001b[38;5;241m=\u001b[39m \u001b[38;5;28mlist\u001b[39m(data[f]\u001b[38;5;241m.\u001b[39munique())\n\u001b[1;32m--> 180\u001b[0m \u001b[43mmodel\u001b[49m\u001b[38;5;241;43m.\u001b[39;49m\u001b[43mfit\u001b[49m\u001b[43m(\u001b[49m\n\u001b[0;32m    181\u001b[0m \u001b[43m    \u001b[49m\u001b[43mfactors\u001b[49m\u001b[38;5;241;43m=\u001b[39;49m\u001b[43mfactors\u001b[49m\u001b[43m,\u001b[49m\n\u001b[0;32m    182\u001b[0m \u001b[43m    \u001b[49m\u001b[43mREML\u001b[49m\u001b[38;5;241;43m=\u001b[39;49m\u001b[38;5;28;43;01mFalse\u001b[39;49;00m\u001b[43m,\u001b[49m\n\u001b[0;32m    183\u001b[0m \u001b[43m    \u001b[49m\u001b[43msummarize\u001b[49m\u001b[38;5;241;43m=\u001b[39;49m\u001b[38;5;28;43;01mFalse\u001b[39;49;00m\u001b[43m,\u001b[49m\n\u001b[0;32m    184\u001b[0m \u001b[43m    \u001b[49m\u001b[43mverbose\u001b[49m\u001b[38;5;241;43m=\u001b[39;49m\u001b[38;5;28;43;01mFalse\u001b[39;49;00m\u001b[43m,\u001b[49m\n\u001b[0;32m    185\u001b[0m \u001b[43m    \u001b[49m\u001b[43mno_warnings\u001b[49m\u001b[38;5;241;43m=\u001b[39;49m\u001b[43mno_warnings\u001b[49m\u001b[43m,\u001b[49m\n\u001b[0;32m    186\u001b[0m \u001b[43m\u001b[49m\u001b[43m)\u001b[49m\n\u001b[0;32m    187\u001b[0m \u001b[38;5;28;01mreturn\u001b[39;00m model\n",
      "File \u001b[1;32mc:\\Users\\Amega\\Git\\significance_analysis\\.venv_3_10_0\\lib\\site-packages\\pymer4\\models\\Lmer.py:390\u001b[0m, in \u001b[0;36mLmer.fit\u001b[1;34m(self, conf_int, n_boot, factors, permute, ordered, verbose, REML, rank, rank_group, rank_exclude_cols, no_warnings, control, old_optimizer, **kwargs)\u001b[0m\n\u001b[0;32m    388\u001b[0m         control \u001b[38;5;241m=\u001b[39m \u001b[38;5;124m\"\u001b[39m\u001b[38;5;124moptimizer=\u001b[39m\u001b[38;5;124m'\u001b[39m\u001b[38;5;124mbobyqa\u001b[39m\u001b[38;5;124m'\u001b[39m\u001b[38;5;124m\"\u001b[39m\n\u001b[0;32m    389\u001b[0m \u001b[38;5;28;01mif\u001b[39;00m factors:\n\u001b[1;32m--> 390\u001b[0m     contrasts, dat \u001b[38;5;241m=\u001b[39m \u001b[38;5;28;43mself\u001b[39;49m\u001b[38;5;241;43m.\u001b[39;49m\u001b[43m_make_factors\u001b[49m\u001b[43m(\u001b[49m\u001b[43mfactors\u001b[49m\u001b[43m,\u001b[49m\u001b[43m \u001b[49m\u001b[43mordered\u001b[49m\u001b[43m)\u001b[49m\n\u001b[0;32m    391\u001b[0m \u001b[38;5;28;01melse\u001b[39;00m:\n\u001b[0;32m    392\u001b[0m     contrasts \u001b[38;5;241m=\u001b[39m rinterface\u001b[38;5;241m.\u001b[39mNULL\n",
      "File \u001b[1;32mc:\\Users\\Amega\\Git\\significance_analysis\\.venv_3_10_0\\lib\\site-packages\\pymer4\\models\\Lmer.py:170\u001b[0m, in \u001b[0;36mLmer._make_factors\u001b[1;34m(self, factor_dict, ordered)\u001b[0m\n\u001b[0;32m    167\u001b[0m         con_codes \u001b[38;5;241m=\u001b[39m np\u001b[38;5;241m.\u001b[39marray(stats\u001b[38;5;241m.\u001b[39mcontr_poly(\u001b[38;5;28mlen\u001b[39m(contrasts)))\n\u001b[0;32m    168\u001b[0m     \u001b[38;5;28;01melse\u001b[39;00m:\n\u001b[0;32m    169\u001b[0m         \u001b[38;5;66;03m# Treatment/dummy contrasts\u001b[39;00m\n\u001b[1;32m--> 170\u001b[0m         con_codes \u001b[38;5;241m=\u001b[39m np\u001b[38;5;241m.\u001b[39marray(\u001b[43mstats\u001b[49m\u001b[38;5;241;43m.\u001b[39;49m\u001b[43mcontr_treatment\u001b[49m\u001b[43m(\u001b[49m\u001b[38;5;28;43mlen\u001b[39;49m\u001b[43m(\u001b[49m\u001b[43mcontrasts\u001b[49m\u001b[43m)\u001b[49m\u001b[43m)\u001b[49m)\n\u001b[0;32m    172\u001b[0m     out[factor] \u001b[38;5;241m=\u001b[39m con_codes\n\u001b[0;32m    174\u001b[0m \u001b[38;5;66;03m# Custom contrasts (human readable)\u001b[39;00m\n",
      "File \u001b[1;32mc:\\Users\\Amega\\Git\\significance_analysis\\.venv_3_10_0\\lib\\site-packages\\rpy2\\robjects\\functions.py:208\u001b[0m, in \u001b[0;36mSignatureTranslatedFunction.__call__\u001b[1;34m(self, *args, **kwargs)\u001b[0m\n\u001b[0;32m    206\u001b[0m         v \u001b[38;5;241m=\u001b[39m kwargs\u001b[38;5;241m.\u001b[39mpop(k)\n\u001b[0;32m    207\u001b[0m         kwargs[r_k] \u001b[38;5;241m=\u001b[39m v\n\u001b[1;32m--> 208\u001b[0m \u001b[38;5;28;01mreturn\u001b[39;00m (\u001b[38;5;28msuper\u001b[39m(SignatureTranslatedFunction, \u001b[38;5;28mself\u001b[39m)\n\u001b[0;32m    209\u001b[0m         \u001b[38;5;241m.\u001b[39m\u001b[38;5;21m__call__\u001b[39m(\u001b[38;5;241m*\u001b[39margs, \u001b[38;5;241m*\u001b[39m\u001b[38;5;241m*\u001b[39mkwargs))\n",
      "File \u001b[1;32mc:\\Users\\Amega\\Git\\significance_analysis\\.venv_3_10_0\\lib\\site-packages\\rpy2\\robjects\\functions.py:131\u001b[0m, in \u001b[0;36mFunction.__call__\u001b[1;34m(self, *args, **kwargs)\u001b[0m\n\u001b[0;32m    129\u001b[0m     \u001b[38;5;28;01melse\u001b[39;00m:\n\u001b[0;32m    130\u001b[0m         new_kwargs[k] \u001b[38;5;241m=\u001b[39m cv\u001b[38;5;241m.\u001b[39mpy2rpy(v)\n\u001b[1;32m--> 131\u001b[0m res \u001b[38;5;241m=\u001b[39m \u001b[38;5;28msuper\u001b[39m(Function, \u001b[38;5;28mself\u001b[39m)\u001b[38;5;241m.\u001b[39m\u001b[38;5;21m__call__\u001b[39m(\u001b[38;5;241m*\u001b[39mnew_args, \u001b[38;5;241m*\u001b[39m\u001b[38;5;241m*\u001b[39mnew_kwargs)\n\u001b[0;32m    132\u001b[0m res \u001b[38;5;241m=\u001b[39m cv\u001b[38;5;241m.\u001b[39mrpy2py(res)\n\u001b[0;32m    133\u001b[0m \u001b[38;5;28;01mreturn\u001b[39;00m res\n",
      "File \u001b[1;32mc:\\Users\\Amega\\Git\\significance_analysis\\.venv_3_10_0\\lib\\site-packages\\rpy2\\rinterface_lib\\conversion.py:45\u001b[0m, in \u001b[0;36m_cdata_res_to_rinterface.<locals>._\u001b[1;34m(*args, **kwargs)\u001b[0m\n\u001b[0;32m     44\u001b[0m \u001b[38;5;28;01mdef\u001b[39;00m \u001b[38;5;21m_\u001b[39m(\u001b[38;5;241m*\u001b[39margs, \u001b[38;5;241m*\u001b[39m\u001b[38;5;241m*\u001b[39mkwargs):\n\u001b[1;32m---> 45\u001b[0m     cdata \u001b[38;5;241m=\u001b[39m function(\u001b[38;5;241m*\u001b[39margs, \u001b[38;5;241m*\u001b[39m\u001b[38;5;241m*\u001b[39mkwargs)\n\u001b[0;32m     46\u001b[0m     \u001b[38;5;66;03m# TODO: test cdata is of the expected CType\u001b[39;00m\n\u001b[0;32m     47\u001b[0m     \u001b[38;5;28;01mreturn\u001b[39;00m _cdata_to_rinterface(cdata)\n",
      "File \u001b[1;32mc:\\Users\\Amega\\Git\\significance_analysis\\.venv_3_10_0\\lib\\site-packages\\rpy2\\rinterface.py:873\u001b[0m, in \u001b[0;36mSexpClosure.__call__\u001b[1;34m(self, *args, **kwargs)\u001b[0m\n\u001b[0;32m    866\u001b[0m     res \u001b[38;5;241m=\u001b[39m rmemory\u001b[38;5;241m.\u001b[39mprotect(\n\u001b[0;32m    867\u001b[0m         openrlib\u001b[38;5;241m.\u001b[39mrlib\u001b[38;5;241m.\u001b[39mR_tryEval(\n\u001b[0;32m    868\u001b[0m             call_r,\n\u001b[0;32m    869\u001b[0m             call_context\u001b[38;5;241m.\u001b[39m__sexp__\u001b[38;5;241m.\u001b[39m_cdata,\n\u001b[0;32m    870\u001b[0m             error_occured)\n\u001b[0;32m    871\u001b[0m     )\n\u001b[0;32m    872\u001b[0m     \u001b[38;5;28;01mif\u001b[39;00m error_occured[\u001b[38;5;241m0\u001b[39m]:\n\u001b[1;32m--> 873\u001b[0m         \u001b[38;5;28;01mraise\u001b[39;00m embedded\u001b[38;5;241m.\u001b[39mRRuntimeError(_rinterface\u001b[38;5;241m.\u001b[39m_geterrmessage())\n\u001b[0;32m    874\u001b[0m \u001b[38;5;28;01mreturn\u001b[39;00m res\n",
      "\u001b[1;31mRRuntimeError\u001b[0m: Error in (function (n, base = 1, contrasts = TRUE, sparse = FALSE)  : \n  not enough degrees of freedom to define contrasts\n"
     ]
    }
   ],
   "source": [
    "import pandas as pd\n",
    "import numpy as np\n",
    "import os\n",
    "from significance_analysis.new_version import dataframe_validator,model,glrt,benchmark_clustering\n",
    "\n",
    "\n",
    "\n",
    "testset=pd.read_parquet(\"../../significance_analysis_example/datasets/fig5/fig5_24_at25_bad_intsteps.parquet\")\n",
    "print(dataframe_validator(testset,prior=\"prior\"))\n",
    "benchmark_clustering(testset,[\"HP\",\"PB\"],\"prior\")"
   ]
  }
 ],
 "metadata": {
  "kernelspec": {
   "display_name": ".venv_3_10_0",
   "language": "python",
   "name": "python3"
  },
  "language_info": {
   "codemirror_mode": {
    "name": "ipython",
    "version": 3
   },
   "file_extension": ".py",
   "mimetype": "text/x-python",
   "name": "python",
   "nbconvert_exporter": "python",
   "pygments_lexer": "ipython3",
   "version": "3.10.0"
  }
 },
 "nbformat": 4,
 "nbformat_minor": 2
}
