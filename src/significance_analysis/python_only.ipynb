{
 "cells": [
  {
   "cell_type": "code",
   "execution_count": 13,
   "metadata": {},
   "outputs": [],
   "source": [
    "from tools import model\n",
    "import pandas as pd\n",
    "import numpy as np\n",
    "import statsmodels.api as sm\n",
    "import statsmodels.formula.api as smf"
   ]
  },
  {
   "cell_type": "code",
   "execution_count": 39,
   "metadata": {},
   "outputs": [],
   "source": [
    "data=pd.read_parquet(\"fig5_24_at25_bad_intsteps.parquet\")\n",
    "m=model(formula=\"simple_regret~algorithm+prior+(1|benchmark)\",data=data)"
   ]
  },
  {
   "cell_type": "code",
   "execution_count": 40,
   "metadata": {},
   "outputs": [
    {
     "name": "stdout",
     "output_type": "stream",
     "text": [
      "              X.Intercept.\n",
      "JAHS-C10          2.709106\n",
      "JAHS-CH           2.124731\n",
      "JAHS-FM           0.832468\n",
      "LC-126026        -0.697240\n",
      "LC-167190        -0.651381\n",
      "LC-168330        -0.568522\n",
      "LC-168910        -0.604845\n",
      "LC-189906        -0.647080\n",
      "PD1-Cifar100     -0.572733\n",
      "PD1-ImageNet     -0.629623\n",
      "PD1-LM1B         -0.675560\n",
      "PD1-WMT          -0.619322\n",
      "Linear mixed model fit by maximum likelihood  ['lmerMod']\n",
      "Formula: simple_regret~algorithm+prior+(1|benchmark)\n",
      "\n",
      "Family: gaussian\t Inference: parametric\n",
      "\n",
      "Number of observations: 86400\t Groups: {'benchmark': 12.0}\n",
      "\n",
      "Log-likelihood: -244152.467 \t AIC: 488316.933\n",
      "\n",
      "Random effects:\n",
      "\n",
      "                  Name     Var    Std\n",
      "benchmark  (Intercept)   1.346  1.160\n",
      "Residual                16.658  4.081\n",
      "\n",
      "No random effect correlations specified\n",
      "\n",
      "Fixed effects:\n",
      "\n",
      "             Estimate  2.5_ci  97.5_ci     SE         DF  T-stat  P-val  Sig\n",
      "(Intercept)     0.740   0.081    1.398  0.336     12.124   2.201  0.048    *\n",
      "algorithm1     -0.393  -0.460   -0.327  0.034  86388.000 -11.566  0.000  ***\n",
      "algorithm2     -0.293  -0.360   -0.227  0.034  86388.000  -8.625  0.000  ***\n",
      "priorbad        0.423   0.369    0.478  0.028  86388.000  15.244  0.000  ***\n"
     ]
    }
   ],
   "source": [
    "# print(m.fixef)\n",
    "print(m.ranef)\n",
    "print(m.summary())"
   ]
  },
  {
   "cell_type": "code",
   "execution_count": 41,
   "metadata": {},
   "outputs": [
    {
     "name": "stdout",
     "output_type": "stream",
     "text": [
      "P-values adjusted by tukey method for family of 3 estimates\n",
      "(  algorithm  Estimate  2.5_ci  97.5_ci     SE      DF\n",
      "1        PB     0.951   0.220    1.682  0.336  12.082\n",
      "2        RS     0.558  -0.173    1.289  0.336  12.082\n",
      "3        HB     0.658  -0.073    1.389  0.336  12.082,   Contrast  Estimate  2.5_ci  97.5_ci     SE       DF  T-stat  P-val  Sig\n",
      "1  PB - RS     0.393   0.314    0.473  0.034  86388.0  11.566  0.000  ***\n",
      "2  PB - HB     0.293   0.214    0.373  0.034  86388.0   8.625  0.000  ***\n",
      "3  RS - HB    -0.100  -0.180   -0.020  0.034  86388.0  -2.941  0.009   **)\n"
     ]
    }
   ],
   "source": [
    "print(m.post_hoc(\"algorithm\"))"
   ]
  },
  {
   "cell_type": "code",
   "execution_count": 47,
   "metadata": {},
   "outputs": [
    {
     "name": "stdout",
     "output_type": "stream",
     "text": [
      "            Mixed Linear Model Regression Results\n",
      "=============================================================\n",
      "Model:              MixedLM Dependent Variable: simple_regret\n",
      "No. Observations:   86400   Method:             REML         \n",
      "No. Groups:         12      Scale:              16.6590      \n",
      "Min. group size:    7200    Log-Likelihood:     -244160.3521 \n",
      "Max. group size:    7200    Converged:          Yes          \n",
      "Mean group size:    7200.0                                   \n",
      "-------------------------------------------------------------\n",
      "                   Coef.  Std.Err.   z    P>|z| [0.025 0.975]\n",
      "-------------------------------------------------------------\n",
      "Intercept           0.446    0.353  1.265 0.206 -0.245  1.138\n",
      "C(algorithm)[T.PB]  0.293    0.034  8.624 0.000  0.227  0.360\n",
      "C(algorithm)[T.RS] -0.100    0.034 -2.941 0.003 -0.167 -0.033\n",
      "C(prior)[T.bad]     0.423    0.028 15.244 0.000  0.369  0.478\n",
      "Group Var           1.483    0.157                           \n",
      "=============================================================\n",
      "\n"
     ]
    }
   ],
   "source": [
    "md=smf.mixedlm(\"simple_regret~C(algorithm)+C(prior)\",data,groups=data[\"benchmark\"]).fit()\n",
    "print(md.summary())"
   ]
  },
  {
   "cell_type": "code",
   "execution_count": 48,
   "metadata": {},
   "outputs": [
    {
     "name": "stdout",
     "output_type": "stream",
     "text": [
      "  algorithm prior\n",
      "0        PB   bad\n",
      "1        RS   bad\n",
      "2        HB   bad\n",
      "3        PB  at25\n",
      "4        RS  at25\n",
      "5        HB  at25\n"
     ]
    }
   ],
   "source": [
    "# Step 1: For all factors, create an array containing lists of all unique values of each factor\n",
    "factors=[\"algorithm\",\"prior\"]\n",
    "unique_factors=[data[f].unique() for f in factors]\n",
    "combi_length = 1\n",
    "for sublist in unique_factors:\n",
    "    combi_length *= len(sublist)\n",
    "\n",
    "\n",
    "grid=np.array(np.meshgrid(*unique_factors)).reshape(len(factors),combi_length).T\n",
    "grid=pd.DataFrame(grid, columns = factors)\n",
    "print(grid)"
   ]
  },
  {
   "cell_type": "code",
   "execution_count": 59,
   "metadata": {},
   "outputs": [
    {
     "name": "stdout",
     "output_type": "stream",
     "text": [
      "[[1. 0. 0. 0. 0. 0.]\n",
      " [1. 0. 1. 0. 0. 0.]\n",
      " [1. 1. 0. 0. 0. 0.]\n",
      " [1. 0. 0. 1. 0. 0.]\n",
      " [1. 0. 1. 1. 0. 1.]\n",
      " [1. 1. 0. 1. 1. 0.]]\n",
      "Intercept             0.446291\n",
      "C(algorithm)[T.PB]    0.293340\n",
      "C(algorithm)[T.RS]   -0.100037\n",
      "C(prior)[T.bad]       0.423340\n",
      "dtype: float64\n"
     ]
    },
    {
     "ename": "Exception",
     "evalue": "Dot product shape mismatch, (4,) vs (6, 6)",
     "output_type": "error",
     "traceback": [
      "\u001b[1;31m---------------------------------------------------------------------------\u001b[0m",
      "\u001b[1;31mException\u001b[0m                                 Traceback (most recent call last)",
      "Cell \u001b[1;32mIn[59], line 11\u001b[0m\n\u001b[0;32m      8\u001b[0m \u001b[38;5;28mprint\u001b[39m(betas)\n\u001b[0;32m     10\u001b[0m emmeans\u001b[38;5;241m=\u001b[39mgrid\n\u001b[1;32m---> 11\u001b[0m emmeans[\u001b[38;5;124m\"\u001b[39m\u001b[38;5;124mmeans\u001b[39m\u001b[38;5;124m\"\u001b[39m]\u001b[38;5;241m=\u001b[39m\u001b[43mmat\u001b[49m\u001b[38;5;129;43m@betas\u001b[39;49m\n\u001b[0;32m     12\u001b[0m \u001b[38;5;28mprint\u001b[39m(emmeans)\n",
      "File \u001b[1;32mc:\\Users\\Amega\\Git\\significance_analysis\\.venv_3_10_0\\lib\\site-packages\\pandas\\core\\generic.py:2016\u001b[0m, in \u001b[0;36mNDFrame.__array_ufunc__\u001b[1;34m(self, ufunc, method, *inputs, **kwargs)\u001b[0m\n\u001b[0;32m   2012\u001b[0m \u001b[38;5;129m@final\u001b[39m\n\u001b[0;32m   2013\u001b[0m \u001b[38;5;28;01mdef\u001b[39;00m \u001b[38;5;21m__array_ufunc__\u001b[39m(\n\u001b[0;32m   2014\u001b[0m     \u001b[38;5;28mself\u001b[39m, ufunc: np\u001b[38;5;241m.\u001b[39mufunc, method: \u001b[38;5;28mstr\u001b[39m, \u001b[38;5;241m*\u001b[39minputs: Any, \u001b[38;5;241m*\u001b[39m\u001b[38;5;241m*\u001b[39mkwargs: Any\n\u001b[0;32m   2015\u001b[0m ):\n\u001b[1;32m-> 2016\u001b[0m     \u001b[38;5;28;01mreturn\u001b[39;00m arraylike\u001b[38;5;241m.\u001b[39marray_ufunc(\u001b[38;5;28mself\u001b[39m, ufunc, method, \u001b[38;5;241m*\u001b[39minputs, \u001b[38;5;241m*\u001b[39m\u001b[38;5;241m*\u001b[39mkwargs)\n",
      "File \u001b[1;32mc:\\Users\\Amega\\Git\\significance_analysis\\.venv_3_10_0\\lib\\site-packages\\pandas\\core\\arraylike.py:273\u001b[0m, in \u001b[0;36marray_ufunc\u001b[1;34m(self, ufunc, method, *inputs, **kwargs)\u001b[0m\n\u001b[0;32m    270\u001b[0m kwargs \u001b[38;5;241m=\u001b[39m _standardize_out_kwarg(\u001b[38;5;241m*\u001b[39m\u001b[38;5;241m*\u001b[39mkwargs)\n\u001b[0;32m    272\u001b[0m \u001b[38;5;66;03m# for binary ops, use our custom dunder methods\u001b[39;00m\n\u001b[1;32m--> 273\u001b[0m result \u001b[38;5;241m=\u001b[39m maybe_dispatch_ufunc_to_dunder_op(\u001b[38;5;28mself\u001b[39m, ufunc, method, \u001b[38;5;241m*\u001b[39minputs, \u001b[38;5;241m*\u001b[39m\u001b[38;5;241m*\u001b[39mkwargs)\n\u001b[0;32m    274\u001b[0m \u001b[38;5;28;01mif\u001b[39;00m result \u001b[38;5;129;01mis\u001b[39;00m \u001b[38;5;129;01mnot\u001b[39;00m \u001b[38;5;28mNotImplemented\u001b[39m:\n\u001b[0;32m    275\u001b[0m     \u001b[38;5;28;01mreturn\u001b[39;00m result\n",
      "File \u001b[1;32mc:\\Users\\Amega\\Git\\significance_analysis\\.venv_3_10_0\\lib\\site-packages\\pandas\\_libs\\ops_dispatch.pyx:113\u001b[0m, in \u001b[0;36mpandas._libs.ops_dispatch.maybe_dispatch_ufunc_to_dunder_op\u001b[1;34m()\u001b[0m\n",
      "File \u001b[1;32mc:\\Users\\Amega\\Git\\significance_analysis\\.venv_3_10_0\\lib\\site-packages\\pandas\\core\\series.py:3008\u001b[0m, in \u001b[0;36mSeries.__rmatmul__\u001b[1;34m(self, other)\u001b[0m\n\u001b[0;32m   3004\u001b[0m \u001b[38;5;28;01mdef\u001b[39;00m \u001b[38;5;21m__rmatmul__\u001b[39m(\u001b[38;5;28mself\u001b[39m, other):\n\u001b[0;32m   3005\u001b[0m \u001b[38;5;250m    \u001b[39m\u001b[38;5;124;03m\"\"\"\u001b[39;00m\n\u001b[0;32m   3006\u001b[0m \u001b[38;5;124;03m    Matrix multiplication using binary `@` operator in Python>=3.5.\u001b[39;00m\n\u001b[0;32m   3007\u001b[0m \u001b[38;5;124;03m    \"\"\"\u001b[39;00m\n\u001b[1;32m-> 3008\u001b[0m     \u001b[38;5;28;01mreturn\u001b[39;00m \u001b[38;5;28;43mself\u001b[39;49m\u001b[38;5;241;43m.\u001b[39;49m\u001b[43mdot\u001b[49m\u001b[43m(\u001b[49m\u001b[43mnp\u001b[49m\u001b[38;5;241;43m.\u001b[39;49m\u001b[43mtranspose\u001b[49m\u001b[43m(\u001b[49m\u001b[43mother\u001b[49m\u001b[43m)\u001b[49m\u001b[43m)\u001b[49m\n",
      "File \u001b[1;32mc:\\Users\\Amega\\Git\\significance_analysis\\.venv_3_10_0\\lib\\site-packages\\pandas\\core\\series.py:2983\u001b[0m, in \u001b[0;36mSeries.dot\u001b[1;34m(self, other)\u001b[0m\n\u001b[0;32m   2981\u001b[0m     rvals \u001b[38;5;241m=\u001b[39m np\u001b[38;5;241m.\u001b[39masarray(other)\n\u001b[0;32m   2982\u001b[0m     \u001b[38;5;28;01mif\u001b[39;00m lvals\u001b[38;5;241m.\u001b[39mshape[\u001b[38;5;241m0\u001b[39m] \u001b[38;5;241m!=\u001b[39m rvals\u001b[38;5;241m.\u001b[39mshape[\u001b[38;5;241m0\u001b[39m]:\n\u001b[1;32m-> 2983\u001b[0m         \u001b[38;5;28;01mraise\u001b[39;00m \u001b[38;5;167;01mException\u001b[39;00m(\n\u001b[0;32m   2984\u001b[0m             \u001b[38;5;124mf\u001b[39m\u001b[38;5;124m\"\u001b[39m\u001b[38;5;124mDot product shape mismatch, \u001b[39m\u001b[38;5;132;01m{\u001b[39;00mlvals\u001b[38;5;241m.\u001b[39mshape\u001b[38;5;132;01m}\u001b[39;00m\u001b[38;5;124m vs \u001b[39m\u001b[38;5;132;01m{\u001b[39;00mrvals\u001b[38;5;241m.\u001b[39mshape\u001b[38;5;132;01m}\u001b[39;00m\u001b[38;5;124m\"\u001b[39m\n\u001b[0;32m   2985\u001b[0m         )\n\u001b[0;32m   2987\u001b[0m \u001b[38;5;28;01mif\u001b[39;00m \u001b[38;5;28misinstance\u001b[39m(other, ABCDataFrame):\n\u001b[0;32m   2988\u001b[0m     \u001b[38;5;28;01mreturn\u001b[39;00m \u001b[38;5;28mself\u001b[39m\u001b[38;5;241m.\u001b[39m_constructor(\n\u001b[0;32m   2989\u001b[0m         np\u001b[38;5;241m.\u001b[39mdot(lvals, rvals), index\u001b[38;5;241m=\u001b[39mother\u001b[38;5;241m.\u001b[39mcolumns, copy\u001b[38;5;241m=\u001b[39m\u001b[38;5;28;01mFalse\u001b[39;00m\n\u001b[0;32m   2990\u001b[0m     )\u001b[38;5;241m.\u001b[39m__finalize__(\u001b[38;5;28mself\u001b[39m, method\u001b[38;5;241m=\u001b[39m\u001b[38;5;124m\"\u001b[39m\u001b[38;5;124mdot\u001b[39m\u001b[38;5;124m\"\u001b[39m)\n",
      "\u001b[1;31mException\u001b[0m: Dot product shape mismatch, (4,) vs (6, 6)"
     ]
    }
   ],
   "source": [
    "# Step 2: Calculate the estimated marginal means for each factor combination\n",
    "\n",
    "from patsy import dmatrix\n",
    "\n",
    "mat=dmatrix(\"C(algorithm,Treatment(1))*C(prior,Treatment(1))\",grid,return_type=\"matrix\")\n",
    "print(mat)\n",
    "betas=md.fe_params\n",
    "print(betas)\n",
    "\n",
    "emmeans=grid\n",
    "emmeans[\"means\"]=mat@betas\n",
    "print(emmeans)"
   ]
  }
 ],
 "metadata": {
  "kernelspec": {
   "display_name": ".venv_3_10_0",
   "language": "python",
   "name": "python3"
  },
  "language_info": {
   "codemirror_mode": {
    "name": "ipython",
    "version": 3
   },
   "file_extension": ".py",
   "mimetype": "text/x-python",
   "name": "python",
   "nbconvert_exporter": "python",
   "pygments_lexer": "ipython3",
   "version": "3.10.0"
  }
 },
 "nbformat": 4,
 "nbformat_minor": 2
}
